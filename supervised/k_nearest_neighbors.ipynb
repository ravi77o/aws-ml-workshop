{
 "cells": [
  {
   "cell_type": "markdown",
   "metadata": {},
   "source": [
    "# Anomaly Detection\n",
    "Given a set of similated financial transaction data, develop a model to flag individual transactions for likely fraudulent activity."
   ]
  },
  {
   "cell_type": "markdown",
   "metadata": {},
   "source": [
    "## Data Import\n",
    "\n",
    "Prep libraries and load raw data that was previously uploaded to S3 into current working session."
   ]
  },
  {
   "cell_type": "code",
   "execution_count": 91,
   "metadata": {},
   "outputs": [],
   "source": [
    "import pandas as pd\n",
    "import boto3\n",
    "import numpy as np\n",
    "import seaborn as sns\n",
    "import os\n",
    "\n",
    "from scipy import stats\n",
    "import matplotlib.pyplot as plt\n",
    "from sklearn.metrics import f1_score, accuracy_score\n",
    "import time"
   ]
  },
  {
   "cell_type": "code",
   "execution_count": 36,
   "metadata": {},
   "outputs": [],
   "source": [
    "bucket = 'anomaly-credit-cards'\n",
    "prefix = 'knn'\n",
    "output_prefix = prefix\n",
    "\n",
    "s3 = boto3.Session().resource('s3')\n",
    "s3.Bucket('anomaly-credit-cards').download_file('paysim1.zip', 'data.zip')"
   ]
  },
  {
   "cell_type": "code",
   "execution_count": 6,
   "metadata": {},
   "outputs": [
    {
     "name": "stdout",
     "output_type": "stream",
     "text": [
      "Archive:  data.zip\n",
      "  inflating: PS_20174392719_1491204439457_log.csv  \n"
     ]
    }
   ],
   "source": [
    "!unzip data.zip"
   ]
  },
  {
   "cell_type": "code",
   "execution_count": 10,
   "metadata": {},
   "outputs": [],
   "source": [
    "!mv *_log.csv data.csv"
   ]
  },
  {
   "cell_type": "code",
   "execution_count": 26,
   "metadata": {},
   "outputs": [
    {
     "name": "stdout",
     "output_type": "stream",
     "text": [
      "   step      type    amount     nameOrig  oldbalanceOrg  newbalanceOrig  \\\n",
      "0     1   PAYMENT   9839.64  C1231006815       170136.0       160296.36   \n",
      "1     1   PAYMENT   1864.28  C1666544295        21249.0        19384.72   \n",
      "2     1  TRANSFER    181.00  C1305486145          181.0            0.00   \n",
      "3     1  CASH_OUT    181.00   C840083671          181.0            0.00   \n",
      "4     1   PAYMENT  11668.14  C2048537720        41554.0        29885.86   \n",
      "\n",
      "      nameDest  oldbalanceDest  newbalanceDest  isFraud  isFlaggedFraud  \n",
      "0  M1979787155             0.0             0.0        0               0  \n",
      "1  M2044282225             0.0             0.0        0               0  \n",
      "2   C553264065             0.0             0.0        1               0  \n",
      "3    C38997010         21182.0             0.0        1               0  \n",
      "4  M1230701703             0.0             0.0        0               0  \n"
     ]
    }
   ],
   "source": [
    "df = pd.read_csv('data.csv')\n",
    "print(df.head())"
   ]
  },
  {
   "cell_type": "markdown",
   "metadata": {},
   "source": [
    "## Feature Engineering\n",
    "\n",
    "The type field only has 4 categories, so we'll definitely do some one hot encoding on that.\n",
    "\n",
    "The origin and destination names aren't discrete categories, but may be worth flagging high-activity accounts.  The overall fraud rate in the data set is roughly 1 in 775 cases, so heavy drivers should be pretty rare.  Can we find a visible drop-off somewhere in the top 5% most common accounts?"
   ]
  },
  {
   "cell_type": "code",
   "execution_count": null,
   "metadata": {},
   "outputs": [],
   "source": [
    "cutoff = int(len(df.index)*0.05)\n",
    "print('Cutoff is '+str(cutoff))\n",
    "orig_counts = df['nameOrig'].value_counts()[:cutoff]"
   ]
  },
  {
   "cell_type": "code",
   "execution_count": 8,
   "metadata": {},
   "outputs": [
    {
     "name": "stdout",
     "output_type": "stream",
     "text": [
      "C545315117     3\n",
      "C1065307291    3\n",
      "C2051359467    3\n",
      "C1999539787    3\n",
      "C363736674     3\n",
      "C1976208114    3\n",
      "C1530544995    3\n",
      "C1677795071    3\n",
      "C724452879     3\n",
      "C1832548028    3\n",
      "C1902386530    3\n",
      "C1462946854    3\n",
      "C400299098     3\n",
      "C1784010646    3\n",
      "C2098525306    3\n",
      "C1119060051    2\n",
      "C1541715508    2\n",
      "C435002653     2\n",
      "C1909645447    2\n",
      "C1341083738    2\n",
      "C297700036     2\n",
      "C1926119720    2\n",
      "C1921127999    2\n",
      "C944841858     2\n",
      "C763156609     2\n",
      "C165632088     2\n",
      "C1789828014    2\n",
      "C1604096347    2\n",
      "C962758787     2\n",
      "C337535091     2\n",
      "              ..\n",
      "C176846586     1\n",
      "C732360133     1\n",
      "C163453463     1\n",
      "C1399117318    1\n",
      "C1969970778    1\n",
      "C759231075     1\n",
      "C205156757     1\n",
      "C838506983     1\n",
      "C1355126358    1\n",
      "C729335958     1\n",
      "C95165866      1\n",
      "C764707841     1\n",
      "C1732951589    1\n",
      "C334098160     1\n",
      "C1954036976    1\n",
      "C1797248012    1\n",
      "C566610816     1\n",
      "C1440828139    1\n",
      "C433389061     1\n",
      "C238431646     1\n",
      "C1011261111    1\n",
      "C1663485546    1\n",
      "C932481949     1\n",
      "C498354044     1\n",
      "C776107744     1\n",
      "C1934934372    1\n",
      "C1366331550    1\n",
      "C1493394574    1\n",
      "C458563825     1\n",
      "C1274202054    1\n",
      "Name: nameOrig, Length: 318131, dtype: int64\n"
     ]
    }
   ],
   "source": [
    "print(orig_counts)"
   ]
  },
  {
   "cell_type": "code",
   "execution_count": 9,
   "metadata": {},
   "outputs": [
    {
     "name": "stdout",
     "output_type": "stream",
     "text": [
      "C1286084959    113\n",
      "C985934102     109\n",
      "C665576141     105\n",
      "C2083562754    102\n",
      "C1590550415    101\n",
      "C248609774     101\n",
      "C1789550256     99\n",
      "C451111351      99\n",
      "C1360767589     98\n",
      "C1023714065     97\n",
      "C977993101      96\n",
      "C97730845       96\n",
      "C392292416      95\n",
      "C1899073220     92\n",
      "C306206744      91\n",
      "C1782113663     90\n",
      "C1234776885     90\n",
      "C998351292      89\n",
      "C716083600      89\n",
      "C909295153      88\n",
      "C667346055      86\n",
      "C1674899618     86\n",
      "C1262822392     85\n",
      "C453211571      84\n",
      "C1255024717     84\n",
      "C1816757085     84\n",
      "C2006081398     83\n",
      "C932583850      82\n",
      "C991363637      82\n",
      "C1504109395     82\n",
      "              ... \n",
      "C253277468       4\n",
      "C2057368166      4\n",
      "C1789014986      4\n",
      "C202553345       4\n",
      "C505476967       4\n",
      "C741108693       4\n",
      "C119525783       4\n",
      "C795744917       4\n",
      "C435534972       4\n",
      "C1487629747      4\n",
      "C953293469       4\n",
      "C1836871228      4\n",
      "C867568334       4\n",
      "C1563231153      4\n",
      "C1607385625      4\n",
      "C244339910       4\n",
      "C151600596       4\n",
      "C2084319523      4\n",
      "C400435865       4\n",
      "C2129614553      4\n",
      "C31115617        4\n",
      "C1487309848      4\n",
      "C369425603       4\n",
      "C589494700       4\n",
      "C1733686711      4\n",
      "C1958262842      4\n",
      "C778287848       4\n",
      "C617760458       4\n",
      "C1346420698      4\n",
      "C1943425146      4\n",
      "Name: nameDest, Length: 318131, dtype: int64\n"
     ]
    }
   ],
   "source": [
    "dest_counts = df['nameDest'].value_counts()[:cutoff]\n",
    "print(dest_counts)"
   ]
  },
  {
   "cell_type": "code",
   "execution_count": 14,
   "metadata": {},
   "outputs": [
    {
     "data": {
      "text/plain": [
       "<matplotlib.axes._subplots.AxesSubplot at 0x7fae88fff470>"
      ]
     },
     "execution_count": 14,
     "metadata": {},
     "output_type": "execute_result"
    },
    {
     "data": {
      "image/png": "[encoded data removed]",
      "text/plain": [
       "<Figure size 432x288 with 1 Axes>"
      ]
     },
     "metadata": {},
     "output_type": "display_data"
    }
   ],
   "source": [
    "dest_counts[:int(cutoff*0.01)].plot(kind='barh')"
   ]
  },
  {
   "cell_type": "markdown",
   "metadata": {},
   "source": [
    "Looks like origins rarely repeat, so that can probably be dropped completely.  The destination does drop off pretty heavily by that 5% mark.  Maybe flagging anyone who appears >60x?\n",
    "\n",
    "Also, the amount, old balance, and new balance are redundant.  We can drop the new balance columns and still have complete information.\n",
    "\n",
    "Finally, the step column (our proxy for the progression of time) probably won't apply in single-transaction checks later, so I'll try to live without it."
   ]
  },
  {
   "cell_type": "code",
   "execution_count": 28,
   "metadata": {},
   "outputs": [
    {
     "name": "stdout",
     "output_type": "stream",
     "text": [
      "   step      type    amount     nameOrig  oldbalanceOrg  newbalanceOrig  \\\n",
      "0     1   PAYMENT   9839.64  C1231006815       170136.0       160296.36   \n",
      "1     1   PAYMENT   1864.28  C1666544295        21249.0        19384.72   \n",
      "2     1  TRANSFER    181.00  C1305486145          181.0            0.00   \n",
      "3     1  CASH_OUT    181.00   C840083671          181.0            0.00   \n",
      "4     1   PAYMENT  11668.14  C2048537720        41554.0        29885.86   \n",
      "\n",
      "      nameDest  oldbalanceDest  newbalanceDest  isFraud  isFlaggedFraud  \\\n",
      "0  M1979787155             0.0             0.0        0               0   \n",
      "1  M2044282225             0.0             0.0        0               0   \n",
      "2   C553264065             0.0             0.0        1               0   \n",
      "3    C38997010         21182.0             0.0        1               0   \n",
      "4  M1230701703             0.0             0.0        0               0   \n",
      "\n",
      "   repeatDest  \n",
      "0           0  \n",
      "1           0  \n",
      "2           0  \n",
      "3           0  \n",
      "4           0  \n",
      "     amount  oldbalanceOrg  oldbalanceDest  isFraud  isFlaggedFraud  \\\n",
      "0   9839.64       170136.0             0.0        0               0   \n",
      "1   1864.28        21249.0             0.0        0               0   \n",
      "2    181.00          181.0             0.0        1               0   \n",
      "3    181.00          181.0         21182.0        1               0   \n",
      "4  11668.14        41554.0             0.0        0               0   \n",
      "\n",
      "   repeatDest  type_CASH_IN  type_CASH_OUT  type_DEBIT  type_PAYMENT  \\\n",
      "0           0             0              0           0             1   \n",
      "1           0             0              0           0             1   \n",
      "2           0             0              0           0             0   \n",
      "3           0             0              1           0             0   \n",
      "4           0             0              0           0             1   \n",
      "\n",
      "   type_TRANSFER  \n",
      "0              0  \n",
      "1              0  \n",
      "2              1  \n",
      "3              0  \n",
      "4              0  \n"
     ]
    }
   ],
   "source": [
    "df['repeatDest'] = np.where(dest_counts[df['nameOrig']] > 60, 1, 0)\n",
    "print(df.head())\n",
    "model_data = pd.get_dummies(df.drop(['nameOrig', 'nameDest', 'newbalanceOrig', 'newbalanceDest', 'step'], axis=1))\n",
    "print(model_data.head())"
   ]
  },
  {
   "cell_type": "markdown",
   "metadata": {},
   "source": [
    "Now that there's some reasonably clean data, let's split it up and prep for training."
   ]
  },
  {
   "cell_type": "code",
   "execution_count": null,
   "metadata": {},
   "outputs": [],
   "source": [
    "train_data, test_data = np.split(model_data.sample(frac=1, random_state=1729), [int(0.9 * len(model_data))])\n",
    "\n",
    "pd.concat([train_data['isFraud'], train_data.drop(['isFraud'], axis=1)], axis=1).to_csv('train.csv', index=False, header=False)\n",
    "pd.concat([test_data['isFraud'], test_data.drop(['isFraud'], axis=1)], axis=1).to_csv('test.csv', index=False, header=False)"
   ]
  },
  {
   "cell_type": "code",
   "execution_count": 32,
   "metadata": {},
   "outputs": [],
   "source": [
    "boto3.Session().resource('s3').Bucket(bucket).Object(os.path.join(output_prefix, 'train/train.csv')).upload_file('train.csv')\n",
    "boto3.Session().resource('s3').Bucket(bucket).Object(os.path.join(output_prefix, 'test/test.csv')).upload_file('test.csv')"
   ]
  },
  {
   "cell_type": "markdown",
   "metadata": {},
   "source": [
    "## Tune a K-Nearest Neighbor Model\n",
    "\n",
    "### Train and Predict\n",
    "\n",
    "We need to build a KNN estimator and train it up on our training data.  Then we need to evaluate its performance based on our testing data.  The estimator will be classify as fraud or not-fraud."
   ]
  },
  {
   "cell_type": "code",
   "execution_count": 43,
   "metadata": {},
   "outputs": [],
   "source": [
    "## Ripped from the Sagemaker k_nearest_neighbors_covtype example\n",
    "\n",
    "import matplotlib.pyplot as plt\n",
    "\n",
    "import sagemaker\n",
    "from sagemaker import get_execution_role\n",
    "from sagemaker.predictor import csv_serializer, json_deserializer\n",
    "from sagemaker.amazon.amazon_estimator import get_image_uri\n",
    "\n",
    "s3_train_data = sagemaker.s3_input(s3_data='s3://{}/{}/train'.format(bucket, prefix), content_type='text/csv')\n",
    "s3_test_data = sagemaker.s3_input(s3_data='s3://{}/{}/test/'.format(bucket, prefix), content_type='text/csv')\n",
    "\n",
    "def trained_estimator_from_hyperparams(s3_train_data, hyperparams, output_path, s3_test_data=None):\n",
    "    \"\"\"\n",
    "    Create an Estimator from the given hyperparams, fit to training data, \n",
    "    and return a deployed predictor\n",
    "    \n",
    "    \"\"\"\n",
    "\n",
    "    # set up the estimator, split it across a few instances since the dataset is large-ish\n",
    "    knn = sagemaker.estimator.Estimator(get_image_uri(boto3.Session().region_name, \"knn\"),\n",
    "        get_execution_role(),\n",
    "        train_instance_count=4,\n",
    "        train_instance_type='ml.m4.xlarge',\n",
    "        output_path=output_path,\n",
    "        sagemaker_session=sagemaker.Session())\n",
    "    knn.set_hyperparameters(**hyperparams)\n",
    "    \n",
    "    # train a model. fit_input contains the locations of the train and test data\n",
    "    fit_input = {'train': s3_train_data}\n",
    "    if s3_test_data is not None:\n",
    "        fit_input['test'] = s3_test_data\n",
    "    knn.fit(fit_input)\n",
    "    return knn"
   ]
  },
  {
   "cell_type": "code",
   "execution_count": 35,
   "metadata": {},
   "outputs": [],
   "source": [
    "def predictor_from_hyperparams(knn_estimator, estimator_name, instance_type, endpoint_name=None): \n",
    "    knn_predictor = knn_estimator.deploy(initial_instance_count=1, instance_type=instance_type,\n",
    "                                        endpoint_name=endpoint_name)\n",
    "    knn_predictor.content_type = 'text/csv'\n",
    "    knn_predictor.serializer = csv_serializer\n",
    "    knn_predictor.deserializer = json_deserializer\n",
    "    return knn_predictor"
   ]
  },
  {
   "cell_type": "markdown",
   "metadata": {},
   "source": [
    "### Building Jobs\n",
    "\n",
    "Given the relative scarcity of fraudulent transactions, we'll probably need to use a fairly large sample size in order to avoid the possibility of generating samples with no fraud at all.\n",
    "\n",
    "We'll also look at two different FAISS indexes: FlatL2 for exact results and a clustered flat to see if we can get some performance boost without sacrificing accuracy.  Since we're looking at aroun 6M vectors and I'm willing to work on without a GPU, [Facebook's Guidelines](https://github.com/facebookresearch/faiss/wiki/Guidelines-to-choose-an-index) would suggest `IVF65536_HNSW32,Flat`. We'll go with the general `IVFFlat`, keep the defaults for the related hyperparams, and let the engine decide."
   ]
  },
  {
   "cell_type": "code",
   "execution_count": 44,
   "metadata": {},
   "outputs": [
    {
     "name": "stderr",
     "output_type": "stream",
     "text": [
      "INFO:sagemaker:Creating training-job with name: knn-2018-12-20-19-34-15-131\n"
     ]
    },
    {
     "name": "stdout",
     "output_type": "stream",
     "text": [
      "2018-12-20 19:34:15 Starting - Starting the training job...\n",
      "2018-12-20 19:34:18 Starting - Launching requested ML instances......\n",
      "2018-12-20 19:35:22 Starting - Preparing the instances for training.........\n",
      "2018-12-20 19:37:06 Downloading - Downloading input data...\n",
      "2018-12-20 19:37:32 Training - Training image download completed. Training in progress.\n",
      "\u001b[34mDocker entrypoint called with argument(s): train\u001b[0m\n",
      "\u001b[33mDocker entrypoint called with argument(s): train\u001b[0m\n",
      "\u001b[34m[12/20/2018 19:37:33 INFO 140152469702464] Reading default configuration from /opt/amazon/lib/python2.7/site-packages/algorithm/resources/default-conf.json: {u'index_metric': u'L2', u'_tuning_objective_metric': u'', u'_num_gpus': u'auto', u'_log_level': u'info', u'faiss_index_ivf_nlists': u'auto', u'epochs': u'1', u'index_type': u'faiss.Flat', u'_faiss_index_nprobe': u'5', u'_kvstore': u'dist_async', u'_num_kv_servers': u'1', u'mini_batch_size': u'5000'}\u001b[0m\n",
      "\u001b[34m[12/20/2018 19:37:33 INFO 140152469702464] Reading provided configuration from /opt/ml/input/config/hyperparameters.json: {u'sample_size': u'1000000', u'feature_dim': u'10', u'k': u'100', u'predictor_type': u'classifier'}\u001b[0m\n",
      "\u001b[34m[12/20/2018 19:37:33 INFO 140152469702464] Final configuration: {u'index_metric': u'L2', u'predictor_type': u'classifier', u'_tuning_objective_metric': u'', u'_num_gpus': u'auto', u'_log_level': u'info', u'feature_dim': u'10', u'faiss_index_ivf_nlists': u'auto', u'sample_size': u'1000000', u'epochs': u'1', u'index_type': u'faiss.Flat', u'_faiss_index_nprobe': u'5', u'_kvstore': u'dist_async', u'_num_kv_servers': u'1', u'mini_batch_size': u'5000', u'k': u'100'}\u001b[0m\n",
      "\u001b[34m[12/20/2018 19:37:33 WARNING 140152469702464] Loggers have already been setup.\u001b[0m\n",
      "\u001b[31mDocker entrypoint called with argument(s): train\u001b[0m\n",
      "\u001b[31m[12/20/2018 19:37:34 INFO 140117548812096] Reading default configuration from /opt/amazon/lib/python2.7/site-packages/algorithm/resources/default-conf.json: {u'index_metric': u'L2', u'_tuning_objective_metric': u'', u'_num_gpus': u'auto', u'_log_level': u'info', u'faiss_index_ivf_nlists': u'auto', u'epochs': u'1', u'index_type': u'faiss.Flat', u'_faiss_index_nprobe': u'5', u'_kvstore': u'dist_async', u'_num_kv_servers': u'1', u'mini_batch_size': u'5000'}\u001b[0m\n",
      "\u001b[31m[12/20/2018 19:37:34 INFO 140117548812096] Reading provided configuration from /opt/ml/input/config/hyperparameters.json: {u'sample_size': u'1000000', u'feature_dim': u'10', u'k': u'100', u'predictor_type': u'classifier'}\u001b[0m\n",
      "\u001b[31m[12/20/2018 19:37:34 INFO 140117548812096] Final configuration: {u'index_metric': u'L2', u'predictor_type': u'classifier', u'_tuning_objective_metric': u'', u'_num_gpus': u'auto', u'_log_level': u'info', u'feature_dim': u'10', u'faiss_index_ivf_nlists': u'auto', u'sample_size': u'1000000', u'epochs': u'1', u'index_type': u'faiss.Flat', u'_faiss_index_nprobe': u'5', u'_kvstore': u'dist_async', u'_num_kv_servers': u'1', u'mini_batch_size': u'5000', u'k': u'100'}\u001b[0m\n",
      "\u001b[31m[12/20/2018 19:37:34 WARNING 140117548812096] Loggers have already been setup.\u001b[0m\n",
      "\u001b[31m[12/20/2018 19:37:34 INFO 140117548812096] Launching parameter server for role scheduler\u001b[0m\n",
      "\u001b[31m[12/20/2018 19:37:34 INFO 140117548812096] {'ECS_CONTAINER_METADATA_URI': 'http://169.254.170.2/v3/654b8b14-b13e-484b-9f96-07540763453b', 'PROTOCOL_BUFFERS_PYTHON_IMPLEMENTATION_VERSION': '2', 'PATH': '/opt/amazon/bin:/usr/local/nvidia/bin:/usr/local/sbin:/usr/local/bin:/usr/sbin:/usr/bin:/sbin:/bin:/opt/amazon/bin:/opt/amazon/bin', 'SAGEMAKER_HTTP_PORT': '8080', 'HOME': '/root', 'PYTHONUNBUFFERED': 'TRUE', 'CANONICAL_ENVROOT': '/opt/amazon', 'LD_LIBRARY_PATH': '/usr/local/nvidia/lib64:/opt/amazon/lib', 'LANG': 'en_US.utf8', 'DMLC_INTERFACE': 'ethwe', 'SHLVL': '1', 'AWS_REGION': 'us-east-1', 'NVIDIA_VISIBLE_DEVICES': 'all', 'TRAINING_JOB_NAME': 'knn-2018-12-20-19-34-15-131', 'PROTOCOL_BUFFERS_PYTHON_IMPLEMENTATION': 'cpp', 'ENVROOT': '/opt/amazon', 'SAGEMAKER_DATA_PATH': '/opt/ml', 'NVIDIA_DRIVER_CAPABILITIES': 'compute,utility', 'NVIDIA_REQUIRE_CUDA': 'cuda>=9.0', 'OMP_NUM_THREADS': '2', 'HOSTNAME': 'aws', 'AWS_CONTAINER_CREDENTIALS_RELATIVE_URI': '/v2/credentials/dc1a76f6-c2df-4c8b-9c8f-abddf721cb45', 'PWD': '/', 'AWS_EXECUTION_ENV': 'AWS_ECS_EC2'}\u001b[0m\n",
      "\u001b[31m[12/20/2018 19:37:34 INFO 140117548812096] envs={'ECS_CONTAINER_METADATA_URI': 'http://169.254.170.2/v3/654b8b14-b13e-484b-9f96-07540763453b', 'PROTOCOL_BUFFERS_PYTHON_IMPLEMENTATION_VERSION': '2', 'DMLC_NUM_WORKER': '4', 'DMLC_PS_ROOT_PORT': '9000', 'PATH': '/opt/amazon/bin:/usr/local/nvidia/bin:/usr/local/sbin:/usr/local/bin:/usr/sbin:/usr/bin:/sbin:/bin:/opt/amazon/bin:/opt/amazon/bin', 'SAGEMAKER_HTTP_PORT': '8080', 'HOME': '/root', 'PYTHONUNBUFFERED': 'TRUE', 'CANONICAL_ENVROOT': '/opt/amazon', 'LD_LIBRARY_PATH': '/usr/local/nvidia/lib64:/opt/amazon/lib', 'LANG': 'en_US.utf8', 'DMLC_INTERFACE': 'ethwe', 'SHLVL': '1', 'DMLC_PS_ROOT_URI': '10.40.0.4', 'AWS_REGION': 'us-east-1', 'NVIDIA_VISIBLE_DEVICES': 'all', 'TRAINING_JOB_NAME': 'knn-2018-12-20-19-34-15-131', 'PROTOCOL_BUFFERS_PYTHON_IMPLEMENTATION': 'cpp', 'ENVROOT': '/opt/amazon', 'SAGEMAKER_DATA_PATH': '/opt/ml', 'NVIDIA_DRIVER_CAPABILITIES': 'compute,utility', 'NVIDIA_REQUIRE_CUDA': 'cuda>=9.0', 'OMP_NUM_THREADS': '2', 'HOSTNAME': 'aws', 'AWS_CONTAINER_CREDENTIALS_RELATIVE_URI': '/v2/credentials/dc1a76f6-c2df-4c8b-9c8f-abddf721cb45', 'DMLC_ROLE': 'scheduler', 'PWD': '/', 'DMLC_NUM_SERVER': '1', 'AWS_EXECUTION_ENV': 'AWS_ECS_EC2'}\u001b[0m\n",
      "\u001b[31m[12/20/2018 19:37:34 INFO 140117548812096] Launching parameter server for role server\u001b[0m\n",
      "\u001b[31m[12/20/2018 19:37:34 INFO 140117548812096] {'ECS_CONTAINER_METADATA_URI': 'http://169.254.170.2/v3/654b8b14-b13e-484b-9f96-07540763453b', 'PROTOCOL_BUFFERS_PYTHON_IMPLEMENTATION_VERSION': '2', 'PATH': '/opt/amazon/bin:/usr/local/nvidia/bin:/usr/local/sbin:/usr/local/bin:/usr/sbin:/usr/bin:/sbin:/bin:/opt/amazon/bin:/opt/amazon/bin', 'SAGEMAKER_HTTP_PORT': '8080', 'HOME': '/root', 'PYTHONUNBUFFERED': 'TRUE', 'CANONICAL_ENVROOT': '/opt/amazon', 'LD_LIBRARY_PATH': '/usr/local/nvidia/lib64:/opt/amazon/lib', 'LANG': 'en_US.utf8', 'DMLC_INTERFACE': 'ethwe', 'SHLVL': '1', 'AWS_REGION': 'us-east-1', 'NVIDIA_VISIBLE_DEVICES': 'all', 'TRAINING_JOB_NAME': 'knn-2018-12-20-19-34-15-131', 'PROTOCOL_BUFFERS_PYTHON_IMPLEMENTATION': 'cpp', 'ENVROOT': '/opt/amazon', 'SAGEMAKER_DATA_PATH': '/opt/ml', 'NVIDIA_DRIVER_CAPABILITIES': 'compute,utility', 'NVIDIA_REQUIRE_CUDA': 'cuda>=9.0', 'OMP_NUM_THREADS': '2', 'HOSTNAME': 'aws', 'AWS_CONTAINER_CREDENTIALS_RELATIVE_URI': '/v2/credentials/dc1a76f6-c2df-4c8b-9c8f-abddf721cb45', 'PWD': '/', 'AWS_EXECUTION_ENV': 'AWS_ECS_EC2'}\u001b[0m\n",
      "\u001b[31m[12/20/2018 19:37:34 INFO 140117548812096] envs={'ECS_CONTAINER_METADATA_URI': 'http://169.254.170.2/v3/654b8b14-b13e-484b-9f96-07540763453b', 'PROTOCOL_BUFFERS_PYTHON_IMPLEMENTATION_VERSION': '2', 'DMLC_NUM_WORKER': '4', 'DMLC_PS_ROOT_PORT': '9000', 'PATH': '/opt/amazon/bin:/usr/local/nvidia/bin:/usr/local/sbin:/usr/local/bin:/usr/sbin:/usr/bin:/sbin:/bin:/opt/amazon/bin:/opt/amazon/bin', 'SAGEMAKER_HTTP_PORT': '8080', 'HOME': '/root', 'PYTHONUNBUFFERED': 'TRUE', 'CANONICAL_ENVROOT': '/opt/amazon', 'LD_LIBRARY_PATH': '/usr/local/nvidia/lib64:/opt/amazon/lib', 'LANG': 'en_US.utf8', 'DMLC_INTERFACE': 'ethwe', 'SHLVL': '1', 'DMLC_PS_ROOT_URI': '10.40.0.4', 'AWS_REGION': 'us-east-1', 'NVIDIA_VISIBLE_DEVICES': 'all', 'TRAINING_JOB_NAME': 'knn-2018-12-20-19-34-15-131', 'PROTOCOL_BUFFERS_PYTHON_IMPLEMENTATION': 'cpp', 'ENVROOT': '/opt/amazon', 'SAGEMAKER_DATA_PATH': '/opt/ml', 'NVIDIA_DRIVER_CAPABILITIES': 'compute,utility', 'NVIDIA_REQUIRE_CUDA': 'cuda>=9.0', 'OMP_NUM_THREADS': '2', 'HOSTNAME': 'aws', 'AWS_CONTAINER_CREDENTIALS_RELATIVE_URI': '/v2/credentials/dc1a76f6-c2df-4c8b-9c8f-abddf721cb45', 'DMLC_ROLE': 'server', 'PWD': '/', 'DMLC_NUM_SERVER': '1', 'AWS_EXECUTION_ENV': 'AWS_ECS_EC2'}\u001b[0m\n",
      "\u001b[31m[12/20/2018 19:37:34 INFO 140117548812096] Environment: {'ECS_CONTAINER_METADATA_URI': 'http://169.254.170.2/v3/654b8b14-b13e-484b-9f96-07540763453b', 'PROTOCOL_BUFFERS_PYTHON_IMPLEMENTATION_VERSION': '2', 'DMLC_PS_ROOT_PORT': '9000', 'DMLC_NUM_WORKER': '4', 'SAGEMAKER_HTTP_PORT': '8080', 'PATH': '/opt/amazon/bin:/usr/local/nvidia/bin:/usr/local/sbin:/usr/local/bin:/usr/sbin:/usr/bin:/sbin:/bin:/opt/amazon/bin:/opt/amazon/bin', 'PYTHONUNBUFFERED': 'TRUE', 'CANONICAL_ENVROOT': '/opt/amazon', 'LD_LIBRARY_PATH': '/usr/local/nvidia/lib64:/opt/amazon/lib', 'LANG': 'en_US.utf8', 'DMLC_INTERFACE': 'ethwe', 'SHLVL': '1', 'DMLC_PS_ROOT_URI': '10.40.0.4', 'AWS_REGION': 'us-east-1', 'NVIDIA_VISIBLE_DEVICES': 'all', 'TRAINING_JOB_NAME': 'knn-2018-12-20-19-34-15-131', 'HOME': '/root', 'PROTOCOL_BUFFERS_PYTHON_IMPLEMENTATION': 'cpp', 'ENVROOT': '/opt/amazon', 'SAGEMAKER_DATA_PATH': '/opt/ml', 'NVIDIA_DRIVER_CAPABILITIES': 'compute,utility', 'NVIDIA_REQUIRE_CUDA': 'cuda>=9.0', 'OMP_NUM_THREADS': '2', 'HOSTNAME': 'aws', 'AWS_CONTAINER_CREDENTIALS_RELATIVE_URI': '/v2/credentials/dc1a76f6-c2df-4c8b-9c8f-abddf721cb45', 'DMLC_ROLE': 'worker', 'PWD': '/', 'DMLC_NUM_SERVER': '1', 'AWS_EXECUTION_ENV': 'AWS_ECS_EC2'}\u001b[0m\n",
      "\u001b[31mProcess 36 is a shell:scheduler.\u001b[0m\n",
      "\u001b[31mProcess 37 is a shell:server.\u001b[0m\n",
      "\u001b[31mProcess 1 is a worker.\u001b[0m\n",
      "\u001b[31m[12/20/2018 19:37:34 INFO 140117548812096] Using default worker.\u001b[0m\n",
      "\u001b[31m[12/20/2018 19:37:34 INFO 140117548812096] nvidia-smi took: 0.0251860618591 secs to identify 0 gpus\u001b[0m\n",
      "\u001b[31m[12/20/2018 19:37:34 INFO 140117548812096] Create Store: dist_async\u001b[0m\n",
      "\u001b[34m[12/20/2018 19:37:34 INFO 140152469702464] Environment: {'ECS_CONTAINER_METADATA_URI': 'http://169.254.170.2/v3/f9c0930f-b5e5-44d4-9ce5-197b28c3e92b', 'PROTOCOL_BUFFERS_PYTHON_IMPLEMENTATION_VERSION': '2', 'DMLC_PS_ROOT_PORT': '9000', 'DMLC_NUM_WORKER': '4', 'SAGEMAKER_HTTP_PORT': '8080', 'PATH': '/opt/amazon/bin:/usr/local/nvidia/bin:/usr/local/sbin:/usr/local/bin:/usr/sbin:/usr/bin:/sbin:/bin:/opt/amazon/bin:/opt/amazon/bin', 'PYTHONUNBUFFERED': 'TRUE', 'CANONICAL_ENVROOT': '/opt/amazon', 'LD_LIBRARY_PATH': '/usr/local/nvidia/lib64:/opt/amazon/lib', 'LANG': 'en_US.utf8', 'DMLC_INTERFACE': 'ethwe', 'SHLVL': '1', 'DMLC_PS_ROOT_URI': '10.40.0.4', 'AWS_REGION': 'us-east-1', 'NVIDIA_VISIBLE_DEVICES': 'all', 'TRAINING_JOB_NAME': 'knn-2018-12-20-19-34-15-131', 'HOME': '/root', 'PROTOCOL_BUFFERS_PYTHON_IMPLEMENTATION': 'cpp', 'ENVROOT': '/opt/amazon', 'SAGEMAKER_DATA_PATH': '/opt/ml', 'NVIDIA_DRIVER_CAPABILITIES': 'compute,utility', 'NVIDIA_REQUIRE_CUDA': 'cuda>=9.0', 'OMP_NUM_THREADS': '2', 'HOSTNAME': 'aws', 'AWS_CONTAINER_CREDENTIALS_RELATIVE_URI': '/v2/credentials/d0755cab-40a2-443b-8c10-8f44799cd797', 'DMLC_ROLE': 'worker', 'PWD': '/', 'DMLC_NUM_SERVER': '1', 'AWS_EXECUTION_ENV': 'AWS_ECS_EC2'}\u001b[0m\n",
      "\u001b[34mProcess 1 is a worker.\u001b[0m\n",
      "\u001b[34m[12/20/2018 19:37:34 INFO 140152469702464] Using default worker.\u001b[0m\n",
      "\u001b[34m[12/20/2018 19:37:34 INFO 140152469702464] nvidia-smi took: 0.0251791477203 secs to identify 0 gpus\u001b[0m\n",
      "\u001b[34m[12/20/2018 19:37:34 INFO 140152469702464] Create Store: dist_async\u001b[0m\n",
      "\u001b[33m[12/20/2018 19:37:35 INFO 139893094180672] Reading default configuration from /opt/amazon/lib/python2.7/site-packages/algorithm/resources/default-conf.json: {u'index_metric': u'L2', u'_tuning_objective_metric': u'', u'_num_gpus': u'auto', u'_log_level': u'info', u'faiss_index_ivf_nlists': u'auto', u'epochs': u'1', u'index_type': u'faiss.Flat', u'_faiss_index_nprobe': u'5', u'_kvstore': u'dist_async', u'_num_kv_servers': u'1', u'mini_batch_size': u'5000'}\u001b[0m\n",
      "\u001b[33m[12/20/2018 19:37:35 INFO 139893094180672] Reading provided configuration from /opt/ml/input/config/hyperparameters.json: {u'sample_size': u'1000000', u'feature_dim': u'10', u'k': u'100', u'predictor_type': u'classifier'}\u001b[0m\n",
      "\u001b[33m[12/20/2018 19:37:35 INFO 139893094180672] Final configuration: {u'index_metric': u'L2', u'predictor_type': u'classifier', u'_tuning_objective_metric': u'', u'_num_gpus': u'auto', u'_log_level': u'info', u'feature_dim': u'10', u'faiss_index_ivf_nlists': u'auto', u'sample_size': u'1000000', u'epochs': u'1', u'index_type': u'faiss.Flat', u'_faiss_index_nprobe': u'5', u'_kvstore': u'dist_async', u'_num_kv_servers': u'1', u'mini_batch_size': u'5000', u'k': u'100'}\u001b[0m\n",
      "\u001b[33m[12/20/2018 19:37:35 WARNING 139893094180672] Loggers have already been setup.\u001b[0m\n",
      "\u001b[33m[12/20/2018 19:37:35 INFO 139893094180672] Environment: {'ECS_CONTAINER_METADATA_URI': 'http://169.254.170.2/v3/d16b1b2b-874a-431c-9742-1771eb149885', 'PROTOCOL_BUFFERS_PYTHON_IMPLEMENTATION_VERSION': '2', 'DMLC_PS_ROOT_PORT': '9000', 'DMLC_NUM_WORKER': '4', 'SAGEMAKER_HTTP_PORT': '8080', 'PATH': '/opt/amazon/bin:/usr/local/nvidia/bin:/usr/local/sbin:/usr/local/bin:/usr/sbin:/usr/bin:/sbin:/bin:/opt/amazon/bin:/opt/amazon/bin', 'PYTHONUNBUFFERED': 'TRUE', 'CANONICAL_ENVROOT': '/opt/amazon', 'LD_LIBRARY_PATH': '/usr/local/nvidia/lib64:/opt/amazon/lib', 'LANG': 'en_US.utf8', 'DMLC_INTERFACE': 'ethwe', 'SHLVL': '1', 'DMLC_PS_ROOT_URI': '10.40.0.4', 'AWS_REGION': 'us-east-1', 'NVIDIA_VISIBLE_DEVICES': 'all', 'TRAINING_JOB_NAME': 'knn-2018-12-20-19-34-15-131', 'HOME': '/root', 'PROTOCOL_BUFFERS_PYTHON_IMPLEMENTATION': 'cpp', 'ENVROOT': '/opt/amazon', 'SAGEMAKER_DATA_PATH': '/opt/ml', 'NVIDIA_DRIVER_CAPABILITIES': 'compute,utility', 'NVIDIA_REQUIRE_CUDA': 'cuda>=9.0', 'OMP_NUM_THREADS': '2', 'HOSTNAME': 'aws', 'AWS_CONTAINER_CREDENTIALS_RELATIVE_URI': '/v2/credentials/bcfb41f2-d983-4614-b067-c1c968f451fd', 'DMLC_ROLE': 'worker', 'PWD': '/', 'DMLC_NUM_SERVER': '1', 'AWS_EXECUTION_ENV': 'AWS_ECS_EC2'}\u001b[0m\n",
      "\u001b[33mProcess 1 is a worker.\u001b[0m\n",
      "\u001b[33m[12/20/2018 19:37:35 INFO 139893094180672] Using default worker.\u001b[0m\n",
      "\u001b[31m[12/20/2018 19:37:35 ERROR 140117548812096] nvidia-smi: failed to run (127): /bin/sh: nvidia-smi: command not found\u001b[0m\n",
      "\u001b[31m[12/20/2018 19:37:35 INFO 140117548812096] Using per-worker sample size = 250000 (Available virtual memory = 15075397632 bytes, GPU free memory = 0 bytes, number of workers = 4). If an out-of-memory error occurs, choose a larger instance type, use dimension reduction, decrease sample_size, and/or decrease mini_batch_size.\u001b[0m\n",
      "\u001b[34m[12/20/2018 19:37:35 ERROR 140152469702464] nvidia-smi: failed to run (127): /bin/sh: nvidia-smi: command not found\u001b[0m\n",
      "\u001b[34m[12/20/2018 19:37:35 INFO 140152469702464] Using per-worker sample size = 250000 (Available virtual memory = 15151071232 bytes, GPU free memory = 0 bytes, number of workers = 4). If an out-of-memory error occurs, choose a larger instance type, use dimension reduction, decrease sample_size, and/or decrease mini_batch_size.\u001b[0m\n",
      "\u001b[33m[12/20/2018 19:37:35 INFO 139893094180672] nvidia-smi took: 0.0251851081848 secs to identify 0 gpus\u001b[0m\n",
      "\u001b[33m[12/20/2018 19:37:35 INFO 139893094180672] Create Store: dist_async\u001b[0m\n",
      "\u001b[33m[12/20/2018 19:37:35 ERROR 139893094180672] nvidia-smi: failed to run (127): /bin/sh: nvidia-smi: command not found\u001b[0m\n",
      "\u001b[33m[12/20/2018 19:37:35 INFO 139893094180672] Using per-worker sample size = 250000 (Available virtual memory = 15149711360 bytes, GPU free memory = 0 bytes, number of workers = 4). If an out-of-memory error occurs, choose a larger instance type, use dimension reduction, decrease sample_size, and/or decrease mini_batch_size.\u001b[0m\n",
      "\u001b[32mDocker entrypoint called with argument(s): train\u001b[0m\n",
      "\u001b[32m[12/20/2018 19:37:34 INFO 139659816372032] Reading default configuration from /opt/amazon/lib/python2.7/site-packages/algorithm/resources/default-conf.json: {u'index_metric': u'L2', u'_tuning_objective_metric': u'', u'_num_gpus': u'auto', u'_log_level': u'info', u'faiss_index_ivf_nlists': u'auto', u'epochs': u'1', u'index_type': u'faiss.Flat', u'_faiss_index_nprobe': u'5', u'_kvstore': u'dist_async', u'_num_kv_servers': u'1', u'mini_batch_size': u'5000'}\u001b[0m\n",
      "\u001b[32m[12/20/2018 19:37:34 INFO 139659816372032] Reading provided configuration from /opt/ml/input/config/hyperparameters.json: {u'sample_size': u'1000000', u'feature_dim': u'10', u'k': u'100', u'predictor_type': u'classifier'}\u001b[0m\n",
      "\u001b[32m[12/20/2018 19:37:34 INFO 139659816372032] Final configuration: {u'index_metric': u'L2', u'predictor_type': u'classifier', u'_tuning_objective_metric': u'', u'_num_gpus': u'auto', u'_log_level': u'info', u'feature_dim': u'10', u'faiss_index_ivf_nlists': u'auto', u'sample_size': u'1000000', u'epochs': u'1', u'index_type': u'faiss.Flat', u'_faiss_index_nprobe': u'5', u'_kvstore': u'dist_async', u'_num_kv_servers': u'1', u'mini_batch_size': u'5000', u'k': u'100'}\u001b[0m\n",
      "\u001b[32m[12/20/2018 19:37:34 WARNING 139659816372032] Loggers have already been setup.\u001b[0m\n",
      "\u001b[32m[12/20/2018 19:37:34 INFO 139659816372032] Environment: {'ECS_CONTAINER_METADATA_URI': 'http://169.254.170.2/v3/e0aaa571-5638-4c49-92d8-340ff6dd388c', 'PROTOCOL_BUFFERS_PYTHON_IMPLEMENTATION_VERSION': '2', 'DMLC_PS_ROOT_PORT': '9000', 'DMLC_NUM_WORKER': '4', 'SAGEMAKER_HTTP_PORT': '8080', 'PATH': '/opt/amazon/bin:/usr/local/nvidia/bin:/usr/local/sbin:/usr/local/bin:/usr/sbin:/usr/bin:/sbin:/bin:/opt/amazon/bin:/opt/amazon/bin', 'PYTHONUNBUFFERED': 'TRUE', 'CANONICAL_ENVROOT': '/opt/amazon', 'LD_LIBRARY_PATH': '/usr/local/nvidia/lib64:/opt/amazon/lib', 'LANG': 'en_US.utf8', 'DMLC_INTERFACE': 'ethwe', 'SHLVL': '1', 'DMLC_PS_ROOT_URI': '10.40.0.4', 'AWS_REGION': 'us-east-1', 'NVIDIA_VISIBLE_DEVICES': 'all', 'TRAINING_JOB_NAME': 'knn-2018-12-20-19-34-15-131', 'HOME': '/root', 'PROTOCOL_BUFFERS_PYTHON_IMPLEMENTATION': 'cpp', 'ENVROOT': '/opt/amazon', 'SAGEMAKER_DATA_PATH': '/opt/ml', 'NVIDIA_DRIVER_CAPABILITIES': 'compute,utility', 'NVIDIA_REQUIRE_CUDA': 'cuda>=9.0', 'OMP_NUM_THREADS': '2', 'HOSTNAME': 'aws', 'AWS_CONTAINER_CREDENTIALS_RELATIVE_URI': '/v2/credentials/3cbbbcde-69c9-49b0-9a96-8b5e9c2aa781', 'DMLC_ROLE': 'worker', 'PWD': '/', 'DMLC_NUM_SERVER': '1', 'AWS_EXECUTION_ENV': 'AWS_ECS_EC2'}\u001b[0m\n",
      "\u001b[32mProcess 1 is a worker.\u001b[0m\n",
      "\u001b[32m[12/20/2018 19:37:34 INFO 139659816372032] Using default worker.\u001b[0m\n",
      "\u001b[32m[12/20/2018 19:37:34 INFO 139659816372032] nvidia-smi took: 0.0251832008362 secs to identify 0 gpus\u001b[0m\n",
      "\u001b[32m[12/20/2018 19:37:34 INFO 139659816372032] Create Store: dist_async\u001b[0m\n",
      "\u001b[32m[12/20/2018 19:37:35 ERROR 139659816372032] nvidia-smi: failed to run (127): /bin/sh: nvidia-smi: command not found\u001b[0m\n",
      "\u001b[32m[12/20/2018 19:37:35 INFO 139659816372032] Using per-worker sample size = 250000 (Available virtual memory = 15192907776 bytes, GPU free memory = 0 bytes, number of workers = 4). If an out-of-memory error occurs, choose a larger instance type, use dimension reduction, decrease sample_size, and/or decrease mini_batch_size.\u001b[0m\n",
      "\u001b[32m#metrics {\"Metrics\": {\"Max Batches Seen Between Resets\": {\"count\": 1, \"max\": 0, \"sum\": 0.0, \"min\": 0}, \"Number of Batches Since Last Reset\": {\"count\": 1, \"max\": 0, \"sum\": 0.0, \"min\": 0}, \"Number of Records Since Last Reset\": {\"count\": 1, \"max\": 0, \"sum\": 0.0, \"min\": 0}, \"Total Batches Seen\": {\"count\": 1, \"max\": 0, \"sum\": 0.0, \"min\": 0}, \"Total Records Seen\": {\"count\": 1, \"max\": 0, \"sum\": 0.0, \"min\": 0}, \"Max Records Seen Between Resets\": {\"count\": 1, \"max\": 0, \"sum\": 0.0, \"min\": 0}, \"Reset Count\": {\"count\": 1, \"max\": 0, \"sum\": 0.0, \"min\": 0}}, \"EndTime\": 1545334656.321062, \"Dimensions\": {\"Host\": \"algo-2\", \"Meta\": \"init_train_data_iter\", \"Operation\": \"training\", \"Algorithm\": \"AWS/KNN\"}, \"StartTime\": 1545334656.321015}\n",
      "\u001b[0m\n",
      "\u001b[31m#metrics {\"Metrics\": {\"Max Batches Seen Between Resets\": {\"count\": 1, \"max\": 0, \"sum\": 0.0, \"min\": 0}, \"Number of Batches Since Last Reset\": {\"count\": 1, \"max\": 0, \"sum\": 0.0, \"min\": 0}, \"Number of Records Since Last Reset\": {\"count\": 1, \"max\": 0, \"sum\": 0.0, \"min\": 0}, \"Total Batches Seen\": {\"count\": 1, \"max\": 0, \"sum\": 0.0, \"min\": 0}, \"Total Records Seen\": {\"count\": 1, \"max\": 0, \"sum\": 0.0, \"min\": 0}, \"Max Records Seen Between Resets\": {\"count\": 1, \"max\": 0, \"sum\": 0.0, \"min\": 0}, \"Reset Count\": {\"count\": 1, \"max\": 0, \"sum\": 0.0, \"min\": 0}}, \"EndTime\": 1545334656.317746, \"Dimensions\": {\"Host\": \"algo-1\", \"Meta\": \"init_train_data_iter\", \"Operation\": \"training\", \"Algorithm\": \"AWS/KNN\"}, \"StartTime\": 1545334656.3177}\n",
      "\u001b[0m\n"
     ]
    },
    {
     "name": "stdout",
     "output_type": "stream",
     "text": [
      "\u001b[34m#metrics {\"Metrics\": {\"Max Batches Seen Between Resets\": {\"count\": 1, \"max\": 0, \"sum\": 0.0, \"min\": 0}, \"Number of Batches Since Last Reset\": {\"count\": 1, \"max\": 0, \"sum\": 0.0, \"min\": 0}, \"Number of Records Since Last Reset\": {\"count\": 1, \"max\": 0, \"sum\": 0.0, \"min\": 0}, \"Total Batches Seen\": {\"count\": 1, \"max\": 0, \"sum\": 0.0, \"min\": 0}, \"Total Records Seen\": {\"count\": 1, \"max\": 0, \"sum\": 0.0, \"min\": 0}, \"Max Records Seen Between Resets\": {\"count\": 1, \"max\": 0, \"sum\": 0.0, \"min\": 0}, \"Reset Count\": {\"count\": 1, \"max\": 0, \"sum\": 0.0, \"min\": 0}}, \"EndTime\": 1545334656.32054, \"Dimensions\": {\"Host\": \"algo-4\", \"Meta\": \"init_train_data_iter\", \"Operation\": \"training\", \"Algorithm\": \"AWS/KNN\"}, \"StartTime\": 1545334656.32049}\n",
      "\u001b[0m\n",
      "\u001b[33m#metrics {\"Metrics\": {\"Max Batches Seen Between Resets\": {\"count\": 1, \"max\": 0, \"sum\": 0.0, \"min\": 0}, \"Number of Batches Since Last Reset\": {\"count\": 1, \"max\": 0, \"sum\": 0.0, \"min\": 0}, \"Number of Records Since Last Reset\": {\"count\": 1, \"max\": 0, \"sum\": 0.0, \"min\": 0}, \"Total Batches Seen\": {\"count\": 1, \"max\": 0, \"sum\": 0.0, \"min\": 0}, \"Total Records Seen\": {\"count\": 1, \"max\": 0, \"sum\": 0.0, \"min\": 0}, \"Max Records Seen Between Resets\": {\"count\": 1, \"max\": 0, \"sum\": 0.0, \"min\": 0}, \"Reset Count\": {\"count\": 1, \"max\": 0, \"sum\": 0.0, \"min\": 0}}, \"EndTime\": 1545334656.321188, \"Dimensions\": {\"Host\": \"algo-3\", \"Meta\": \"init_train_data_iter\", \"Operation\": \"training\", \"Algorithm\": \"AWS/KNN\"}, \"StartTime\": 1545334656.321141}\n",
      "\u001b[0m\n",
      "\u001b[34m[12/20/2018 19:37:46 INFO 140152469702464] push reservoir to kv... 4 num_workers 0 rank\u001b[0m\n",
      "\u001b[33m[12/20/2018 19:37:46 INFO 139893094180672] push reservoir to kv... 4 num_workers 3 rank\u001b[0m\n",
      "\u001b[33m[12/20/2018 19:37:46 INFO 139893094180672] ...done (250000)\u001b[0m\n",
      "\u001b[33m[12/20/2018 19:37:46 INFO 139893094180672] #progress_metric: host=algo-3, completed 100 % of epochs\u001b[0m\n",
      "\u001b[33m#metrics {\"Metrics\": {\"Max Batches Seen Between Resets\": {\"count\": 1, \"max\": 1146, \"sum\": 1146.0, \"min\": 1146}, \"Number of Batches Since Last Reset\": {\"count\": 1, \"max\": 1146, \"sum\": 1146.0, \"min\": 1146}, \"Number of Records Since Last Reset\": {\"count\": 1, \"max\": 5726358, \"sum\": 5726358.0, \"min\": 5726358}, \"Total Batches Seen\": {\"count\": 1, \"max\": 1146, \"sum\": 1146.0, \"min\": 1146}, \"Total Records Seen\": {\"count\": 1, \"max\": 5726358, \"sum\": 5726358.0, \"min\": 5726358}, \"Max Records Seen Between Resets\": {\"count\": 1, \"max\": 5726358, \"sum\": 5726358.0, \"min\": 5726358}, \"Reset Count\": {\"count\": 1, \"max\": 1, \"sum\": 1.0, \"min\": 1}}, \"EndTime\": 1545334666.77843, \"Dimensions\": {\"Host\": \"algo-3\", \"Meta\": \"training_data_iter\", \"Operation\": \"training\", \"Algorithm\": \"AWS/KNN\", \"epoch\": 0}, \"StartTime\": 1545334656.321426}\n",
      "\u001b[0m\n",
      "\u001b[33m[12/20/2018 19:37:46 INFO 139893094180672] #throughput_metric: host=algo-3, train throughput=547600.232674 records/second\u001b[0m\n",
      "\u001b[33m[12/20/2018 19:37:47 WARNING 139893094180672] Unable to compute test score, model is not available.\u001b[0m\n",
      "\u001b[33m#metrics {\"Metrics\": {\"totaltime\": {\"count\": 1, \"max\": 11878.988027572632, \"sum\": 11878.988027572632, \"min\": 11878.988027572632}, \"finalize.time\": {\"count\": 1, \"max\": 0.03314018249511719, \"sum\": 0.03314018249511719, \"min\": 0.03314018249511719}, \"initialize.time\": {\"count\": 1, \"max\": 951.9839286804199, \"sum\": 951.9839286804199, \"min\": 951.9839286804199}, \"setuptime\": {\"count\": 1, \"max\": 15.991926193237305, \"sum\": 15.991926193237305, \"min\": 15.991926193237305}, \"update.time\": {\"count\": 1, \"max\": 10456.773042678833, \"sum\": 10456.773042678833, \"min\": 10456.773042678833}, \"epochs\": {\"count\": 1, \"max\": 1, \"sum\": 1.0, \"min\": 1}}, \"EndTime\": 1545334667.038157, \"Dimensions\": {\"Host\": \"algo-3\", \"Operation\": \"training\", \"Algorithm\": \"AWS/KNN\"}, \"StartTime\": 1545334655.368784}\n",
      "\u001b[0m\n",
      "\u001b[32m[12/20/2018 19:37:46 INFO 139659816372032] push reservoir to kv... 4 num_workers 2 rank\u001b[0m\n",
      "\u001b[32m[12/20/2018 19:37:46 INFO 139659816372032] ...done (250000)\u001b[0m\n",
      "\u001b[32m[12/20/2018 19:37:46 INFO 139659816372032] #progress_metric: host=algo-2, completed 100 % of epochs\u001b[0m\n",
      "\u001b[32m#metrics {\"Metrics\": {\"Max Batches Seen Between Resets\": {\"count\": 1, \"max\": 1146, \"sum\": 1146.0, \"min\": 1146}, \"Number of Batches Since Last Reset\": {\"count\": 1, \"max\": 1146, \"sum\": 1146.0, \"min\": 1146}, \"Number of Records Since Last Reset\": {\"count\": 1, \"max\": 5726358, \"sum\": 5726358.0, \"min\": 5726358}, \"Total Batches Seen\": {\"count\": 1, \"max\": 1146, \"sum\": 1146.0, \"min\": 1146}, \"Total Records Seen\": {\"count\": 1, \"max\": 5726358, \"sum\": 5726358.0, \"min\": 5726358}, \"Max Records Seen Between Resets\": {\"count\": 1, \"max\": 5726358, \"sum\": 5726358.0, \"min\": 5726358}, \"Reset Count\": {\"count\": 1, \"max\": 1, \"sum\": 1.0, \"min\": 1}}, \"EndTime\": 1545334666.880086, \"Dimensions\": {\"Host\": \"algo-2\", \"Meta\": \"training_data_iter\", \"Operation\": \"training\", \"Algorithm\": \"AWS/KNN\", \"epoch\": 0}, \"StartTime\": 1545334656.321296}\n",
      "\u001b[0m\n",
      "\u001b[32m[12/20/2018 19:37:46 INFO 139659816372032] #throughput_metric: host=algo-2, train throughput=542322.46866 records/second\u001b[0m\n",
      "\u001b[32m[12/20/2018 19:37:47 WARNING 139659816372032] Unable to compute test score, model is not available.\u001b[0m\n",
      "\u001b[32m#metrics {\"Metrics\": {\"totaltime\": {\"count\": 1, \"max\": 12331.658840179443, \"sum\": 12331.658840179443, \"min\": 12331.658840179443}, \"finalize.time\": {\"count\": 1, \"max\": 0.06103515625, \"sum\": 0.06103515625, \"min\": 0.06103515625}, \"initialize.time\": {\"count\": 1, \"max\": 1420.4258918762207, \"sum\": 1420.4258918762207, \"min\": 1420.4258918762207}, \"setuptime\": {\"count\": 1, \"max\": 13.716936111450195, \"sum\": 13.716936111450195, \"min\": 13.716936111450195}, \"update.time\": {\"count\": 1, \"max\": 10558.423042297363, \"sum\": 10558.423042297363, \"min\": 10558.423042297363}, \"epochs\": {\"count\": 1, \"max\": 1, \"sum\": 1.0, \"min\": 1}}, \"EndTime\": 1545334667.038232, \"Dimensions\": {\"Host\": \"algo-2\", \"Operation\": \"training\", \"Algorithm\": \"AWS/KNN\"}, \"StartTime\": 1545334654.900325}\n",
      "\u001b[0m\n",
      "\u001b[31m[12/20/2018 19:37:46 INFO 140117548812096] push reservoir to kv... 4 num_workers 1 rank\u001b[0m\n",
      "\u001b[31m[12/20/2018 19:37:47 INFO 140117548812096] ...done (250000)\u001b[0m\n",
      "\u001b[31m[12/20/2018 19:37:47 INFO 140117548812096] #progress_metric: host=algo-1, completed 100 % of epochs\u001b[0m\n",
      "\u001b[31m#metrics {\"Metrics\": {\"Max Batches Seen Between Resets\": {\"count\": 1, \"max\": 1146, \"sum\": 1146.0, \"min\": 1146}, \"Number of Batches Since Last Reset\": {\"count\": 1, \"max\": 1146, \"sum\": 1146.0, \"min\": 1146}, \"Number of Records Since Last Reset\": {\"count\": 1, \"max\": 5726358, \"sum\": 5726358.0, \"min\": 5726358}, \"Total Batches Seen\": {\"count\": 1, \"max\": 1146, \"sum\": 1146.0, \"min\": 1146}, \"Total Records Seen\": {\"count\": 1, \"max\": 5726358, \"sum\": 5726358.0, \"min\": 5726358}, \"Max Records Seen Between Resets\": {\"count\": 1, \"max\": 5726358, \"sum\": 5726358.0, \"min\": 5726358}, \"Reset Count\": {\"count\": 1, \"max\": 1, \"sum\": 1.0, \"min\": 1}}, \"EndTime\": 1545334667.032902, \"Dimensions\": {\"Host\": \"algo-1\", \"Meta\": \"training_data_iter\", \"Operation\": \"training\", \"Algorithm\": \"AWS/KNN\", \"epoch\": 0}, \"StartTime\": 1545334656.318}\n",
      "\u001b[0m\n",
      "\u001b[31m[12/20/2018 19:37:47 INFO 140117548812096] #throughput_metric: host=algo-1, train throughput=534421.411794 records/second\u001b[0m\n",
      "\u001b[31m[12/20/2018 19:37:47 INFO 140117548812096] pulled row count... worker 3 rows 250000\u001b[0m\n",
      "\u001b[31m[12/20/2018 19:37:47 INFO 140117548812096] pulled row count... worker 2 rows -1\u001b[0m\n",
      "\u001b[31m[12/20/2018 19:37:47 INFO 140117548812096] pulled row count... worker 1 rows 250000\u001b[0m\n",
      "\u001b[31m[12/20/2018 19:37:47 INFO 140117548812096] pulled row count... worker 0 rows -1\u001b[0m\n",
      "\u001b[34m[12/20/2018 19:37:46 INFO 140152469702464] ...done (250000)\u001b[0m\n",
      "\u001b[34m[12/20/2018 19:37:46 INFO 140152469702464] #progress_metric: host=algo-4, completed 100 % of epochs\u001b[0m\n",
      "\u001b[34m#metrics {\"Metrics\": {\"Max Batches Seen Between Resets\": {\"count\": 1, \"max\": 1146, \"sum\": 1146.0, \"min\": 1146}, \"Number of Batches Since Last Reset\": {\"count\": 1, \"max\": 1146, \"sum\": 1146.0, \"min\": 1146}, \"Number of Records Since Last Reset\": {\"count\": 1, \"max\": 5726358, \"sum\": 5726358.0, \"min\": 5726358}, \"Total Batches Seen\": {\"count\": 1, \"max\": 1146, \"sum\": 1146.0, \"min\": 1146}, \"Total Records Seen\": {\"count\": 1, \"max\": 5726358, \"sum\": 5726358.0, \"min\": 5726358}, \"Max Records Seen Between Resets\": {\"count\": 1, \"max\": 5726358, \"sum\": 5726358.0, \"min\": 5726358}, \"Reset Count\": {\"count\": 1, \"max\": 1, \"sum\": 1.0, \"min\": 1}}, \"EndTime\": 1545334666.912237, \"Dimensions\": {\"Host\": \"algo-4\", \"Meta\": \"training_data_iter\", \"Operation\": \"training\", \"Algorithm\": \"AWS/KNN\", \"epoch\": 0}, \"StartTime\": 1545334656.32078}\n",
      "\u001b[0m\n",
      "\u001b[34m[12/20/2018 19:37:46 INFO 140152469702464] #throughput_metric: host=algo-4, train throughput=540648.997625 records/second\u001b[0m\n",
      "\u001b[34m[12/20/2018 19:37:47 WARNING 140152469702464] Unable to compute test score, model is not available.\u001b[0m\n",
      "\u001b[34m#metrics {\"Metrics\": {\"totaltime\": {\"count\": 1, \"max\": 13215.167999267578, \"sum\": 13215.167999267578, \"min\": 13215.167999267578}, \"finalize.time\": {\"count\": 1, \"max\": 0.05817413330078125, \"sum\": 0.05817413330078125, \"min\": 0.05817413330078125}, \"initialize.time\": {\"count\": 1, \"max\": 1792.0341491699219, \"sum\": 1792.0341491699219, \"min\": 1792.0341491699219}, \"setuptime\": {\"count\": 1, \"max\": 522.7820873260498, \"sum\": 522.7820873260498, \"min\": 522.7820873260498}, \"update.time\": {\"count\": 1, \"max\": 10591.243982315063, \"sum\": 10591.243982315063, \"min\": 10591.243982315063}, \"epochs\": {\"count\": 1, \"max\": 1, \"sum\": 1.0, \"min\": 1}}, \"EndTime\": 1545334667.038182, \"Dimensions\": {\"Host\": \"algo-4\", \"Operation\": \"training\", \"Algorithm\": \"AWS/KNN\"}, \"StartTime\": 1545334654.52813}\n",
      "\u001b[0m\n",
      "\u001b[31m[12/20/2018 19:37:48 INFO 140117548812096] pulled row count... worker 2 rows 250000\u001b[0m\n",
      "\u001b[31m[12/20/2018 19:37:49 INFO 140117548812096] pulled row count... worker 0 rows 250000\u001b[0m\n",
      "\u001b[31m[12/20/2018 19:37:49 INFO 140117548812096] pulled... worker 3 data (250000, 10) labels (250000, 1) nans 0\u001b[0m\n",
      "\u001b[31m[12/20/2018 19:37:49 INFO 140117548812096] calling index.train...\u001b[0m\n",
      "\u001b[31m[12/20/2018 19:37:49 INFO 140117548812096] ...done calling index.train\u001b[0m\n",
      "\u001b[31m[12/20/2018 19:37:49 INFO 140117548812096] calling index.add...\u001b[0m\n",
      "\u001b[31m[12/20/2018 19:37:49 INFO 140117548812096] ...done calling index.add\u001b[0m\n",
      "\u001b[31m[12/20/2018 19:37:49 INFO 140117548812096] pulled... worker 1 data (250000, 10) labels (250000, 1) nans 0\u001b[0m\n",
      "\u001b[31m[12/20/2018 19:37:49 INFO 140117548812096] calling index.add...\u001b[0m\n",
      "\u001b[31m[12/20/2018 19:37:49 INFO 140117548812096] ...done calling index.add\u001b[0m\n",
      "\u001b[31m[12/20/2018 19:37:49 INFO 140117548812096] pulled... worker 2 data (250000, 10) labels (250000, 1) nans 0\u001b[0m\n",
      "\u001b[31m[12/20/2018 19:37:49 INFO 140117548812096] calling index.add...\u001b[0m\n",
      "\u001b[31m[12/20/2018 19:37:49 INFO 140117548812096] ...done calling index.add\u001b[0m\n",
      "\u001b[31m[12/20/2018 19:37:49 INFO 140117548812096] pulled... worker 0 data (250000, 10) labels (250000, 1) nans 0\u001b[0m\n",
      "\u001b[31m[12/20/2018 19:37:49 INFO 140117548812096] calling index.add...\u001b[0m\n",
      "\u001b[31m[12/20/2018 19:37:49 INFO 140117548812096] ...done calling index.add\u001b[0m\n",
      "\u001b[31m#metrics {\"Metrics\": {\"epochs\": {\"count\": 1, \"max\": 1, \"sum\": 1.0, \"min\": 1}, \"model.serialize.time\": {\"count\": 1, \"max\": 38.35582733154297, \"sum\": 38.35582733154297, \"min\": 38.35582733154297}, \"finalize.time\": {\"count\": 1, \"max\": 2216.042995452881, \"sum\": 2216.042995452881, \"min\": 2216.042995452881}, \"initialize.time\": {\"count\": 1, \"max\": 1807.2381019592285, \"sum\": 1807.2381019592285, \"min\": 1807.2381019592285}, \"update.time\": {\"count\": 1, \"max\": 10714.617013931274, \"sum\": 10714.617013931274, \"min\": 10714.617013931274}}, \"EndTime\": 1545334669.288089, \"Dimensions\": {\"Host\": \"algo-1\", \"Operation\": \"training\", \"Algorithm\": \"AWS/KNN\"}, \"StartTime\": 1545334654.510095}\n",
      "\u001b[0m\n"
     ]
    },
    {
     "name": "stdout",
     "output_type": "stream",
     "text": [
      "\n",
      "2018-12-20 19:49:57 Uploading - Uploading generated training model\n",
      "2018-12-20 19:50:05 Completed - Training job completed\n",
      "Billable seconds: 3119\n"
     ]
    }
   ],
   "source": [
    "hyperparams_flat_l2 = {\n",
    "    'feature_dim': 10,\n",
    "    'k': 100,\n",
    "    'sample_size': 1000000,\n",
    "    'predictor_type': 'classifier' \n",
    "}\n",
    "output_path_flat_l2 = 's3://' + bucket + '/' + prefix + '/flat_l2/output'\n",
    "knn_estimator_flat_l2 = trained_estimator_from_hyperparams(s3_train_data, hyperparams_flat_l2, \n",
    "                                                           output_path_flat_l2, s3_test_data=s3_test_data)"
   ]
  },
  {
   "cell_type": "code",
   "execution_count": 45,
   "metadata": {},
   "outputs": [
    {
     "name": "stderr",
     "output_type": "stream",
     "text": [
      "INFO:sagemaker:Creating training-job with name: knn-2018-12-20-19-53-27-752\n"
     ]
    },
    {
     "name": "stdout",
     "output_type": "stream",
     "text": [
      "2018-12-20 19:53:27 Starting - Starting the training job...\n",
      "2018-12-20 19:53:30 Starting - Launching requested ML instances............\n",
      "2018-12-20 19:55:30 Starting - Preparing the instances for training......\n",
      "2018-12-20 19:56:53 Downloading - Downloading input data...\n",
      "2018-12-20 19:57:16 Training - Training image download completed. Training in progress.\n",
      "\u001b[31mDocker entrypoint called with argument(s): train\u001b[0m\n",
      "\u001b[32mDocker entrypoint called with argument(s): train\u001b[0m\n",
      "\u001b[34mDocker entrypoint called with argument(s): train\u001b[0m\n",
      "\u001b[32m[12/20/2018 19:57:17 INFO 139746834392896] Reading default configuration from /opt/amazon/lib/python2.7/site-packages/algorithm/resources/default-conf.json: {u'index_metric': u'L2', u'_tuning_objective_metric': u'', u'_num_gpus': u'auto', u'_log_level': u'info', u'faiss_index_ivf_nlists': u'auto', u'epochs': u'1', u'index_type': u'faiss.Flat', u'_faiss_index_nprobe': u'5', u'_kvstore': u'dist_async', u'_num_kv_servers': u'1', u'mini_batch_size': u'5000'}\u001b[0m\n",
      "\u001b[32m[12/20/2018 19:57:17 INFO 139746834392896] Reading provided configuration from /opt/ml/input/config/hyperparameters.json: {u'sample_size': u'1000000', u'feature_dim': u'10', u'index_type': u'faiss.IVFFlat', u'k': u'100', u'predictor_type': u'classifier'}\u001b[0m\n",
      "\u001b[32m[12/20/2018 19:57:17 INFO 139746834392896] Final configuration: {u'index_metric': u'L2', u'predictor_type': u'classifier', u'_tuning_objective_metric': u'', u'_num_gpus': u'auto', u'_log_level': u'info', u'feature_dim': u'10', u'faiss_index_ivf_nlists': u'auto', u'sample_size': u'1000000', u'epochs': u'1', u'index_type': u'faiss.IVFFlat', u'_faiss_index_nprobe': u'5', u'_kvstore': u'dist_async', u'_num_kv_servers': u'1', u'mini_batch_size': u'5000', u'k': u'100'}\u001b[0m\n",
      "\u001b[32m[12/20/2018 19:57:17 WARNING 139746834392896] Loggers have already been setup.\u001b[0m\n",
      "\u001b[32m[12/20/2018 19:57:17 INFO 139746834392896] Environment: {'ECS_CONTAINER_METADATA_URI': 'http://169.254.170.2/v3/2a7b2bad-57f5-4f98-bb4a-cd25c646e17b', 'PROTOCOL_BUFFERS_PYTHON_IMPLEMENTATION_VERSION': '2', 'DMLC_PS_ROOT_PORT': '9000', 'DMLC_NUM_WORKER': '4', 'SAGEMAKER_HTTP_PORT': '8080', 'PATH': '/opt/amazon/bin:/usr/local/nvidia/bin:/usr/local/sbin:/usr/local/bin:/usr/sbin:/usr/bin:/sbin:/bin:/opt/amazon/bin:/opt/amazon/bin', 'PYTHONUNBUFFERED': 'TRUE', 'CANONICAL_ENVROOT': '/opt/amazon', 'LD_LIBRARY_PATH': '/usr/local/nvidia/lib64:/opt/amazon/lib', 'LANG': 'en_US.utf8', 'DMLC_INTERFACE': 'ethwe', 'SHLVL': '1', 'DMLC_PS_ROOT_URI': '10.40.0.4', 'AWS_REGION': 'us-east-1', 'NVIDIA_VISIBLE_DEVICES': 'all', 'TRAINING_JOB_NAME': 'knn-2018-12-20-19-53-27-752', 'HOME': '/root', 'PROTOCOL_BUFFERS_PYTHON_IMPLEMENTATION': 'cpp', 'ENVROOT': '/opt/amazon', 'SAGEMAKER_DATA_PATH': '/opt/ml', 'NVIDIA_DRIVER_CAPABILITIES': 'compute,utility', 'NVIDIA_REQUIRE_CUDA': 'cuda>=9.0', 'OMP_NUM_THREADS': '2', 'HOSTNAME': 'aws', 'AWS_CONTAINER_CREDENTIALS_RELATIVE_URI': '/v2/credentials/4bbb1632-3100-4175-98a5-62830de6b08b', 'DMLC_ROLE': 'worker', 'PWD': '/', 'DMLC_NUM_SERVER': '1', 'AWS_EXECUTION_ENV': 'AWS_ECS_EC2'}\u001b[0m\n",
      "\u001b[32mProcess 1 is a worker.\u001b[0m\n",
      "\u001b[32m[12/20/2018 19:57:17 INFO 139746834392896] Using default worker.\u001b[0m\n",
      "\u001b[32m[12/20/2018 19:57:17 INFO 139746834392896] nvidia-smi took: 0.0251851081848 secs to identify 0 gpus\u001b[0m\n",
      "\u001b[32m[12/20/2018 19:57:17 INFO 139746834392896] Create Store: dist_async\u001b[0m\n",
      "\u001b[34m[12/20/2018 19:57:18 INFO 140458757187392] Reading default configuration from /opt/amazon/lib/python2.7/site-packages/algorithm/resources/default-conf.json: {u'index_metric': u'L2', u'_tuning_objective_metric': u'', u'_num_gpus': u'auto', u'_log_level': u'info', u'faiss_index_ivf_nlists': u'auto', u'epochs': u'1', u'index_type': u'faiss.Flat', u'_faiss_index_nprobe': u'5', u'_kvstore': u'dist_async', u'_num_kv_servers': u'1', u'mini_batch_size': u'5000'}\u001b[0m\n",
      "\u001b[34m[12/20/2018 19:57:18 INFO 140458757187392] Reading provided configuration from /opt/ml/input/config/hyperparameters.json: {u'sample_size': u'1000000', u'feature_dim': u'10', u'index_type': u'faiss.IVFFlat', u'k': u'100', u'predictor_type': u'classifier'}\u001b[0m\n",
      "\u001b[34m[12/20/2018 19:57:18 INFO 140458757187392] Final configuration: {u'index_metric': u'L2', u'predictor_type': u'classifier', u'_tuning_objective_metric': u'', u'_num_gpus': u'auto', u'_log_level': u'info', u'feature_dim': u'10', u'faiss_index_ivf_nlists': u'auto', u'sample_size': u'1000000', u'epochs': u'1', u'index_type': u'faiss.IVFFlat', u'_faiss_index_nprobe': u'5', u'_kvstore': u'dist_async', u'_num_kv_servers': u'1', u'mini_batch_size': u'5000', u'k': u'100'}\u001b[0m\n",
      "\u001b[34m[12/20/2018 19:57:18 WARNING 140458757187392] Loggers have already been setup.\u001b[0m\n",
      "\u001b[34m[12/20/2018 19:57:18 INFO 140458757187392] Environment: {'ECS_CONTAINER_METADATA_URI': 'http://169.254.170.2/v3/41c37419-398e-4f9a-88a1-55d6e3633231', 'PROTOCOL_BUFFERS_PYTHON_IMPLEMENTATION_VERSION': '2', 'DMLC_PS_ROOT_PORT': '9000', 'DMLC_NUM_WORKER': '4', 'SAGEMAKER_HTTP_PORT': '8080', 'PATH': '/opt/amazon/bin:/usr/local/nvidia/bin:/usr/local/sbin:/usr/local/bin:/usr/sbin:/usr/bin:/sbin:/bin:/opt/amazon/bin:/opt/amazon/bin', 'PYTHONUNBUFFERED': 'TRUE', 'CANONICAL_ENVROOT': '/opt/amazon', 'LD_LIBRARY_PATH': '/usr/local/nvidia/lib64:/opt/amazon/lib', 'LANG': 'en_US.utf8', 'DMLC_INTERFACE': 'ethwe', 'SHLVL': '1', 'DMLC_PS_ROOT_URI': '10.40.0.4', 'AWS_REGION': 'us-east-1', 'NVIDIA_VISIBLE_DEVICES': 'all', 'TRAINING_JOB_NAME': 'knn-2018-12-20-19-53-27-752', 'HOME': '/root', 'PROTOCOL_BUFFERS_PYTHON_IMPLEMENTATION': 'cpp', 'ENVROOT': '/opt/amazon', 'SAGEMAKER_DATA_PATH': '/opt/ml', 'NVIDIA_DRIVER_CAPABILITIES': 'compute,utility', 'NVIDIA_REQUIRE_CUDA': 'cuda>=9.0', 'OMP_NUM_THREADS': '2', 'HOSTNAME': 'aws', 'AWS_CONTAINER_CREDENTIALS_RELATIVE_URI': '/v2/credentials/aaea0689-07f5-4e25-9ce0-add88d81e60b', 'DMLC_ROLE': 'worker', 'PWD': '/', 'DMLC_NUM_SERVER': '1', 'AWS_EXECUTION_ENV': 'AWS_ECS_EC2'}\u001b[0m\n",
      "\u001b[34mProcess 1 is a worker.\u001b[0m\n",
      "\u001b[34m[12/20/2018 19:57:18 INFO 140458757187392] Using default worker.\u001b[0m\n",
      "\u001b[31m[12/20/2018 19:57:17 INFO 140513744906048] Reading default configuration from /opt/amazon/lib/python2.7/site-packages/algorithm/resources/default-conf.json: {u'index_metric': u'L2', u'_tuning_objective_metric': u'', u'_num_gpus': u'auto', u'_log_level': u'info', u'faiss_index_ivf_nlists': u'auto', u'epochs': u'1', u'index_type': u'faiss.Flat', u'_faiss_index_nprobe': u'5', u'_kvstore': u'dist_async', u'_num_kv_servers': u'1', u'mini_batch_size': u'5000'}\u001b[0m\n",
      "\u001b[31m[12/20/2018 19:57:17 INFO 140513744906048] Reading provided configuration from /opt/ml/input/config/hyperparameters.json: {u'sample_size': u'1000000', u'feature_dim': u'10', u'index_type': u'faiss.IVFFlat', u'k': u'100', u'predictor_type': u'classifier'}\u001b[0m\n",
      "\u001b[31m[12/20/2018 19:57:17 INFO 140513744906048] Final configuration: {u'index_metric': u'L2', u'predictor_type': u'classifier', u'_tuning_objective_metric': u'', u'_num_gpus': u'auto', u'_log_level': u'info', u'feature_dim': u'10', u'faiss_index_ivf_nlists': u'auto', u'sample_size': u'1000000', u'epochs': u'1', u'index_type': u'faiss.IVFFlat', u'_faiss_index_nprobe': u'5', u'_kvstore': u'dist_async', u'_num_kv_servers': u'1', u'mini_batch_size': u'5000', u'k': u'100'}\u001b[0m\n",
      "\u001b[31m[12/20/2018 19:57:18 WARNING 140513744906048] Loggers have already been setup.\u001b[0m\n",
      "\u001b[31m[12/20/2018 19:57:18 INFO 140513744906048] Launching parameter server for role scheduler\u001b[0m\n",
      "\u001b[31m[12/20/2018 19:57:18 INFO 140513744906048] {'ECS_CONTAINER_METADATA_URI': 'http://169.254.170.2/v3/9e0a49db-e7a1-4719-992c-cebf6b8b4944', 'PROTOCOL_BUFFERS_PYTHON_IMPLEMENTATION_VERSION': '2', 'PATH': '/opt/amazon/bin:/usr/local/nvidia/bin:/usr/local/sbin:/usr/local/bin:/usr/sbin:/usr/bin:/sbin:/bin:/opt/amazon/bin:/opt/amazon/bin', 'SAGEMAKER_HTTP_PORT': '8080', 'HOME': '/root', 'PYTHONUNBUFFERED': 'TRUE', 'CANONICAL_ENVROOT': '/opt/amazon', 'LD_LIBRARY_PATH': '/usr/local/nvidia/lib64:/opt/amazon/lib', 'LANG': 'en_US.utf8', 'DMLC_INTERFACE': 'ethwe', 'SHLVL': '1', 'AWS_REGION': 'us-east-1', 'NVIDIA_VISIBLE_DEVICES': 'all', 'TRAINING_JOB_NAME': 'knn-2018-12-20-19-53-27-752', 'PROTOCOL_BUFFERS_PYTHON_IMPLEMENTATION': 'cpp', 'ENVROOT': '/opt/amazon', 'SAGEMAKER_DATA_PATH': '/opt/ml', 'NVIDIA_DRIVER_CAPABILITIES': 'compute,utility', 'NVIDIA_REQUIRE_CUDA': 'cuda>=9.0', 'OMP_NUM_THREADS': '2', 'HOSTNAME': 'aws', 'AWS_CONTAINER_CREDENTIALS_RELATIVE_URI': '/v2/credentials/ba9c82cb-8e4c-43a3-8611-c0710ec3bad4', 'PWD': '/', 'AWS_EXECUTION_ENV': 'AWS_ECS_EC2'}\u001b[0m\n",
      "\u001b[31m[12/20/2018 19:57:18 INFO 140513744906048] envs={'ECS_CONTAINER_METADATA_URI': 'http://169.254.170.2/v3/9e0a49db-e7a1-4719-992c-cebf6b8b4944', 'PROTOCOL_BUFFERS_PYTHON_IMPLEMENTATION_VERSION': '2', 'DMLC_NUM_WORKER': '4', 'DMLC_PS_ROOT_PORT': '9000', 'PATH': '/opt/amazon/bin:/usr/local/nvidia/bin:/usr/local/sbin:/usr/local/bin:/usr/sbin:/usr/bin:/sbin:/bin:/opt/amazon/bin:/opt/amazon/bin', 'SAGEMAKER_HTTP_PORT': '8080', 'HOME': '/root', 'PYTHONUNBUFFERED': 'TRUE', 'CANONICAL_ENVROOT': '/opt/amazon', 'LD_LIBRARY_PATH': '/usr/local/nvidia/lib64:/opt/amazon/lib', 'LANG': 'en_US.utf8', 'DMLC_INTERFACE': 'ethwe', 'SHLVL': '1', 'DMLC_PS_ROOT_URI': '10.40.0.4', 'AWS_REGION': 'us-east-1', 'NVIDIA_VISIBLE_DEVICES': 'all', 'TRAINING_JOB_NAME': 'knn-2018-12-20-19-53-27-752', 'PROTOCOL_BUFFERS_PYTHON_IMPLEMENTATION': 'cpp', 'ENVROOT': '/opt/amazon', 'SAGEMAKER_DATA_PATH': '/opt/ml', 'NVIDIA_DRIVER_CAPABILITIES': 'compute,utility', 'NVIDIA_REQUIRE_CUDA': 'cuda>=9.0', 'OMP_NUM_THREADS': '2', 'HOSTNAME': 'aws', 'AWS_CONTAINER_CREDENTIALS_RELATIVE_URI': '/v2/credentials/ba9c82cb-8e4c-43a3-8611-c0710ec3bad4', 'DMLC_ROLE': 'scheduler', 'PWD': '/', 'DMLC_NUM_SERVER': '1', 'AWS_EXECUTION_ENV': 'AWS_ECS_EC2'}\u001b[0m\n",
      "\u001b[31m[12/20/2018 19:57:18 INFO 140513744906048] Launching parameter server for role server\u001b[0m\n",
      "\u001b[31m[12/20/2018 19:57:18 INFO 140513744906048] {'ECS_CONTAINER_METADATA_URI': 'http://169.254.170.2/v3/9e0a49db-e7a1-4719-992c-cebf6b8b4944', 'PROTOCOL_BUFFERS_PYTHON_IMPLEMENTATION_VERSION': '2', 'PATH': '/opt/amazon/bin:/usr/local/nvidia/bin:/usr/local/sbin:/usr/local/bin:/usr/sbin:/usr/bin:/sbin:/bin:/opt/amazon/bin:/opt/amazon/bin', 'SAGEMAKER_HTTP_PORT': '8080', 'HOME': '/root', 'PYTHONUNBUFFERED': 'TRUE', 'CANONICAL_ENVROOT': '/opt/amazon', 'LD_LIBRARY_PATH': '/usr/local/nvidia/lib64:/opt/amazon/lib', 'LANG': 'en_US.utf8', 'DMLC_INTERFACE': 'ethwe', 'SHLVL': '1', 'AWS_REGION': 'us-east-1', 'NVIDIA_VISIBLE_DEVICES': 'all', 'TRAINING_JOB_NAME': 'knn-2018-12-20-19-53-27-752', 'PROTOCOL_BUFFERS_PYTHON_IMPLEMENTATION': 'cpp', 'ENVROOT': '/opt/amazon', 'SAGEMAKER_DATA_PATH': '/opt/ml', 'NVIDIA_DRIVER_CAPABILITIES': 'compute,utility', 'NVIDIA_REQUIRE_CUDA': 'cuda>=9.0', 'OMP_NUM_THREADS': '2', 'HOSTNAME': 'aws', 'AWS_CONTAINER_CREDENTIALS_RELATIVE_URI': '/v2/credentials/ba9c82cb-8e4c-43a3-8611-c0710ec3bad4', 'PWD': '/', 'AWS_EXECUTION_ENV': 'AWS_ECS_EC2'}\u001b[0m\n",
      "\u001b[31m[12/20/2018 19:57:18 INFO 140513744906048] envs={'ECS_CONTAINER_METADATA_URI': 'http://169.254.170.2/v3/9e0a49db-e7a1-4719-992c-cebf6b8b4944', 'PROTOCOL_BUFFERS_PYTHON_IMPLEMENTATION_VERSION': '2', 'DMLC_NUM_WORKER': '4', 'DMLC_PS_ROOT_PORT': '9000', 'PATH': '/opt/amazon/bin:/usr/local/nvidia/bin:/usr/local/sbin:/usr/local/bin:/usr/sbin:/usr/bin:/sbin:/bin:/opt/amazon/bin:/opt/amazon/bin', 'SAGEMAKER_HTTP_PORT': '8080', 'HOME': '/root', 'PYTHONUNBUFFERED': 'TRUE', 'CANONICAL_ENVROOT': '/opt/amazon', 'LD_LIBRARY_PATH': '/usr/local/nvidia/lib64:/opt/amazon/lib', 'LANG': 'en_US.utf8', 'DMLC_INTERFACE': 'ethwe', 'SHLVL': '1', 'DMLC_PS_ROOT_URI': '10.40.0.4', 'AWS_REGION': 'us-east-1', 'NVIDIA_VISIBLE_DEVICES': 'all', 'TRAINING_JOB_NAME': 'knn-2018-12-20-19-53-27-752', 'PROTOCOL_BUFFERS_PYTHON_IMPLEMENTATION': 'cpp', 'ENVROOT': '/opt/amazon', 'SAGEMAKER_DATA_PATH': '/opt/ml', 'NVIDIA_DRIVER_CAPABILITIES': 'compute,utility', 'NVIDIA_REQUIRE_CUDA': 'cuda>=9.0', 'OMP_NUM_THREADS': '2', 'HOSTNAME': 'aws', 'AWS_CONTAINER_CREDENTIALS_RELATIVE_URI': '/v2/credentials/ba9c82cb-8e4c-43a3-8611-c0710ec3bad4', 'DMLC_ROLE': 'server', 'PWD': '/', 'DMLC_NUM_SERVER': '1', 'AWS_EXECUTION_ENV': 'AWS_ECS_EC2'}\u001b[0m\n",
      "\u001b[31m[12/20/2018 19:57:18 INFO 140513744906048] Environment: {'ECS_CONTAINER_METADATA_URI': 'http://169.254.170.2/v3/9e0a49db-e7a1-4719-992c-cebf6b8b4944', 'PROTOCOL_BUFFERS_PYTHON_IMPLEMENTATION_VERSION': '2', 'DMLC_PS_ROOT_PORT': '9000', 'DMLC_NUM_WORKER': '4', 'SAGEMAKER_HTTP_PORT': '8080', 'PATH': '/opt/amazon/bin:/usr/local/nvidia/bin:/usr/local/sbin:/usr/local/bin:/usr/sbin:/usr/bin:/sbin:/bin:/opt/amazon/bin:/opt/amazon/bin', 'PYTHONUNBUFFERED': 'TRUE', 'CANONICAL_ENVROOT': '/opt/amazon', 'LD_LIBRARY_PATH': '/usr/local/nvidia/lib64:/opt/amazon/lib', 'LANG': 'en_US.utf8', 'DMLC_INTERFACE': 'ethwe', 'SHLVL': '1', 'DMLC_PS_ROOT_URI': '10.40.0.4', 'AWS_REGION': 'us-east-1', 'NVIDIA_VISIBLE_DEVICES': 'all', 'TRAINING_JOB_NAME': 'knn-2018-12-20-19-53-27-752', 'HOME': '/root', 'PROTOCOL_BUFFERS_PYTHON_IMPLEMENTATION': 'cpp', 'ENVROOT': '/opt/amazon', 'SAGEMAKER_DATA_PATH': '/opt/ml', 'NVIDIA_DRIVER_CAPABILITIES': 'compute,utility', 'NVIDIA_REQUIRE_CUDA': 'cuda>=9.0', 'OMP_NUM_THREADS': '2', 'HOSTNAME': 'aws', 'AWS_CONTAINER_CREDENTIALS_RELATIVE_URI': '/v2/credentials/ba9c82cb-8e4c-43a3-8611-c0710ec3bad4', 'DMLC_ROLE': 'worker', 'PWD': '/', 'DMLC_NUM_SERVER': '1', 'AWS_EXECUTION_ENV': 'AWS_ECS_EC2'}\u001b[0m\n",
      "\u001b[31mProcess 36 is a shell:scheduler.\u001b[0m\n",
      "\u001b[31mProcess 37 is a shell:server.\u001b[0m\n",
      "\u001b[31mProcess 1 is a worker.\u001b[0m\n",
      "\u001b[31m[12/20/2018 19:57:18 INFO 140513744906048] Using default worker.\u001b[0m\n",
      "\u001b[31m[12/20/2018 19:57:18 INFO 140513744906048] nvidia-smi took: 0.0251979827881 secs to identify 0 gpus\u001b[0m\n",
      "\u001b[31m[12/20/2018 19:57:18 INFO 140513744906048] Create Store: dist_async\u001b[0m\n",
      "\u001b[34m[12/20/2018 19:57:18 INFO 140458757187392] nvidia-smi took: 0.0251741409302 secs to identify 0 gpus\u001b[0m\n",
      "\u001b[34m[12/20/2018 19:57:18 INFO 140458757187392] Create Store: dist_async\u001b[0m\n",
      "\u001b[34m[12/20/2018 19:57:19 ERROR 140458757187392] nvidia-smi: failed to run (127): /bin/sh: nvidia-smi: command not found\u001b[0m\n",
      "\u001b[34m[12/20/2018 19:57:19 INFO 140458757187392] Using per-worker sample size = 250000 (Available virtual memory = 15195836416 bytes, GPU free memory = 0 bytes, number of workers = 4). If an out-of-memory error occurs, choose a larger instance type, use dimension reduction, decrease sample_size, and/or decrease mini_batch_size.\u001b[0m\n",
      "\u001b[33mDocker entrypoint called with argument(s): train\u001b[0m\n",
      "\u001b[33m[12/20/2018 19:57:18 INFO 139768521496384] Reading default configuration from /opt/amazon/lib/python2.7/site-packages/algorithm/resources/default-conf.json: {u'index_metric': u'L2', u'_tuning_objective_metric': u'', u'_num_gpus': u'auto', u'_log_level': u'info', u'faiss_index_ivf_nlists': u'auto', u'epochs': u'1', u'index_type': u'faiss.Flat', u'_faiss_index_nprobe': u'5', u'_kvstore': u'dist_async', u'_num_kv_servers': u'1', u'mini_batch_size': u'5000'}\u001b[0m\n",
      "\u001b[33m[12/20/2018 19:57:18 INFO 139768521496384] Reading provided configuration from /opt/ml/input/config/hyperparameters.json: {u'sample_size': u'1000000', u'feature_dim': u'10', u'index_type': u'faiss.IVFFlat', u'k': u'100', u'predictor_type': u'classifier'}\u001b[0m\n",
      "\u001b[33m[12/20/2018 19:57:18 INFO 139768521496384] Final configuration: {u'index_metric': u'L2', u'predictor_type': u'classifier', u'_tuning_objective_metric': u'', u'_num_gpus': u'auto', u'_log_level': u'info', u'feature_dim': u'10', u'faiss_index_ivf_nlists': u'auto', u'sample_size': u'1000000', u'epochs': u'1', u'index_type': u'faiss.IVFFlat', u'_faiss_index_nprobe': u'5', u'_kvstore': u'dist_async', u'_num_kv_servers': u'1', u'mini_batch_size': u'5000', u'k': u'100'}\u001b[0m\n",
      "\u001b[33m[12/20/2018 19:57:18 WARNING 139768521496384] Loggers have already been setup.\u001b[0m\n",
      "\u001b[33m[12/20/2018 19:57:18 INFO 139768521496384] Environment: {'ECS_CONTAINER_METADATA_URI': 'http://169.254.170.2/v3/e5bb7ddf-9a57-45c8-844b-42b261a415d7', 'PROTOCOL_BUFFERS_PYTHON_IMPLEMENTATION_VERSION': '2', 'DMLC_PS_ROOT_PORT': '9000', 'DMLC_NUM_WORKER': '4', 'SAGEMAKER_HTTP_PORT': '8080', 'PATH': '/opt/amazon/bin:/usr/local/nvidia/bin:/usr/local/sbin:/usr/local/bin:/usr/sbin:/usr/bin:/sbin:/bin:/opt/amazon/bin:/opt/amazon/bin', 'PYTHONUNBUFFERED': 'TRUE', 'CANONICAL_ENVROOT': '/opt/amazon', 'LD_LIBRARY_PATH': '/usr/local/nvidia/lib64:/opt/amazon/lib', 'LANG': 'en_US.utf8', 'DMLC_INTERFACE': 'ethwe', 'SHLVL': '1', 'DMLC_PS_ROOT_URI': '10.40.0.4', 'AWS_REGION': 'us-east-1', 'NVIDIA_VISIBLE_DEVICES': 'all', 'TRAINING_JOB_NAME': 'knn-2018-12-20-19-53-27-752', 'HOME': '/root', 'PROTOCOL_BUFFERS_PYTHON_IMPLEMENTATION': 'cpp', 'ENVROOT': '/opt/amazon', 'SAGEMAKER_DATA_PATH': '/opt/ml', 'NVIDIA_DRIVER_CAPABILITIES': 'compute,utility', 'NVIDIA_REQUIRE_CUDA': 'cuda>=9.0', 'OMP_NUM_THREADS': '2', 'HOSTNAME': 'aws', 'AWS_CONTAINER_CREDENTIALS_RELATIVE_URI': '/v2/credentials/c1a4e126-fa0d-478b-a286-f6a2fbb861cf', 'DMLC_ROLE': 'worker', 'PWD': '/', 'DMLC_NUM_SERVER': '1', 'AWS_EXECUTION_ENV': 'AWS_ECS_EC2'}\u001b[0m\n",
      "\u001b[33mProcess 1 is a worker.\u001b[0m\n",
      "\u001b[33m[12/20/2018 19:57:18 INFO 139768521496384] Using default worker.\u001b[0m\n",
      "\u001b[33m[12/20/2018 19:57:19 INFO 139768521496384] nvidia-smi took: 0.0251739025116 secs to identify 0 gpus\u001b[0m\n",
      "\u001b[33m[12/20/2018 19:57:19 INFO 139768521496384] Create Store: dist_async\u001b[0m\n",
      "\u001b[33m[12/20/2018 19:57:19 ERROR 139768521496384] nvidia-smi: failed to run (127): /bin/sh: nvidia-smi: command not found\u001b[0m\n",
      "\u001b[33m[12/20/2018 19:57:19 INFO 139768521496384] Using per-worker sample size = 250000 (Available virtual memory = 15199240192 bytes, GPU free memory = 0 bytes, number of workers = 4). If an out-of-memory error occurs, choose a larger instance type, use dimension reduction, decrease sample_size, and/or decrease mini_batch_size.\u001b[0m\n",
      "\u001b[31m[12/20/2018 19:57:19 ERROR 140513744906048] nvidia-smi: failed to run (127): /bin/sh: nvidia-smi: command not found\u001b[0m\n",
      "\u001b[31m[12/20/2018 19:57:19 INFO 140513744906048] Using per-worker sample size = 250000 (Available virtual memory = 15089246208 bytes, GPU free memory = 0 bytes, number of workers = 4). If an out-of-memory error occurs, choose a larger instance type, use dimension reduction, decrease sample_size, and/or decrease mini_batch_size.\u001b[0m\n",
      "\u001b[32m[12/20/2018 19:57:19 ERROR 139746834392896] nvidia-smi: failed to run (127): /bin/sh: nvidia-smi: command not found\u001b[0m\n",
      "\u001b[32m[12/20/2018 19:57:19 INFO 139746834392896] Using per-worker sample size = 250000 (Available virtual memory = 15195959296 bytes, GPU free memory = 0 bytes, number of workers = 4). If an out-of-memory error occurs, choose a larger instance type, use dimension reduction, decrease sample_size, and/or decrease mini_batch_size.\u001b[0m\n",
      "\u001b[34m#metrics {\"Metrics\": {\"Max Batches Seen Between Resets\": {\"count\": 1, \"max\": 0, \"sum\": 0.0, \"min\": 0}, \"Number of Batches Since Last Reset\": {\"count\": 1, \"max\": 0, \"sum\": 0.0, \"min\": 0}, \"Number of Records Since Last Reset\": {\"count\": 1, \"max\": 0, \"sum\": 0.0, \"min\": 0}, \"Total Batches Seen\": {\"count\": 1, \"max\": 0, \"sum\": 0.0, \"min\": 0}, \"Total Records Seen\": {\"count\": 1, \"max\": 0, \"sum\": 0.0, \"min\": 0}, \"Max Records Seen Between Resets\": {\"count\": 1, \"max\": 0, \"sum\": 0.0, \"min\": 0}, \"Reset Count\": {\"count\": 1, \"max\": 0, \"sum\": 0.0, \"min\": 0}}, \"EndTime\": 1545335840.152795, \"Dimensions\": {\"Host\": \"algo-4\", \"Meta\": \"init_train_data_iter\", \"Operation\": \"training\", \"Algorithm\": \"AWS/KNN\"}, \"StartTime\": 1545335840.15275}\n",
      "\u001b[0m\n",
      "\u001b[33m#metrics {\"Metrics\": {\"Max Batches Seen Between Resets\": {\"count\": 1, \"max\": 0, \"sum\": 0.0, \"min\": 0}, \"Number of Batches Since Last Reset\": {\"count\": 1, \"max\": 0, \"sum\": 0.0, \"min\": 0}, \"Number of Records Since Last Reset\": {\"count\": 1, \"max\": 0, \"sum\": 0.0, \"min\": 0}, \"Total Batches Seen\": {\"count\": 1, \"max\": 0, \"sum\": 0.0, \"min\": 0}, \"Total Records Seen\": {\"count\": 1, \"max\": 0, \"sum\": 0.0, \"min\": 0}, \"Max Records Seen Between Resets\": {\"count\": 1, \"max\": 0, \"sum\": 0.0, \"min\": 0}, \"Reset Count\": {\"count\": 1, \"max\": 0, \"sum\": 0.0, \"min\": 0}}, \"EndTime\": 1545335840.150544, \"Dimensions\": {\"Host\": \"algo-3\", \"Meta\": \"init_train_data_iter\", \"Operation\": \"training\", \"Algorithm\": \"AWS/KNN\"}, \"StartTime\": 1545335840.15048}\n",
      "\u001b[0m\n",
      "\u001b[31m#metrics {\"Metrics\": {\"Max Batches Seen Between Resets\": {\"count\": 1, \"max\": 0, \"sum\": 0.0, \"min\": 0}, \"Number of Batches Since Last Reset\": {\"count\": 1, \"max\": 0, \"sum\": 0.0, \"min\": 0}, \"Number of Records Since Last Reset\": {\"count\": 1, \"max\": 0, \"sum\": 0.0, \"min\": 0}, \"Total Batches Seen\": {\"count\": 1, \"max\": 0, \"sum\": 0.0, \"min\": 0}, \"Total Records Seen\": {\"count\": 1, \"max\": 0, \"sum\": 0.0, \"min\": 0}, \"Max Records Seen Between Resets\": {\"count\": 1, \"max\": 0, \"sum\": 0.0, \"min\": 0}, \"Reset Count\": {\"count\": 1, \"max\": 0, \"sum\": 0.0, \"min\": 0}}, \"EndTime\": 1545335840.149402, \"Dimensions\": {\"Host\": \"algo-1\", \"Meta\": \"init_train_data_iter\", \"Operation\": \"training\", \"Algorithm\": \"AWS/KNN\"}, \"StartTime\": 1545335840.149357}\n",
      "\u001b[0m\n",
      "\u001b[32m#metrics {\"Metrics\": {\"Max Batches Seen Between Resets\": {\"count\": 1, \"max\": 0, \"sum\": 0.0, \"min\": 0}, \"Number of Batches Since Last Reset\": {\"count\": 1, \"max\": 0, \"sum\": 0.0, \"min\": 0}, \"Number of Records Since Last Reset\": {\"count\": 1, \"max\": 0, \"sum\": 0.0, \"min\": 0}, \"Total Batches Seen\": {\"count\": 1, \"max\": 0, \"sum\": 0.0, \"min\": 0}, \"Total Records Seen\": {\"count\": 1, \"max\": 0, \"sum\": 0.0, \"min\": 0}, \"Max Records Seen Between Resets\": {\"count\": 1, \"max\": 0, \"sum\": 0.0, \"min\": 0}, \"Reset Count\": {\"count\": 1, \"max\": 0, \"sum\": 0.0, \"min\": 0}}, \"EndTime\": 1545335840.153922, \"Dimensions\": {\"Host\": \"algo-2\", \"Meta\": \"init_train_data_iter\", \"Operation\": \"training\", \"Algorithm\": \"AWS/KNN\"}, \"StartTime\": 1545335840.153877}\n",
      "\u001b[0m\n"
     ]
    },
    {
     "name": "stdout",
     "output_type": "stream",
     "text": [
      "\u001b[31m[12/20/2018 19:57:30 INFO 140513744906048] push reservoir to kv... 4 num_workers 2 rank\u001b[0m\n",
      "\u001b[32m[12/20/2018 19:57:30 INFO 139746834392896] push reservoir to kv... 4 num_workers 1 rank\u001b[0m\n",
      "\u001b[32m[12/20/2018 19:57:30 INFO 139746834392896] ...done (250000)\u001b[0m\n",
      "\u001b[32m[12/20/2018 19:57:30 INFO 139746834392896] #progress_metric: host=algo-2, completed 100 % of epochs\u001b[0m\n",
      "\u001b[32m#metrics {\"Metrics\": {\"Max Batches Seen Between Resets\": {\"count\": 1, \"max\": 1146, \"sum\": 1146.0, \"min\": 1146}, \"Number of Batches Since Last Reset\": {\"count\": 1, \"max\": 1146, \"sum\": 1146.0, \"min\": 1146}, \"Number of Records Since Last Reset\": {\"count\": 1, \"max\": 5726358, \"sum\": 5726358.0, \"min\": 5726358}, \"Total Batches Seen\": {\"count\": 1, \"max\": 1146, \"sum\": 1146.0, \"min\": 1146}, \"Total Records Seen\": {\"count\": 1, \"max\": 5726358, \"sum\": 5726358.0, \"min\": 5726358}, \"Max Records Seen Between Resets\": {\"count\": 1, \"max\": 5726358, \"sum\": 5726358.0, \"min\": 5726358}, \"Reset Count\": {\"count\": 1, \"max\": 1, \"sum\": 1.0, \"min\": 1}}, \"EndTime\": 1545335850.80165, \"Dimensions\": {\"Host\": \"algo-2\", \"Meta\": \"training_data_iter\", \"Operation\": \"training\", \"Algorithm\": \"AWS/KNN\", \"epoch\": 0}, \"StartTime\": 1545335840.154161}\n",
      "\u001b[0m\n",
      "\u001b[32m[12/20/2018 19:57:30 INFO 139746834392896] #throughput_metric: host=algo-2, train throughput=537805.818914 records/second\u001b[0m\n",
      "\u001b[34m[12/20/2018 19:57:30 INFO 140458757187392] push reservoir to kv... 4 num_workers 0 rank\u001b[0m\n",
      "\u001b[34m[12/20/2018 19:57:30 INFO 140458757187392] ...done (250000)\u001b[0m\n",
      "\u001b[34m[12/20/2018 19:57:30 INFO 140458757187392] #progress_metric: host=algo-4, completed 100 % of epochs\u001b[0m\n",
      "\u001b[34m#metrics {\"Metrics\": {\"Max Batches Seen Between Resets\": {\"count\": 1, \"max\": 1146, \"sum\": 1146.0, \"min\": 1146}, \"Number of Batches Since Last Reset\": {\"count\": 1, \"max\": 1146, \"sum\": 1146.0, \"min\": 1146}, \"Number of Records Since Last Reset\": {\"count\": 1, \"max\": 5726358, \"sum\": 5726358.0, \"min\": 5726358}, \"Total Batches Seen\": {\"count\": 1, \"max\": 1146, \"sum\": 1146.0, \"min\": 1146}, \"Total Records Seen\": {\"count\": 1, \"max\": 5726358, \"sum\": 5726358.0, \"min\": 5726358}, \"Max Records Seen Between Resets\": {\"count\": 1, \"max\": 5726358, \"sum\": 5726358.0, \"min\": 5726358}, \"Reset Count\": {\"count\": 1, \"max\": 1, \"sum\": 1.0, \"min\": 1}}, \"EndTime\": 1545335850.811489, \"Dimensions\": {\"Host\": \"algo-4\", \"Meta\": \"training_data_iter\", \"Operation\": \"training\", \"Algorithm\": \"AWS/KNN\", \"epoch\": 0}, \"StartTime\": 1545335840.153032}\n",
      "\u001b[0m\n",
      "\u001b[34m[12/20/2018 19:57:30 INFO 140458757187392] #throughput_metric: host=algo-4, train throughput=537250.444169 records/second\u001b[0m\n",
      "\u001b[34m[12/20/2018 19:57:30 WARNING 140458757187392] Unable to compute test score, model is not available.\u001b[0m\n",
      "\u001b[34m#metrics {\"Metrics\": {\"totaltime\": {\"count\": 1, \"max\": 12467.612028121948, \"sum\": 12467.612028121948, \"min\": 12467.612028121948}, \"finalize.time\": {\"count\": 1, \"max\": 0.054836273193359375, \"sum\": 0.054836273193359375, \"min\": 0.054836273193359375}, \"initialize.time\": {\"count\": 1, \"max\": 1582.3209285736084, \"sum\": 1582.3209285736084, \"min\": 1582.3209285736084}, \"setuptime\": {\"count\": 1, \"max\": 13.828039169311523, \"sum\": 13.828039169311523, \"min\": 13.828039169311523}, \"update.time\": {\"count\": 1, \"max\": 10657.902002334595, \"sum\": 10657.902002334595, \"min\": 10657.902002334595}, \"epochs\": {\"count\": 1, \"max\": 1, \"sum\": 1.0, \"min\": 1}}, \"EndTime\": 1545335850.852649, \"Dimensions\": {\"Host\": \"algo-4\", \"Operation\": \"training\", \"Algorithm\": \"AWS/KNN\"}, \"StartTime\": 1545335838.570165}\n",
      "\u001b[0m\n",
      "\u001b[33m[12/20/2018 19:57:30 INFO 139768521496384] push reservoir to kv... 4 num_workers 3 rank\u001b[0m\n",
      "\u001b[33m[12/20/2018 19:57:30 INFO 139768521496384] ...done (250000)\u001b[0m\n",
      "\u001b[33m[12/20/2018 19:57:30 INFO 139768521496384] #progress_metric: host=algo-3, completed 100 % of epochs\u001b[0m\n",
      "\u001b[33m#metrics {\"Metrics\": {\"Max Batches Seen Between Resets\": {\"count\": 1, \"max\": 1146, \"sum\": 1146.0, \"min\": 1146}, \"Number of Batches Since Last Reset\": {\"count\": 1, \"max\": 1146, \"sum\": 1146.0, \"min\": 1146}, \"Number of Records Since Last Reset\": {\"count\": 1, \"max\": 5726358, \"sum\": 5726358.0, \"min\": 5726358}, \"Total Batches Seen\": {\"count\": 1, \"max\": 1146, \"sum\": 1146.0, \"min\": 1146}, \"Total Records Seen\": {\"count\": 1, \"max\": 5726358, \"sum\": 5726358.0, \"min\": 5726358}, \"Max Records Seen Between Resets\": {\"count\": 1, \"max\": 5726358, \"sum\": 5726358.0, \"min\": 5726358}, \"Reset Count\": {\"count\": 1, \"max\": 1, \"sum\": 1.0, \"min\": 1}}, \"EndTime\": 1545335850.845135, \"Dimensions\": {\"Host\": \"algo-3\", \"Meta\": \"training_data_iter\", \"Operation\": \"training\", \"Algorithm\": \"AWS/KNN\", \"epoch\": 0}, \"StartTime\": 1545335840.150784}\n",
      "\u001b[0m\n",
      "\u001b[33m[12/20/2018 19:57:30 INFO 139768521496384] #throughput_metric: host=algo-3, train throughput=535449.581406 records/second\u001b[0m\n",
      "\u001b[33m[12/20/2018 19:57:30 WARNING 139768521496384] Unable to compute test score, model is not available.\u001b[0m\n",
      "\u001b[33m#metrics {\"Metrics\": {\"totaltime\": {\"count\": 1, \"max\": 11959.464073181152, \"sum\": 11959.464073181152, \"min\": 11959.464073181152}, \"finalize.time\": {\"count\": 1, \"max\": 0.025987625122070312, \"sum\": 0.025987625122070312, \"min\": 0.025987625122070312}, \"initialize.time\": {\"count\": 1, \"max\": 1056.4470291137695, \"sum\": 1056.4470291137695, \"min\": 1056.4470291137695}, \"setuptime\": {\"count\": 1, \"max\": 15.59901237487793, \"sum\": 15.59901237487793, \"min\": 15.59901237487793}, \"update.time\": {\"count\": 1, \"max\": 10694.135904312134, \"sum\": 10694.135904312134, \"min\": 10694.135904312134}, \"epochs\": {\"count\": 1, \"max\": 1, \"sum\": 1.0, \"min\": 1}}, \"EndTime\": 1545335850.848574, \"Dimensions\": {\"Host\": \"algo-3\", \"Operation\": \"training\", \"Algorithm\": \"AWS/KNN\"}, \"StartTime\": 1545335839.093753}\n",
      "\u001b[0m\n",
      "\u001b[31m[12/20/2018 19:57:30 INFO 140513744906048] ...done (250000)\u001b[0m\n",
      "\u001b[31m[12/20/2018 19:57:30 INFO 140513744906048] #progress_metric: host=algo-1, completed 100 % of epochs\u001b[0m\n",
      "\u001b[31m#metrics {\"Metrics\": {\"Max Batches Seen Between Resets\": {\"count\": 1, \"max\": 1146, \"sum\": 1146.0, \"min\": 1146}, \"Number of Batches Since Last Reset\": {\"count\": 1, \"max\": 1146, \"sum\": 1146.0, \"min\": 1146}, \"Number of Records Since Last Reset\": {\"count\": 1, \"max\": 5726358, \"sum\": 5726358.0, \"min\": 5726358}, \"Total Batches Seen\": {\"count\": 1, \"max\": 1146, \"sum\": 1146.0, \"min\": 1146}, \"Total Records Seen\": {\"count\": 1, \"max\": 5726358, \"sum\": 5726358.0, \"min\": 5726358}, \"Max Records Seen Between Resets\": {\"count\": 1, \"max\": 5726358, \"sum\": 5726358.0, \"min\": 5726358}, \"Reset Count\": {\"count\": 1, \"max\": 1, \"sum\": 1.0, \"min\": 1}}, \"EndTime\": 1545335850.759828, \"Dimensions\": {\"Host\": \"algo-1\", \"Meta\": \"training_data_iter\", \"Operation\": \"training\", \"Algorithm\": \"AWS/KNN\", \"epoch\": 0}, \"StartTime\": 1545335840.149636}\n",
      "\u001b[0m\n",
      "\u001b[31m[12/20/2018 19:57:30 INFO 140513744906048] #throughput_metric: host=algo-1, train throughput=539695.030593 records/second\u001b[0m\n",
      "\u001b[31m[12/20/2018 19:57:30 INFO 140513744906048] pulled row count... worker 3 rows -1\u001b[0m\n",
      "\u001b[31m[12/20/2018 19:57:30 INFO 140513744906048] pulled row count... worker 2 rows 250000\u001b[0m\n",
      "\u001b[31m[12/20/2018 19:57:30 INFO 140513744906048] pulled row count... worker 1 rows -1\u001b[0m\n",
      "\u001b[31m[12/20/2018 19:57:30 INFO 140513744906048] pulled row count... worker 0 rows -1\u001b[0m\n",
      "\u001b[32m[12/20/2018 19:57:30 WARNING 139746834392896] Unable to compute test score, model is not available.\u001b[0m\n",
      "\u001b[32m#metrics {\"Metrics\": {\"totaltime\": {\"count\": 1, \"max\": 13597.944021224976, \"sum\": 13597.944021224976, \"min\": 13597.944021224976}, \"finalize.time\": {\"count\": 1, \"max\": 0.06222724914550781, \"sum\": 0.06222724914550781, \"min\": 0.06222724914550781}, \"initialize.time\": {\"count\": 1, \"max\": 2703.3329010009766, \"sum\": 2703.3329010009766, \"min\": 2703.3329010009766}, \"setuptime\": {\"count\": 1, \"max\": 13.153791427612305, \"sum\": 13.153791427612305, \"min\": 13.153791427612305}, \"update.time\": {\"count\": 1, \"max\": 10647.069931030273, \"sum\": 10647.069931030273, \"min\": 10647.069931030273}, \"epochs\": {\"count\": 1, \"max\": 1, \"sum\": 1.0, \"min\": 1}}, \"EndTime\": 1545335850.8528, \"Dimensions\": {\"Host\": \"algo-2\", \"Operation\": \"training\", \"Algorithm\": \"AWS/KNN\"}, \"StartTime\": 1545335837.450274}\n",
      "\u001b[0m\n",
      "\u001b[31m[12/20/2018 19:57:31 INFO 140513744906048] pulled row count... worker 3 rows 250000\u001b[0m\n",
      "\u001b[31m[12/20/2018 19:57:32 INFO 140513744906048] pulled row count... worker 1 rows 250000\u001b[0m\n",
      "\u001b[31m[12/20/2018 19:57:33 INFO 140513744906048] pulled row count... worker 0 rows 250000\u001b[0m\n",
      "\u001b[31m[12/20/2018 19:57:33 INFO 140513744906048] pulled... worker 2 data (250000, 10) labels (250000, 1) nans 0\u001b[0m\n",
      "\u001b[31m[12/20/2018 19:57:33 INFO 140513744906048] calling index.train...\u001b[0m\n"
     ]
    },
    {
     "name": "stdout",
     "output_type": "stream",
     "text": [
      "\n",
      "2018-12-20 19:59:53 Uploading - Uploading generated training model\n",
      "2018-12-20 19:59:53 Completed - Training job completed\n",
      "Billable seconds: 719\n"
     ]
    }
   ],
   "source": [
    "hyperparams_ivf_l2 = {\n",
    "    'feature_dim': 10,\n",
    "    'k': 100,\n",
    "    'sample_size': 1000000,\n",
    "    'predictor_type': 'classifier',\n",
    "    'index_type': 'faiss.IVFFlat'\n",
    "}\n",
    "output_path_ivf_l2 = 's3://' + bucket + '/' + prefix + '/ivf_l2/output'\n",
    "knn_estimator_ivf_l2 = trained_estimator_from_hyperparams(s3_train_data, hyperparams_ivf_l2, output_path_ivf_l2, \n",
    "                                                          s3_test_data=s3_test_data)"
   ]
  },
  {
   "cell_type": "markdown",
   "metadata": {},
   "source": [
    "### Evaluation\n",
    "\n",
    "From here, we'll use the verbose KNN API to obtain the predictions for multiple k values and thereby derive some quality score for each.  We'll also look at the latency, and evaluate across both dimensions."
   ]
  },
  {
   "cell_type": "code",
   "execution_count": 47,
   "metadata": {},
   "outputs": [],
   "source": [
    "## Again, ripped from the Sagemaker k_nearest_neighbors_covtype example\n",
    "def scores_for_ks(test_labels, knn_labels, ks):\n",
    "    f1_weight = []\n",
    "    f1_macro = []\n",
    "    f1_micro = []\n",
    "    acc = []\n",
    "    for k in ks:\n",
    "        pred_k = stats.mode(knn_labels[:,:k], axis=1)[0].reshape((-1,))\n",
    "        f1_weight.append(f1_score(test_labels, pred_k, average='weighted'))\n",
    "        f1_macro.append(f1_score(test_labels, pred_k, average='macro'))\n",
    "        f1_micro.append(f1_score(test_labels, pred_k, average='micro'))\n",
    "        acc.append(accuracy_score(test_labels, pred_k))\n",
    "    return {'f1_weight': f1_weight, 'f1_macro': f1_macro, 'f1_micro': f1_micro, 'accuracy': acc, }\n",
    "\n",
    "def plot_prediction_quality(scores, ks):\n",
    "    colors = ['r-', 'b-', 'g-','y-'][:len(scores)]\n",
    "    for (k,v), color in zip(scores.items(), colors):\n",
    "        plt.plot(ks, v, color, label=k)\n",
    "    plt.legend()\n",
    "    plt.xlabel('k')\n",
    "    plt.ylabel('prediction quality')\n",
    "    plt.show()\n",
    "\n",
    "def evaluate_quality(predictor, test_features, test_labels, model_name, verbose=True, num_batches=100):\n",
    "    \"\"\"\n",
    "    Evaluate quality metrics of a model on a test set. \n",
    "    \"\"\"\n",
    "    # tune the predictor to provide the verbose response\n",
    "    predictor.accept = 'application/json; verbose=true'\n",
    "    \n",
    "    # split the test data set into num_batches batches and evaluate using prediction endpoint. \n",
    "    print('running prediction (quality)...')\n",
    "    batches = np.array_split(test_features, num_batches)\n",
    "    knn_labels = []\n",
    "    for batch in batches:\n",
    "        pred_result = predictor.predict(batch)\n",
    "        cur_knn_labels = np.array([pred_result['predictions'][i]['labels'] for i in range(len(pred_result['predictions']))])\n",
    "        knn_labels.append(cur_knn_labels)\n",
    "    knn_labels = np.concatenate(knn_labels)\n",
    "    print('running prediction (quality)... done')\n",
    "\n",
    "    # figure out different k values\n",
    "    top_k = knn_labels.shape[1]\n",
    "    ks = range(1, top_k+1)\n",
    "    \n",
    "    # compute scores for the quality of the model for each value of k\n",
    "    print('computing scores for all values of k... ')\n",
    "    quality_scores = scores_for_ks(test_labels, knn_labels, ks)\n",
    "    print('computing scores for all values of k... done')\n",
    "    if verbose:\n",
    "        plot_prediction_quality(quality_scores, ks)\n",
    "    \n",
    "    return quality_scores\n",
    "\n",
    "def evaluate_latency(predictor, test_features, test_labels, model_name, verbose=True, num_batches=100):\n",
    "    \"\"\"\n",
    "    Evaluate the run-time of a model on a test set.\n",
    "    \"\"\"\n",
    "    # tune the predictor to provide the non-verbose response\n",
    "    predictor.accept = 'application/json'\n",
    "    \n",
    "    # latency for large batches:\n",
    "    # split the test data set into num_batches batches and evaluate the latencies of the calls to endpoint. \n",
    "    print('running prediction (latency)...')\n",
    "    batches = np.array_split(test_features, num_batches)\n",
    "    test_preds = []\n",
    "    latency_sum = 0\n",
    "    for batch in batches:\n",
    "        start = time.time()\n",
    "        pred_batch = predictor.predict(batch)\n",
    "        latency_sum += time.time() - start\n",
    "    latency_mean = latency_sum / float(num_batches)\n",
    "    avg_batch_size = test_features.shape[0] / num_batches\n",
    "    \n",
    "    # estimate the latency for a batch of size 1\n",
    "    latencies = []\n",
    "    attempts = 2000\n",
    "    for i in range(attempts):\n",
    "        start = time.time()\n",
    "        pred_batch = predictor.predict(test_features[i].reshape((1,-1)))\n",
    "        latencies.append(time.time() - start)\n",
    "\n",
    "    latencies = sorted(latencies)\n",
    "    latency1_mean = sum(latencies) / float(attempts)\n",
    "    latency1_p90 = latencies[int(attempts*0.9)]\n",
    "    latency1_p99 = latencies[int(attempts*0.99)]\n",
    "    print('running prediction (latency)... done')\n",
    "    \n",
    "    if verbose:\n",
    "        print(\"{:<11} {:.3f}\".format('Latency (ms, batch size %d):' % avg_batch_size, latency_mean * 1000))\n",
    "        print(\"{:<11} {:.3f}\".format('Latency (ms) mean for single item:', latency1_mean * 1000))\n",
    "        print(\"{:<11} {:.3f}\".format('Latency (ms) p90 for single item:', latency1_p90 * 1000))\n",
    "        print(\"{:<11} {:.3f}\".format('Latency (ms) p99 for single item:', latency1_p99 * 1000))\n",
    "        \n",
    "    return {'Latency': latency_mean, 'Latency1_mean': latency1_mean, 'Latency1_p90': latency1_p90, \n",
    "            'Latency1_p99': latency1_p99}\n",
    "\n",
    "def evaluate(predictor, test_features, test_labels, model_name, verbose=True, num_batches=100):\n",
    "    eval_result_q = evaluate_quality(pred, test_features, test_labels, model_name=model_name, verbose=verbose, num_batches=num_batches)\n",
    "    eval_result_l = evaluate_latency(pred, test_features, test_labels, model_name=model_name, verbose=verbose, num_batches=num_batches)\n",
    "    return dict(list(eval_result_q.items()) + list(eval_result_l.items()))"
   ]
  },
  {
   "cell_type": "code",
   "execution_count": 55,
   "metadata": {},
   "outputs": [],
   "source": [
    "def delete_endpoint(predictor):\n",
    "    try:\n",
    "        boto3.client('sagemaker').delete_endpoint(EndpointName=predictor.endpoint)\n",
    "        print('Deleted {}'.format(predictor.endpoint))\n",
    "    except:\n",
    "        print('Already deleted: {}'.format(predictor.endpoint))"
   ]
  },
  {
   "cell_type": "code",
   "execution_count": 56,
   "metadata": {},
   "outputs": [
    {
     "name": "stdout",
     "output_type": "stream",
     "text": [
      "Deleted knn-latency-flat-l2-1545340257-7491999\n"
     ]
    }
   ],
   "source": [
    "delete_endpoint(pred)"
   ]
  },
  {
   "cell_type": "markdown",
   "metadata": {},
   "source": [
    "In order to evaluate quality, we need to separate the labels from the test data and pass them through separately as numpy arrays."
   ]
  },
  {
   "cell_type": "code",
   "execution_count": 51,
   "metadata": {},
   "outputs": [],
   "source": [
    "test_features = test_data.drop(['isFraud'], axis=1).values\n",
    "test_labels = test_data['isFraud'].values"
   ]
  },
  {
   "cell_type": "code",
   "execution_count": 57,
   "metadata": {},
   "outputs": [
    {
     "name": "stdout",
     "output_type": "stream",
     "text": [
      "\n",
      "setting up endpoint for  index_type=ivf_l2\n"
     ]
    },
    {
     "name": "stderr",
     "output_type": "stream",
     "text": [
      "INFO:sagemaker:Creating model with name: knn-2018-12-20-21-53-44-398\n",
      "INFO:sagemaker:Creating endpoint with name knn-latency-ivf-l2-1545342824-189569\n"
     ]
    },
    {
     "name": "stdout",
     "output_type": "stream",
     "text": [
      "--------------------------------------------------------------------------!\n",
      "Running prediction for ivf_l2\n",
      "running prediction (quality)...\n",
      "running prediction (quality)... done\n",
      "computing scores for all values of k... \n",
      "computing scores for all values of k... done\n"
     ]
    },
    {
     "data": {
      "image/png": "[encoded data removed]",
      "text/plain": [
       "<Figure size 432x288 with 1 Axes>"
      ]
     },
     "metadata": {},
     "output_type": "display_data"
    },
    {
     "name": "stdout",
     "output_type": "stream",
     "text": [
      "running prediction (latency)...\n",
      "running prediction (latency)... done\n",
      "Latency (ms, batch size 6362): 1344.112\n",
      "Latency (ms) mean for single item: 10.124\n",
      "Latency (ms) p90 for single item: 11.439\n",
      "Latency (ms) p99 for single item: 18.003\n",
      "Deleted knn-latency-ivf-l2-1545342824-189569\n"
     ]
    }
   ],
   "source": [
    "import time\n",
    "\n",
    "#index2estimator = {'flat_l2': knn_estimator_flat_l2, 'ivf_l2': knn_estimator_ivf_l2}\n",
    "index2estimator = {'ivf_l2': knn_estimator_ivf_l2}\n",
    "\n",
    "instance_type = 'ml.m4.xlarge'\n",
    "\n",
    "eval_results = {}\n",
    "\n",
    "for index in index2estimator:\n",
    "    estimator = index2estimator[index]\n",
    "    eval_results[index] = {}\n",
    "    model_name = 'knn_%s'%(index)\n",
    "    endpoint_name = 'knn-latency-%s-%s'%(index.replace('_','-'), str(time.time()).replace('.','-'))\n",
    "    print('\\nsetting up endpoint for  index_type=%s' %(index))\n",
    "    pred = predictor_from_hyperparams(estimator, index, instance_type, endpoint_name=endpoint_name)\n",
    "    print('')\n",
    "    print('Running prediction for %s'%(index))\n",
    "    eval_result = evaluate(pred, test_features, test_labels, model_name=model_name, verbose=True)        \n",
    "    eval_result['instance'] = instance_type \n",
    "    eval_result['index'] = index \n",
    "    eval_results[index][instance_type] = eval_result\n",
    "    delete_endpoint(pred)"
   ]
  },
  {
   "cell_type": "markdown",
   "metadata": {},
   "source": [
    "So... both models peak with with very similar f1 scores around k=10, but the IVF-clustered one does so at a much lower latency, so that seems to be the one to run with for real use.  Let's get ourselves a reference model built around that lower k value."
   ]
  },
  {
   "cell_type": "code",
   "execution_count": 69,
   "metadata": {},
   "outputs": [
    {
     "name": "stderr",
     "output_type": "stream",
     "text": [
      "INFO:sagemaker:Creating training-job with name: knn-2018-12-21-14-48-31-484\n"
     ]
    },
    {
     "name": "stdout",
     "output_type": "stream",
     "text": [
      "2018-12-21 14:48:31 Starting - Starting the training job...\n",
      "2018-12-21 14:48:34 Starting - Launching requested ML instances......\n",
      "2018-12-21 14:49:39 Starting - Preparing the instances for training............\n",
      "2018-12-21 14:51:58 Downloading - Downloading input data\n",
      "2018-12-21 14:51:58 Training - Training image download completed. Training in progress..\n",
      "\u001b[34mDocker entrypoint called with argument(s): train\u001b[0m\n",
      "\u001b[34m[12/21/2018 14:52:00 INFO 139991684052800] Reading default configuration from /opt/amazon/lib/python2.7/site-packages/algorithm/resources/default-conf.json: {u'index_metric': u'L2', u'_tuning_objective_metric': u'', u'_num_gpus': u'auto', u'_log_level': u'info', u'faiss_index_ivf_nlists': u'auto', u'epochs': u'1', u'index_type': u'faiss.Flat', u'_faiss_index_nprobe': u'5', u'_kvstore': u'dist_async', u'_num_kv_servers': u'1', u'mini_batch_size': u'5000'}\u001b[0m\n",
      "\u001b[34m[12/21/2018 14:52:00 INFO 139991684052800] Reading provided configuration from /opt/ml/input/config/hyperparameters.json: {u'sample_size': u'1000000', u'feature_dim': u'10', u'index_type': u'faiss.IVFFlat', u'k': u'100', u'predictor_type': u'classifier'}\u001b[0m\n",
      "\u001b[34m[12/21/2018 14:52:00 INFO 139991684052800] Final configuration: {u'index_metric': u'L2', u'predictor_type': u'classifier', u'_tuning_objective_metric': u'', u'_num_gpus': u'auto', u'_log_level': u'info', u'feature_dim': u'10', u'faiss_index_ivf_nlists': u'auto', u'sample_size': u'1000000', u'epochs': u'1', u'index_type': u'faiss.IVFFlat', u'_faiss_index_nprobe': u'5', u'_kvstore': u'dist_async', u'_num_kv_servers': u'1', u'mini_batch_size': u'5000', u'k': u'100'}\u001b[0m\n",
      "\u001b[34m[12/21/2018 14:52:00 WARNING 139991684052800] Loggers have already been setup.\u001b[0m\n",
      "\u001b[34m[12/21/2018 14:52:00 INFO 139991684052800] Environment: {'ECS_CONTAINER_METADATA_URI': 'http://169.254.170.2/v3/b9fb6ff6-bd92-4fc4-bbcd-2e5856955b47', 'PROTOCOL_BUFFERS_PYTHON_IMPLEMENTATION_VERSION': '2', 'DMLC_PS_ROOT_PORT': '9000', 'DMLC_NUM_WORKER': '4', 'SAGEMAKER_HTTP_PORT': '8080', 'PATH': '/opt/amazon/bin:/usr/local/nvidia/bin:/usr/local/sbin:/usr/local/bin:/usr/sbin:/usr/bin:/sbin:/bin:/opt/amazon/bin:/opt/amazon/bin', 'PYTHONUNBUFFERED': 'TRUE', 'CANONICAL_ENVROOT': '/opt/amazon', 'LD_LIBRARY_PATH': '/usr/local/nvidia/lib64:/opt/amazon/lib', 'LANG': 'en_US.utf8', 'DMLC_INTERFACE': 'ethwe', 'SHLVL': '1', 'DMLC_PS_ROOT_URI': '10.44.0.4', 'AWS_REGION': 'us-east-1', 'NVIDIA_VISIBLE_DEVICES': 'all', 'TRAINING_JOB_NAME': 'knn-2018-12-21-14-48-31-484', 'HOME': '/root', 'PROTOCOL_BUFFERS_PYTHON_IMPLEMENTATION': 'cpp', 'ENVROOT': '/opt/amazon', 'SAGEMAKER_DATA_PATH': '/opt/ml', 'NVIDIA_DRIVER_CAPABILITIES': 'compute,utility', 'NVIDIA_REQUIRE_CUDA': 'cuda>=9.0', 'OMP_NUM_THREADS': '2', 'HOSTNAME': 'aws', 'AWS_CONTAINER_CREDENTIALS_RELATIVE_URI': '/v2/credentials/f3833eb9-183d-4e0d-b0e5-32dac452a5a0', 'DMLC_ROLE': 'worker', 'PWD': '/', 'DMLC_NUM_SERVER': '1', 'AWS_EXECUTION_ENV': 'AWS_ECS_EC2'}\u001b[0m\n",
      "\u001b[34mProcess 1 is a worker.\u001b[0m\n",
      "\u001b[34m[12/21/2018 14:52:00 INFO 139991684052800] Using default worker.\u001b[0m\n",
      "\u001b[34m[12/21/2018 14:52:00 INFO 139991684052800] nvidia-smi took: 0.0251779556274 secs to identify 0 gpus\u001b[0m\n",
      "\u001b[34m[12/21/2018 14:52:00 INFO 139991684052800] Create Store: dist_async\u001b[0m\n",
      "\u001b[32mDocker entrypoint called with argument(s): train\u001b[0m\n",
      "\u001b[32m[12/21/2018 14:52:00 INFO 139915557582656] Reading default configuration from /opt/amazon/lib/python2.7/site-packages/algorithm/resources/default-conf.json: {u'index_metric': u'L2', u'_tuning_objective_metric': u'', u'_num_gpus': u'auto', u'_log_level': u'info', u'faiss_index_ivf_nlists': u'auto', u'epochs': u'1', u'index_type': u'faiss.Flat', u'_faiss_index_nprobe': u'5', u'_kvstore': u'dist_async', u'_num_kv_servers': u'1', u'mini_batch_size': u'5000'}\u001b[0m\n",
      "\u001b[32m[12/21/2018 14:52:00 INFO 139915557582656] Reading provided configuration from /opt/ml/input/config/hyperparameters.json: {u'sample_size': u'1000000', u'feature_dim': u'10', u'index_type': u'faiss.IVFFlat', u'k': u'100', u'predictor_type': u'classifier'}\u001b[0m\n",
      "\u001b[32m[12/21/2018 14:52:00 INFO 139915557582656] Final configuration: {u'index_metric': u'L2', u'predictor_type': u'classifier', u'_tuning_objective_metric': u'', u'_num_gpus': u'auto', u'_log_level': u'info', u'feature_dim': u'10', u'faiss_index_ivf_nlists': u'auto', u'sample_size': u'1000000', u'epochs': u'1', u'index_type': u'faiss.IVFFlat', u'_faiss_index_nprobe': u'5', u'_kvstore': u'dist_async', u'_num_kv_servers': u'1', u'mini_batch_size': u'5000', u'k': u'100'}\u001b[0m\n",
      "\u001b[32m[12/21/2018 14:52:00 WARNING 139915557582656] Loggers have already been setup.\u001b[0m\n",
      "\u001b[32m[12/21/2018 14:52:00 INFO 139915557582656] Environment: {'ECS_CONTAINER_METADATA_URI': 'http://169.254.170.2/v3/0d542b88-2fc0-441a-a739-fb523e9c38e5', 'PROTOCOL_BUFFERS_PYTHON_IMPLEMENTATION_VERSION': '2', 'DMLC_PS_ROOT_PORT': '9000', 'DMLC_NUM_WORKER': '4', 'SAGEMAKER_HTTP_PORT': '8080', 'PATH': '/opt/amazon/bin:/usr/local/nvidia/bin:/usr/local/sbin:/usr/local/bin:/usr/sbin:/usr/bin:/sbin:/bin:/opt/amazon/bin:/opt/amazon/bin', 'PYTHONUNBUFFERED': 'TRUE', 'CANONICAL_ENVROOT': '/opt/amazon', 'LD_LIBRARY_PATH': '/usr/local/nvidia/lib64:/opt/amazon/lib', 'LANG': 'en_US.utf8', 'DMLC_INTERFACE': 'ethwe', 'SHLVL': '1', 'DMLC_PS_ROOT_URI': '10.44.0.4', 'AWS_REGION': 'us-east-1', 'NVIDIA_VISIBLE_DEVICES': 'all', 'TRAINING_JOB_NAME': 'knn-2018-12-21-14-48-31-484', 'HOME': '/root', 'PROTOCOL_BUFFERS_PYTHON_IMPLEMENTATION': 'cpp', 'ENVROOT': '/opt/amazon', 'SAGEMAKER_DATA_PATH': '/opt/ml', 'NVIDIA_DRIVER_CAPABILITIES': 'compute,utility', 'NVIDIA_REQUIRE_CUDA': 'cuda>=9.0', 'OMP_NUM_THREADS': '2', 'HOSTNAME': 'aws', 'AWS_CONTAINER_CREDENTIALS_RELATIVE_URI': '/v2/credentials/c66e4c0f-fffe-4a47-b07b-f79d19c99922', 'DMLC_ROLE': 'worker', 'PWD': '/', 'DMLC_NUM_SERVER': '1', 'AWS_EXECUTION_ENV': 'AWS_ECS_EC2'}\u001b[0m\n",
      "\u001b[32mProcess 1 is a worker.\u001b[0m\n",
      "\u001b[32m[12/21/2018 14:52:00 INFO 139915557582656] Using default worker.\u001b[0m\n",
      "\u001b[32m[12/21/2018 14:52:00 INFO 139915557582656] nvidia-smi took: 0.0251820087433 secs to identify 0 gpus\u001b[0m\n",
      "\u001b[32m[12/21/2018 14:52:00 INFO 139915557582656] Create Store: dist_async\u001b[0m\n",
      "\u001b[33mDocker entrypoint called with argument(s): train\u001b[0m\n",
      "\u001b[32m[12/21/2018 14:52:02 ERROR 139915557582656] nvidia-smi: failed to run (127): /bin/sh: nvidia-smi: command not found\u001b[0m\n",
      "\u001b[32m[12/21/2018 14:52:02 INFO 139915557582656] Using per-worker sample size = 250000 (Available virtual memory = 15197388800 bytes, GPU free memory = 0 bytes, number of workers = 4). If an out-of-memory error occurs, choose a larger instance type, use dimension reduction, decrease sample_size, and/or decrease mini_batch_size.\u001b[0m\n",
      "\u001b[31mDocker entrypoint called with argument(s): train\u001b[0m\n",
      "\u001b[31m[12/21/2018 14:52:01 INFO 139936671827776] Reading default configuration from /opt/amazon/lib/python2.7/site-packages/algorithm/resources/default-conf.json: {u'index_metric': u'L2', u'_tuning_objective_metric': u'', u'_num_gpus': u'auto', u'_log_level': u'info', u'faiss_index_ivf_nlists': u'auto', u'epochs': u'1', u'index_type': u'faiss.Flat', u'_faiss_index_nprobe': u'5', u'_kvstore': u'dist_async', u'_num_kv_servers': u'1', u'mini_batch_size': u'5000'}\u001b[0m\n",
      "\u001b[31m[12/21/2018 14:52:01 INFO 139936671827776] Reading provided configuration from /opt/ml/input/config/hyperparameters.json: {u'sample_size': u'1000000', u'feature_dim': u'10', u'index_type': u'faiss.IVFFlat', u'k': u'100', u'predictor_type': u'classifier'}\u001b[0m\n",
      "\u001b[31m[12/21/2018 14:52:01 INFO 139936671827776] Final configuration: {u'index_metric': u'L2', u'predictor_type': u'classifier', u'_tuning_objective_metric': u'', u'_num_gpus': u'auto', u'_log_level': u'info', u'feature_dim': u'10', u'faiss_index_ivf_nlists': u'auto', u'sample_size': u'1000000', u'epochs': u'1', u'index_type': u'faiss.IVFFlat', u'_faiss_index_nprobe': u'5', u'_kvstore': u'dist_async', u'_num_kv_servers': u'1', u'mini_batch_size': u'5000', u'k': u'100'}\u001b[0m\n",
      "\u001b[31m[12/21/2018 14:52:01 WARNING 139936671827776] Loggers have already been setup.\u001b[0m\n",
      "\u001b[31m[12/21/2018 14:52:01 INFO 139936671827776] Launching parameter server for role scheduler\u001b[0m\n",
      "\u001b[31m[12/21/2018 14:52:01 INFO 139936671827776] {'ECS_CONTAINER_METADATA_URI': 'http://169.254.170.2/v3/21fd3cac-525a-429d-9a77-8acdf7464807', 'PROTOCOL_BUFFERS_PYTHON_IMPLEMENTATION_VERSION': '2', 'PATH': '/opt/amazon/bin:/usr/local/nvidia/bin:/usr/local/sbin:/usr/local/bin:/usr/sbin:/usr/bin:/sbin:/bin:/opt/amazon/bin:/opt/amazon/bin', 'SAGEMAKER_HTTP_PORT': '8080', 'HOME': '/root', 'PYTHONUNBUFFERED': 'TRUE', 'CANONICAL_ENVROOT': '/opt/amazon', 'LD_LIBRARY_PATH': '/usr/local/nvidia/lib64:/opt/amazon/lib', 'LANG': 'en_US.utf8', 'DMLC_INTERFACE': 'ethwe', 'SHLVL': '1', 'AWS_REGION': 'us-east-1', 'NVIDIA_VISIBLE_DEVICES': 'all', 'TRAINING_JOB_NAME': 'knn-2018-12-21-14-48-31-484', 'PROTOCOL_BUFFERS_PYTHON_IMPLEMENTATION': 'cpp', 'ENVROOT': '/opt/amazon', 'SAGEMAKER_DATA_PATH': '/opt/ml', 'NVIDIA_DRIVER_CAPABILITIES': 'compute,utility', 'NVIDIA_REQUIRE_CUDA': 'cuda>=9.0', 'OMP_NUM_THREADS': '2', 'HOSTNAME': 'aws', 'AWS_CONTAINER_CREDENTIALS_RELATIVE_URI': '/v2/credentials/b08f4514-f4cc-4219-ad23-7b9f3958a482', 'PWD': '/', 'AWS_EXECUTION_ENV': 'AWS_ECS_EC2'}\u001b[0m\n",
      "\u001b[31m[12/21/2018 14:52:01 INFO 139936671827776] envs={'ECS_CONTAINER_METADATA_URI': 'http://169.254.170.2/v3/21fd3cac-525a-429d-9a77-8acdf7464807', 'PROTOCOL_BUFFERS_PYTHON_IMPLEMENTATION_VERSION': '2', 'DMLC_NUM_WORKER': '4', 'DMLC_PS_ROOT_PORT': '9000', 'PATH': '/opt/amazon/bin:/usr/local/nvidia/bin:/usr/local/sbin:/usr/local/bin:/usr/sbin:/usr/bin:/sbin:/bin:/opt/amazon/bin:/opt/amazon/bin', 'SAGEMAKER_HTTP_PORT': '8080', 'HOME': '/root', 'PYTHONUNBUFFERED': 'TRUE', 'CANONICAL_ENVROOT': '/opt/amazon', 'LD_LIBRARY_PATH': '/usr/local/nvidia/lib64:/opt/amazon/lib', 'LANG': 'en_US.utf8', 'DMLC_INTERFACE': 'ethwe', 'SHLVL': '1', 'DMLC_PS_ROOT_URI': '10.44.0.4', 'AWS_REGION': 'us-east-1', 'NVIDIA_VISIBLE_DEVICES': 'all', 'TRAINING_JOB_NAME': 'knn-2018-12-21-14-48-31-484', 'PROTOCOL_BUFFERS_PYTHON_IMPLEMENTATION': 'cpp', 'ENVROOT': '/opt/amazon', 'SAGEMAKER_DATA_PATH': '/opt/ml', 'NVIDIA_DRIVER_CAPABILITIES': 'compute,utility', 'NVIDIA_REQUIRE_CUDA': 'cuda>=9.0', 'OMP_NUM_THREADS': '2', 'HOSTNAME': 'aws', 'AWS_CONTAINER_CREDENTIALS_RELATIVE_URI': '/v2/credentials/b08f4514-f4cc-4219-ad23-7b9f3958a482', 'DMLC_ROLE': 'scheduler', 'PWD': '/', 'DMLC_NUM_SERVER': '1', 'AWS_EXECUTION_ENV': 'AWS_ECS_EC2'}\u001b[0m\n",
      "\u001b[31m[12/21/2018 14:52:01 INFO 139936671827776] Launching parameter server for role server\u001b[0m\n",
      "\u001b[31m[12/21/2018 14:52:01 INFO 139936671827776] {'ECS_CONTAINER_METADATA_URI': 'http://169.254.170.2/v3/21fd3cac-525a-429d-9a77-8acdf7464807', 'PROTOCOL_BUFFERS_PYTHON_IMPLEMENTATION_VERSION': '2', 'PATH': '/opt/amazon/bin:/usr/local/nvidia/bin:/usr/local/sbin:/usr/local/bin:/usr/sbin:/usr/bin:/sbin:/bin:/opt/amazon/bin:/opt/amazon/bin', 'SAGEMAKER_HTTP_PORT': '8080', 'HOME': '/root', 'PYTHONUNBUFFERED': 'TRUE', 'CANONICAL_ENVROOT': '/opt/amazon', 'LD_LIBRARY_PATH': '/usr/local/nvidia/lib64:/opt/amazon/lib', 'LANG': 'en_US.utf8', 'DMLC_INTERFACE': 'ethwe', 'SHLVL': '1', 'AWS_REGION': 'us-east-1', 'NVIDIA_VISIBLE_DEVICES': 'all', 'TRAINING_JOB_NAME': 'knn-2018-12-21-14-48-31-484', 'PROTOCOL_BUFFERS_PYTHON_IMPLEMENTATION': 'cpp', 'ENVROOT': '/opt/amazon', 'SAGEMAKER_DATA_PATH': '/opt/ml', 'NVIDIA_DRIVER_CAPABILITIES': 'compute,utility', 'NVIDIA_REQUIRE_CUDA': 'cuda>=9.0', 'OMP_NUM_THREADS': '2', 'HOSTNAME': 'aws', 'AWS_CONTAINER_CREDENTIALS_RELATIVE_URI': '/v2/credentials/b08f4514-f4cc-4219-ad23-7b9f3958a482', 'PWD': '/', 'AWS_EXECUTION_ENV': 'AWS_ECS_EC2'}\u001b[0m\n",
      "\u001b[31m[12/21/2018 14:52:01 INFO 139936671827776] envs={'ECS_CONTAINER_METADATA_URI': 'http://169.254.170.2/v3/21fd3cac-525a-429d-9a77-8acdf7464807', 'PROTOCOL_BUFFERS_PYTHON_IMPLEMENTATION_VERSION': '2', 'DMLC_NUM_WORKER': '4', 'DMLC_PS_ROOT_PORT': '9000', 'PATH': '/opt/amazon/bin:/usr/local/nvidia/bin:/usr/local/sbin:/usr/local/bin:/usr/sbin:/usr/bin:/sbin:/bin:/opt/amazon/bin:/opt/amazon/bin', 'SAGEMAKER_HTTP_PORT': '8080', 'HOME': '/root', 'PYTHONUNBUFFERED': 'TRUE', 'CANONICAL_ENVROOT': '/opt/amazon', 'LD_LIBRARY_PATH': '/usr/local/nvidia/lib64:/opt/amazon/lib', 'LANG': 'en_US.utf8', 'DMLC_INTERFACE': 'ethwe', 'SHLVL': '1', 'DMLC_PS_ROOT_URI': '10.44.0.4', 'AWS_REGION': 'us-east-1', 'NVIDIA_VISIBLE_DEVICES': 'all', 'TRAINING_JOB_NAME': 'knn-2018-12-21-14-48-31-484', 'PROTOCOL_BUFFERS_PYTHON_IMPLEMENTATION': 'cpp', 'ENVROOT': '/opt/amazon', 'SAGEMAKER_DATA_PATH': '/opt/ml', 'NVIDIA_DRIVER_CAPABILITIES': 'compute,utility', 'NVIDIA_REQUIRE_CUDA': 'cuda>=9.0', 'OMP_NUM_THREADS': '2', 'HOSTNAME': 'aws', 'AWS_CONTAINER_CREDENTIALS_RELATIVE_URI': '/v2/credentials/b08f4514-f4cc-4219-ad23-7b9f3958a482', 'DMLC_ROLE': 'server', 'PWD': '/', 'DMLC_NUM_SERVER': '1', 'AWS_EXECUTION_ENV': 'AWS_ECS_EC2'}\u001b[0m\n",
      "\u001b[31m[12/21/2018 14:52:01 INFO 139936671827776] Environment: {'ECS_CONTAINER_METADATA_URI': 'http://169.254.170.2/v3/21fd3cac-525a-429d-9a77-8acdf7464807', 'PROTOCOL_BUFFERS_PYTHON_IMPLEMENTATION_VERSION': '2', 'DMLC_PS_ROOT_PORT': '9000', 'DMLC_NUM_WORKER': '4', 'SAGEMAKER_HTTP_PORT': '8080', 'PATH': '/opt/amazon/bin:/usr/local/nvidia/bin:/usr/local/sbin:/usr/local/bin:/usr/sbin:/usr/bin:/sbin:/bin:/opt/amazon/bin:/opt/amazon/bin', 'PYTHONUNBUFFERED': 'TRUE', 'CANONICAL_ENVROOT': '/opt/amazon', 'LD_LIBRARY_PATH': '/usr/local/nvidia/lib64:/opt/amazon/lib', 'LANG': 'en_US.utf8', 'DMLC_INTERFACE': 'ethwe', 'SHLVL': '1', 'DMLC_PS_ROOT_URI': '10.44.0.4', 'AWS_REGION': 'us-east-1', 'NVIDIA_VISIBLE_DEVICES': 'all', 'TRAINING_JOB_NAME': 'knn-2018-12-21-14-48-31-484', 'HOME': '/root', 'PROTOCOL_BUFFERS_PYTHON_IMPLEMENTATION': 'cpp', 'ENVROOT': '/opt/amazon', 'SAGEMAKER_DATA_PATH': '/opt/ml', 'NVIDIA_DRIVER_CAPABILITIES': 'compute,utility', 'NVIDIA_REQUIRE_CUDA': 'cuda>=9.0', 'OMP_NUM_THREADS': '2', 'HOSTNAME': 'aws', 'AWS_CONTAINER_CREDENTIALS_RELATIVE_URI': '/v2/credentials/b08f4514-f4cc-4219-ad23-7b9f3958a482', 'DMLC_ROLE': 'worker', 'PWD': '/', 'DMLC_NUM_SERVER': '1', 'AWS_EXECUTION_ENV': 'AWS_ECS_EC2'}\u001b[0m\n",
      "\u001b[31mProcess 36 is a shell:scheduler.\u001b[0m\n",
      "\u001b[31mProcess 37 is a shell:server.\u001b[0m\n",
      "\u001b[31mProcess 1 is a worker.\u001b[0m\n",
      "\u001b[31m[12/21/2018 14:52:01 INFO 139936671827776] Using default worker.\u001b[0m\n",
      "\u001b[31m[12/21/2018 14:52:01 INFO 139936671827776] nvidia-smi took: 0.0251979827881 secs to identify 0 gpus\u001b[0m\n",
      "\u001b[31m[12/21/2018 14:52:01 INFO 139936671827776] Create Store: dist_async\u001b[0m\n",
      "\u001b[31m[12/21/2018 14:52:02 ERROR 139936671827776] nvidia-smi: failed to run (127): /bin/sh: nvidia-smi: command not found\u001b[0m\n",
      "\u001b[31m[12/21/2018 14:52:02 INFO 139936671827776] Using per-worker sample size = 250000 (Available virtual memory = 15001993216 bytes, GPU free memory = 0 bytes, number of workers = 4). If an out-of-memory error occurs, choose a larger instance type, use dimension reduction, decrease sample_size, and/or decrease mini_batch_size.\u001b[0m\n",
      "\u001b[33m[12/21/2018 14:52:01 INFO 140415048464192] Reading default configuration from /opt/amazon/lib/python2.7/site-packages/algorithm/resources/default-conf.json: {u'index_metric': u'L2', u'_tuning_objective_metric': u'', u'_num_gpus': u'auto', u'_log_level': u'info', u'faiss_index_ivf_nlists': u'auto', u'epochs': u'1', u'index_type': u'faiss.Flat', u'_faiss_index_nprobe': u'5', u'_kvstore': u'dist_async', u'_num_kv_servers': u'1', u'mini_batch_size': u'5000'}\u001b[0m\n",
      "\u001b[33m[12/21/2018 14:52:01 INFO 140415048464192] Reading provided configuration from /opt/ml/input/config/hyperparameters.json: {u'sample_size': u'1000000', u'feature_dim': u'10', u'index_type': u'faiss.IVFFlat', u'k': u'100', u'predictor_type': u'classifier'}\u001b[0m\n",
      "\u001b[33m[12/21/2018 14:52:01 INFO 140415048464192] Final configuration: {u'index_metric': u'L2', u'predictor_type': u'classifier', u'_tuning_objective_metric': u'', u'_num_gpus': u'auto', u'_log_level': u'info', u'feature_dim': u'10', u'faiss_index_ivf_nlists': u'auto', u'sample_size': u'1000000', u'epochs': u'1', u'index_type': u'faiss.IVFFlat', u'_faiss_index_nprobe': u'5', u'_kvstore': u'dist_async', u'_num_kv_servers': u'1', u'mini_batch_size': u'5000', u'k': u'100'}\u001b[0m\n",
      "\u001b[33m[12/21/2018 14:52:01 WARNING 140415048464192] Loggers have already been setup.\u001b[0m\n",
      "\u001b[33m[12/21/2018 14:52:01 INFO 140415048464192] Environment: {'ECS_CONTAINER_METADATA_URI': 'http://169.254.170.2/v3/66f8d307-3d09-447d-99d6-15ac3a1c6485', 'PROTOCOL_BUFFERS_PYTHON_IMPLEMENTATION_VERSION': '2', 'DMLC_PS_ROOT_PORT': '9000', 'DMLC_NUM_WORKER': '4', 'SAGEMAKER_HTTP_PORT': '8080', 'PATH': '/opt/amazon/bin:/usr/local/nvidia/bin:/usr/local/sbin:/usr/local/bin:/usr/sbin:/usr/bin:/sbin:/bin:/opt/amazon/bin:/opt/amazon/bin', 'PYTHONUNBUFFERED': 'TRUE', 'CANONICAL_ENVROOT': '/opt/amazon', 'LD_LIBRARY_PATH': '/usr/local/nvidia/lib64:/opt/amazon/lib', 'LANG': 'en_US.utf8', 'DMLC_INTERFACE': 'ethwe', 'SHLVL': '1', 'DMLC_PS_ROOT_URI': '10.44.0.4', 'AWS_REGION': 'us-east-1', 'NVIDIA_VISIBLE_DEVICES': 'all', 'TRAINING_JOB_NAME': 'knn-2018-12-21-14-48-31-484', 'HOME': '/root', 'PROTOCOL_BUFFERS_PYTHON_IMPLEMENTATION': 'cpp', 'ENVROOT': '/opt/amazon', 'SAGEMAKER_DATA_PATH': '/opt/ml', 'NVIDIA_DRIVER_CAPABILITIES': 'compute,utility', 'NVIDIA_REQUIRE_CUDA': 'cuda>=9.0', 'OMP_NUM_THREADS': '2', 'HOSTNAME': 'aws', 'AWS_CONTAINER_CREDENTIALS_RELATIVE_URI': '/v2/credentials/15364053-9fd1-4663-83ba-406442cd72ca', 'DMLC_ROLE': 'worker', 'PWD': '/', 'DMLC_NUM_SERVER': '1', 'AWS_EXECUTION_ENV': 'AWS_ECS_EC2'}\u001b[0m\n",
      "\u001b[33mProcess 1 is a worker.\u001b[0m\n",
      "\u001b[33m[12/21/2018 14:52:01 INFO 140415048464192] Using default worker.\u001b[0m\n",
      "\u001b[33m[12/21/2018 14:52:02 INFO 140415048464192] nvidia-smi took: 0.0251789093018 secs to identify 0 gpus\u001b[0m\n",
      "\u001b[33m[12/21/2018 14:52:02 INFO 140415048464192] Create Store: dist_async\u001b[0m\n",
      "\u001b[33m[12/21/2018 14:52:02 ERROR 140415048464192] nvidia-smi: failed to run (127): /bin/sh: nvidia-smi: command not found\u001b[0m\n",
      "\u001b[33m[12/21/2018 14:52:02 INFO 140415048464192] Using per-worker sample size = 250000 (Available virtual memory = 15179366400 bytes, GPU free memory = 0 bytes, number of workers = 4). If an out-of-memory error occurs, choose a larger instance type, use dimension reduction, decrease sample_size, and/or decrease mini_batch_size.\u001b[0m\n",
      "\u001b[34m[12/21/2018 14:52:02 ERROR 139991684052800] nvidia-smi: failed to run (127): /bin/sh: nvidia-smi: command not found\u001b[0m\n",
      "\u001b[34m[12/21/2018 14:52:02 INFO 139991684052800] Using per-worker sample size = 250000 (Available virtual memory = 15178805248 bytes, GPU free memory = 0 bytes, number of workers = 4). If an out-of-memory error occurs, choose a larger instance type, use dimension reduction, decrease sample_size, and/or decrease mini_batch_size.\u001b[0m\n",
      "\u001b[34m#metrics {\"Metrics\": {\"Max Batches Seen Between Resets\": {\"count\": 1, \"max\": 0, \"sum\": 0.0, \"min\": 0}, \"Number of Batches Since Last Reset\": {\"count\": 1, \"max\": 0, \"sum\": 0.0, \"min\": 0}, \"Number of Records Since Last Reset\": {\"count\": 1, \"max\": 0, \"sum\": 0.0, \"min\": 0}, \"Total Batches Seen\": {\"count\": 1, \"max\": 0, \"sum\": 0.0, \"min\": 0}, \"Total Records Seen\": {\"count\": 1, \"max\": 0, \"sum\": 0.0, \"min\": 0}, \"Max Records Seen Between Resets\": {\"count\": 1, \"max\": 0, \"sum\": 0.0, \"min\": 0}, \"Reset Count\": {\"count\": 1, \"max\": 0, \"sum\": 0.0, \"min\": 0}}, \"EndTime\": 1545403922.844259, \"Dimensions\": {\"Host\": \"algo-4\", \"Meta\": \"init_train_data_iter\", \"Operation\": \"training\", \"Algorithm\": \"AWS/KNN\"}, \"StartTime\": 1545403922.844188}\n",
      "\u001b[0m\n",
      "\u001b[32m#metrics {\"Metrics\": {\"Max Batches Seen Between Resets\": {\"count\": 1, \"max\": 0, \"sum\": 0.0, \"min\": 0}, \"Number of Batches Since Last Reset\": {\"count\": 1, \"max\": 0, \"sum\": 0.0, \"min\": 0}, \"Number of Records Since Last Reset\": {\"count\": 1, \"max\": 0, \"sum\": 0.0, \"min\": 0}, \"Total Batches Seen\": {\"count\": 1, \"max\": 0, \"sum\": 0.0, \"min\": 0}, \"Total Records Seen\": {\"count\": 1, \"max\": 0, \"sum\": 0.0, \"min\": 0}, \"Max Records Seen Between Resets\": {\"count\": 1, \"max\": 0, \"sum\": 0.0, \"min\": 0}, \"Reset Count\": {\"count\": 1, \"max\": 0, \"sum\": 0.0, \"min\": 0}}, \"EndTime\": 1545403922.839841, \"Dimensions\": {\"Host\": \"algo-2\", \"Meta\": \"init_train_data_iter\", \"Operation\": \"training\", \"Algorithm\": \"AWS/KNN\"}, \"StartTime\": 1545403922.839794}\n",
      "\u001b[0m\n",
      "\u001b[31m#metrics {\"Metrics\": {\"Max Batches Seen Between Resets\": {\"count\": 1, \"max\": 0, \"sum\": 0.0, \"min\": 0}, \"Number of Batches Since Last Reset\": {\"count\": 1, \"max\": 0, \"sum\": 0.0, \"min\": 0}, \"Number of Records Since Last Reset\": {\"count\": 1, \"max\": 0, \"sum\": 0.0, \"min\": 0}, \"Total Batches Seen\": {\"count\": 1, \"max\": 0, \"sum\": 0.0, \"min\": 0}, \"Total Records Seen\": {\"count\": 1, \"max\": 0, \"sum\": 0.0, \"min\": 0}, \"Max Records Seen Between Resets\": {\"count\": 1, \"max\": 0, \"sum\": 0.0, \"min\": 0}, \"Reset Count\": {\"count\": 1, \"max\": 0, \"sum\": 0.0, \"min\": 0}}, \"EndTime\": 1545403922.840114, \"Dimensions\": {\"Host\": \"algo-1\", \"Meta\": \"init_train_data_iter\", \"Operation\": \"training\", \"Algorithm\": \"AWS/KNN\"}, \"StartTime\": 1545403922.840067}\n",
      "\u001b[0m\n",
      "\u001b[33m#metrics {\"Metrics\": {\"Max Batches Seen Between Resets\": {\"count\": 1, \"max\": 0, \"sum\": 0.0, \"min\": 0}, \"Number of Batches Since Last Reset\": {\"count\": 1, \"max\": 0, \"sum\": 0.0, \"min\": 0}, \"Number of Records Since Last Reset\": {\"count\": 1, \"max\": 0, \"sum\": 0.0, \"min\": 0}, \"Total Batches Seen\": {\"count\": 1, \"max\": 0, \"sum\": 0.0, \"min\": 0}, \"Total Records Seen\": {\"count\": 1, \"max\": 0, \"sum\": 0.0, \"min\": 0}, \"Max Records Seen Between Resets\": {\"count\": 1, \"max\": 0, \"sum\": 0.0, \"min\": 0}, \"Reset Count\": {\"count\": 1, \"max\": 0, \"sum\": 0.0, \"min\": 0}}, \"EndTime\": 1545403922.841476, \"Dimensions\": {\"Host\": \"algo-3\", \"Meta\": \"init_train_data_iter\", \"Operation\": \"training\", \"Algorithm\": \"AWS/KNN\"}, \"StartTime\": 1545403922.841378}\n",
      "\u001b[0m\n"
     ]
    },
    {
     "name": "stdout",
     "output_type": "stream",
     "text": [
      "\u001b[31m[12/21/2018 14:52:13 INFO 139936671827776] push reservoir to kv... 4 num_workers 0 rank\u001b[0m\n",
      "\u001b[33m[12/21/2018 14:52:13 INFO 140415048464192] push reservoir to kv... 4 num_workers 1 rank\u001b[0m\n",
      "\u001b[33m[12/21/2018 14:52:13 INFO 140415048464192] ...done (250000)\u001b[0m\n",
      "\u001b[33m[12/21/2018 14:52:13 INFO 140415048464192] #progress_metric: host=algo-3, completed 100 % of epochs\u001b[0m\n",
      "\u001b[33m#metrics {\"Metrics\": {\"Max Batches Seen Between Resets\": {\"count\": 1, \"max\": 1146, \"sum\": 1146.0, \"min\": 1146}, \"Number of Batches Since Last Reset\": {\"count\": 1, \"max\": 1146, \"sum\": 1146.0, \"min\": 1146}, \"Number of Records Since Last Reset\": {\"count\": 1, \"max\": 5726358, \"sum\": 5726358.0, \"min\": 5726358}, \"Total Batches Seen\": {\"count\": 1, \"max\": 1146, \"sum\": 1146.0, \"min\": 1146}, \"Total Records Seen\": {\"count\": 1, \"max\": 5726358, \"sum\": 5726358.0, \"min\": 5726358}, \"Max Records Seen Between Resets\": {\"count\": 1, \"max\": 5726358, \"sum\": 5726358.0, \"min\": 5726358}, \"Reset Count\": {\"count\": 1, \"max\": 1, \"sum\": 1.0, \"min\": 1}}, \"EndTime\": 1545403933.481808, \"Dimensions\": {\"Host\": \"algo-3\", \"Meta\": \"training_data_iter\", \"Operation\": \"training\", \"Algorithm\": \"AWS/KNN\", \"epoch\": 0}, \"StartTime\": 1545403922.841789}\n",
      "\u001b[0m\n",
      "\u001b[33m[12/21/2018 14:52:13 INFO 140415048464192] #throughput_metric: host=algo-3, train throughput=538182.033197 records/second\u001b[0m\n",
      "\u001b[34m[12/21/2018 14:52:13 INFO 139991684052800] push reservoir to kv... 4 num_workers 3 rank\u001b[0m\n",
      "\u001b[34m[12/21/2018 14:52:13 INFO 139991684052800] ...done (250000)\u001b[0m\n",
      "\u001b[34m[12/21/2018 14:52:13 INFO 139991684052800] #progress_metric: host=algo-4, completed 100 % of epochs\u001b[0m\n",
      "\u001b[34m#metrics {\"Metrics\": {\"Max Batches Seen Between Resets\": {\"count\": 1, \"max\": 1146, \"sum\": 1146.0, \"min\": 1146}, \"Number of Batches Since Last Reset\": {\"count\": 1, \"max\": 1146, \"sum\": 1146.0, \"min\": 1146}, \"Number of Records Since Last Reset\": {\"count\": 1, \"max\": 5726358, \"sum\": 5726358.0, \"min\": 5726358}, \"Total Batches Seen\": {\"count\": 1, \"max\": 1146, \"sum\": 1146.0, \"min\": 1146}, \"Total Records Seen\": {\"count\": 1, \"max\": 5726358, \"sum\": 5726358.0, \"min\": 5726358}, \"Max Records Seen Between Resets\": {\"count\": 1, \"max\": 5726358, \"sum\": 5726358.0, \"min\": 5726358}, \"Reset Count\": {\"count\": 1, \"max\": 1, \"sum\": 1.0, \"min\": 1}}, \"EndTime\": 1545403933.485935, \"Dimensions\": {\"Host\": \"algo-4\", \"Meta\": \"training_data_iter\", \"Operation\": \"training\", \"Algorithm\": \"AWS/KNN\", \"epoch\": 0}, \"StartTime\": 1545403922.844597}\n",
      "\u001b[0m\n",
      "\u001b[34m[12/21/2018 14:52:13 INFO 139991684052800] #throughput_metric: host=algo-4, train throughput=538115.064505 records/second\u001b[0m\n",
      "\u001b[34m[12/21/2018 14:52:13 WARNING 139991684052800] Unable to compute test score, model is not available.\u001b[0m\n",
      "\u001b[34m#metrics {\"Metrics\": {\"totaltime\": {\"count\": 1, \"max\": 13858.98494720459, \"sum\": 13858.98494720459, \"min\": 13858.98494720459}, \"finalize.time\": {\"count\": 1, \"max\": 0.051975250244140625, \"sum\": 0.051975250244140625, \"min\": 0.051975250244140625}, \"initialize.time\": {\"count\": 1, \"max\": 2618.314027786255, \"sum\": 2618.314027786255, \"min\": 2618.314027786255}, \"setuptime\": {\"count\": 1, \"max\": 15.568971633911133, \"sum\": 15.568971633911133, \"min\": 15.568971633911133}, \"update.time\": {\"count\": 1, \"max\": 10641.104936599731, \"sum\": 10641.104936599731, \"min\": 10641.104936599731}, \"epochs\": {\"count\": 1, \"max\": 1, \"sum\": 1.0, \"min\": 1}}, \"EndTime\": 1545403933.878104, \"Dimensions\": {\"Host\": \"algo-4\", \"Operation\": \"training\", \"Algorithm\": \"AWS/KNN\"}, \"StartTime\": 1545403920.225587}\n",
      "\u001b[0m\n",
      "\u001b[32m[12/21/2018 14:52:13 INFO 139915557582656] push reservoir to kv... 4 num_workers 2 rank\u001b[0m\n",
      "\u001b[32m[12/21/2018 14:52:13 INFO 139915557582656] ...done (250000)\u001b[0m\n",
      "\u001b[32m[12/21/2018 14:52:13 INFO 139915557582656] #progress_metric: host=algo-2, completed 100 % of epochs\u001b[0m\n",
      "\u001b[32m#metrics {\"Metrics\": {\"Max Batches Seen Between Resets\": {\"count\": 1, \"max\": 1146, \"sum\": 1146.0, \"min\": 1146}, \"Number of Batches Since Last Reset\": {\"count\": 1, \"max\": 1146, \"sum\": 1146.0, \"min\": 1146}, \"Number of Records Since Last Reset\": {\"count\": 1, \"max\": 5726358, \"sum\": 5726358.0, \"min\": 5726358}, \"Total Batches Seen\": {\"count\": 1, \"max\": 1146, \"sum\": 1146.0, \"min\": 1146}, \"Total Records Seen\": {\"count\": 1, \"max\": 5726358, \"sum\": 5726358.0, \"min\": 5726358}, \"Max Records Seen Between Resets\": {\"count\": 1, \"max\": 5726358, \"sum\": 5726358.0, \"min\": 5726358}, \"Reset Count\": {\"count\": 1, \"max\": 1, \"sum\": 1.0, \"min\": 1}}, \"EndTime\": 1545403933.86903, \"Dimensions\": {\"Host\": \"algo-2\", \"Meta\": \"training_data_iter\", \"Operation\": \"training\", \"Algorithm\": \"AWS/KNN\", \"epoch\": 0}, \"StartTime\": 1545403922.840117}\n",
      "\u001b[0m\n",
      "\u001b[32m[12/21/2018 14:52:13 INFO 139915557582656] #throughput_metric: host=algo-2, train throughput=519205.413743 records/second\u001b[0m\n",
      "\u001b[32m[12/21/2018 14:52:13 WARNING 139915557582656] Unable to compute test score, model is not available.\u001b[0m\n",
      "\u001b[32m#metrics {\"Metrics\": {\"totaltime\": {\"count\": 1, \"max\": 13276.275157928467, \"sum\": 13276.275157928467, \"min\": 13276.275157928467}, \"finalize.time\": {\"count\": 1, \"max\": 0.03790855407714844, \"sum\": 0.03790855407714844, \"min\": 0.03790855407714844}, \"initialize.time\": {\"count\": 1, \"max\": 2007.7989101409912, \"sum\": 2007.7989101409912, \"min\": 2007.7989101409912}, \"setuptime\": {\"count\": 1, \"max\": 23.606061935424805, \"sum\": 23.606061935424805, \"min\": 23.606061935424805}, \"update.time\": {\"count\": 1, \"max\": 11028.592109680176, \"sum\": 11028.592109680176, \"min\": 11028.592109680176}, \"epochs\": {\"count\": 1, \"max\": 1, \"sum\": 1.0, \"min\": 1}}, \"EndTime\": 1545403933.871702, \"Dimensions\": {\"Host\": \"algo-2\", \"Operation\": \"training\", \"Algorithm\": \"AWS/KNN\"}, \"StartTime\": 1545403920.831712}\n",
      "\u001b[0m\n",
      "\u001b[31m[12/21/2018 14:52:13 INFO 139936671827776] ...done (250000)\u001b[0m\n",
      "\u001b[31m[12/21/2018 14:52:13 INFO 139936671827776] #progress_metric: host=algo-1, completed 100 % of epochs\u001b[0m\n",
      "\u001b[31m#metrics {\"Metrics\": {\"Max Batches Seen Between Resets\": {\"count\": 1, \"max\": 1146, \"sum\": 1146.0, \"min\": 1146}, \"Number of Batches Since Last Reset\": {\"count\": 1, \"max\": 1146, \"sum\": 1146.0, \"min\": 1146}, \"Number of Records Since Last Reset\": {\"count\": 1, \"max\": 5726358, \"sum\": 5726358.0, \"min\": 5726358}, \"Total Batches Seen\": {\"count\": 1, \"max\": 1146, \"sum\": 1146.0, \"min\": 1146}, \"Total Records Seen\": {\"count\": 1, \"max\": 5726358, \"sum\": 5726358.0, \"min\": 5726358}, \"Max Records Seen Between Resets\": {\"count\": 1, \"max\": 5726358, \"sum\": 5726358.0, \"min\": 5726358}, \"Reset Count\": {\"count\": 1, \"max\": 1, \"sum\": 1.0, \"min\": 1}}, \"EndTime\": 1545403933.845027, \"Dimensions\": {\"Host\": \"algo-1\", \"Meta\": \"training_data_iter\", \"Operation\": \"training\", \"Algorithm\": \"AWS/KNN\", \"epoch\": 0}, \"StartTime\": 1545403922.840377}\n",
      "\u001b[0m\n",
      "\u001b[31m[12/21/2018 14:52:13 INFO 139936671827776] #throughput_metric: host=algo-1, train throughput=520350.268802 records/second\u001b[0m\n",
      "\u001b[31m[12/21/2018 14:52:13 INFO 139936671827776] pulled row count... worker 3 rows 250000\u001b[0m\n",
      "\u001b[31m[12/21/2018 14:52:13 INFO 139936671827776] pulled row count... worker 2 rows -1\u001b[0m\n",
      "\u001b[31m[12/21/2018 14:52:13 INFO 139936671827776] pulled row count... worker 1 rows 250000\u001b[0m\n",
      "\u001b[31m[12/21/2018 14:52:13 INFO 139936671827776] pulled row count... worker 0 rows 250000\u001b[0m\n",
      "\u001b[33m[12/21/2018 14:52:13 WARNING 140415048464192] Unable to compute test score, model is not available.\u001b[0m\n",
      "\u001b[33m#metrics {\"Metrics\": {\"totaltime\": {\"count\": 1, \"max\": 11961.803913116455, \"sum\": 11961.803913116455, \"min\": 11961.803913116455}, \"finalize.time\": {\"count\": 1, \"max\": 0.051021575927734375, \"sum\": 0.051021575927734375, \"min\": 0.051021575927734375}, \"initialize.time\": {\"count\": 1, \"max\": 617.548942565918, \"sum\": 617.548942565918, \"min\": 617.548942565918}, \"setuptime\": {\"count\": 1, \"max\": 17.90785789489746, \"sum\": 17.90785789489746, \"min\": 17.90785789489746}, \"update.time\": {\"count\": 1, \"max\": 10639.628887176514, \"sum\": 10639.628887176514, \"min\": 10639.628887176514}, \"epochs\": {\"count\": 1, \"max\": 1, \"sum\": 1.0, \"min\": 1}}, \"EndTime\": 1545403933.873244, \"Dimensions\": {\"Host\": \"algo-3\", \"Operation\": \"training\", \"Algorithm\": \"AWS/KNN\"}, \"StartTime\": 1545403922.223499}\n",
      "\u001b[0m\n",
      "\u001b[31m[12/21/2018 14:52:14 INFO 139936671827776] pulled row count... worker 2 rows 250000\u001b[0m\n",
      "\u001b[31m[12/21/2018 14:52:14 INFO 139936671827776] pulled... worker 3 data (250000, 10) labels (250000, 1) nans 0\u001b[0m\n",
      "\u001b[31m[12/21/2018 14:52:14 INFO 139936671827776] calling index.train...\u001b[0m\n",
      "\u001b[31m[12/21/2018 14:52:15 INFO 139936671827776] ...done calling index.train\u001b[0m\n",
      "\u001b[31m[12/21/2018 14:52:15 INFO 139936671827776] calling index.add...\u001b[0m\n",
      "\u001b[31m[12/21/2018 14:52:16 INFO 139936671827776] ...done calling index.add\u001b[0m\n",
      "\u001b[31m[12/21/2018 14:52:16 INFO 139936671827776] pulled... worker 1 data (250000, 10) labels (250000, 1) nans 0\u001b[0m\n",
      "\u001b[31m[12/21/2018 14:52:16 INFO 139936671827776] calling index.add...\u001b[0m\n",
      "\u001b[31m[12/21/2018 14:52:16 INFO 139936671827776] ...done calling index.add\u001b[0m\n",
      "\u001b[31m[12/21/2018 14:52:16 INFO 139936671827776] pulled... worker 0 data (250000, 10) labels (250000, 1) nans 0\u001b[0m\n",
      "\u001b[31m[12/21/2018 14:52:16 INFO 139936671827776] calling index.add...\u001b[0m\n",
      "\u001b[31m[12/21/2018 14:52:16 INFO 139936671827776] ...done calling index.add\u001b[0m\n",
      "\u001b[31m[12/21/2018 14:52:16 INFO 139936671827776] pulled... worker 2 data (250000, 10) labels (250000, 1) nans 0\u001b[0m\n",
      "\u001b[31m[12/21/2018 14:52:16 INFO 139936671827776] calling index.add...\u001b[0m\n",
      "\u001b[31m[12/21/2018 14:52:16 INFO 139936671827776] ...done calling index.add\u001b[0m\n",
      "\u001b[31m#metrics {\"Metrics\": {\"epochs\": {\"count\": 1, \"max\": 1, \"sum\": 1.0, \"min\": 1}, \"model.serialize.time\": {\"count\": 1, \"max\": 49.002885818481445, \"sum\": 49.002885818481445, \"min\": 49.002885818481445}, \"finalize.time\": {\"count\": 1, \"max\": 3110.9020709991455, \"sum\": 3110.9020709991455, \"min\": 3110.9020709991455}, \"initialize.time\": {\"count\": 1, \"max\": 1419.8222160339355, \"sum\": 1419.8222160339355, \"min\": 1419.8222160339355}, \"update.time\": {\"count\": 1, \"max\": 11004.119873046875, \"sum\": 11004.119873046875, \"min\": 11004.119873046875}}, \"EndTime\": 1545403937.031104, \"Dimensions\": {\"Host\": \"algo-1\", \"Operation\": \"training\", \"Algorithm\": \"AWS/KNN\"}, \"StartTime\": 1545403921.419846}\n",
      "\u001b[0m\n"
     ]
    },
    {
     "name": "stdout",
     "output_type": "stream",
     "text": [
      "\n",
      "2018-12-21 14:54:26 Uploading - Uploading generated training model\n",
      "2018-12-21 14:54:35 Completed - Training job completed\n",
      "Billable seconds: 695\n"
     ]
    }
   ],
   "source": [
    "low_k_ivf_l2 = {\n",
    "    'feature_dim': 10,\n",
    "    'k': 10,\n",
    "    'sample_size': 1000000,\n",
    "    'predictor_type': 'classifier',\n",
    "    'index_type': 'faiss.IVFFlat'\n",
    "}\n",
    "output_path_ivf_l2_lowk = 's3://' + bucket + '/' + prefix + '/ivf_l2_lowk/output'\n",
    "knn_estimator_ivf_l2_lowk = trained_estimator_from_hyperparams(s3_train_data, hyperparams_ivf_l2, output_path_ivf_l2, \n",
    "                                                          s3_test_data=s3_test_data)"
   ]
  },
  {
   "cell_type": "code",
   "execution_count": 94,
   "metadata": {},
   "outputs": [],
   "source": [
    "## Ripped from AWS Blog build-multiclass-classifiers-with-amazon-sagemaker-linear-learner\n",
    "\n",
    "label_map = {0:'Normal', 1:'Fraud'}\n",
    "\n",
    "def predict(predictor, test_features):\n",
    "    # tune the predictor to provide the non-verbose response\n",
    "    predictor.accept = 'application/json'\n",
    "    \n",
    "    # split the test dataset into 100 batches and evaluate using prediction endpoint\n",
    "    print('\\nRunning predictions in batches...')\n",
    "    prediction_batches = [predictor.predict(batch) for batch in np.array_split(test_features, 100)]\n",
    "    print('Predictions done.')\n",
    "\n",
    "    # parse protobuf responses to extract predicted labels\n",
    "    test_preds = np.concatenate([np.array([x['predicted_label'] for x in batch['predictions']]) for batch in prediction_batches])\n",
    "    test_preds = test_preds.reshape((-1,))\n",
    "    return test_preds\n",
    "    \n",
    "def evaluate_metrics(test_preds, test_labels):\n",
    "    # calculate overall scored\n",
    "    accuracy = (test_preds == test_labels).sum() / test_labels.shape[0]\n",
    "    f1_macro = f1_score(test_labels, test_preds, average='macro')\n",
    "    \n",
    "    # calculate recall for each class\n",
    "    recall_per_class, classes = [], []\n",
    "    for target_label in np.unique(test_labels):\n",
    "        recall_numerator = np.logical_and(test_preds == target_label, test_labels == target_label).sum()\n",
    "        recall_denominator = (test_labels == target_label).sum()\n",
    "        recall_per_class.append(recall_numerator / recall_denominator)\n",
    "        classes.append(label_map[target_label])\n",
    "    recall = pd.DataFrame({'recall': recall_per_class, 'class_label': classes})\n",
    "    recall.sort_values('class_label', ascending=False, inplace=True)\n",
    "\n",
    "    # calculate confusion matrix\n",
    "    label_mapper = np.vectorize(lambda x: label_map[x])\n",
    "    confusion_matrix = pd.crosstab(label_mapper(test_labels), label_mapper(test_preds), \n",
    "                                   rownames=['Actuals'], colnames=['Predictions'], normalize='index')\n",
    "\n",
    "    # display results\n",
    "    sns.heatmap(confusion_matrix, annot=True, fmt='.2f', cmap=\"YlGnBu\").set_title('Confusion Matrix')  \n",
    "    ax = recall.plot(kind='barh', x='class_label', y='recall', color='steelblue', title='Recall', legend=False)\n",
    "    ax.set_ylabel('')\n",
    "    print('Accuracy: {:.3f}'.format(accuracy))\n",
    "    print('F1 Score: {:.3f}'.format(f1_macro))"
   ]
  },
  {
   "cell_type": "code",
   "execution_count": 95,
   "metadata": {
    "scrolled": true
   },
   "outputs": [
    {
     "name": "stderr",
     "output_type": "stream",
     "text": [
      "INFO:sagemaker:Creating model with name: knn-2018-12-21-16-06-59-294\n"
     ]
    },
    {
     "name": "stdout",
     "output_type": "stream",
     "text": [
      "Already deleted: knn-eval-ivf-12-1545406334-0686235\n"
     ]
    },
    {
     "name": "stderr",
     "output_type": "stream",
     "text": [
      "INFO:sagemaker:Creating endpoint with name knn-eval-ivf-12-1545408419-2051814\n"
     ]
    },
    {
     "name": "stdout",
     "output_type": "stream",
     "text": [
      "--------------------------------------------------------------------------!\n",
      "Running predictions in batches...\n",
      "Predictions done.\n",
      "Accuracy: 0.999\n",
      "F1 Score: 0.786\n",
      "Deleted knn-eval-ivf-12-1545408419-2051814\n"
     ]
    },
    {
     "data": {
      "image/png": "[encoded data removed]",
      "text/plain": [
       "<Figure size 432x288 with 2 Axes>"
      ]
     },
     "metadata": {},
     "output_type": "display_data"
    },
    {
     "data": {
      "image/png": "[encoded data removed]",
      "text/plain": [
       "<Figure size 432x288 with 1 Axes>"
      ]
     },
     "metadata": {},
     "output_type": "display_data"
    }
   ],
   "source": [
    "delete_endpoint(pred)\n",
    "pred = predictor_from_hyperparams(knn_estimator_ivf_l2_lowk,\n",
    "                                  'eval_ivf_12',\n",
    "                                  'ml.m4.xlarge',\n",
    "                                  endpoint_name = 'knn-eval-ivf-12-%s'%(str(time.time()).replace('.','-')))\n",
    "predicted_labels = predict(pred, test_features)\n",
    "evaluate_metrics(predicted_labels, test_labels)\n",
    "delete_endpoint(pred)"
   ]
  }
 ],
 "metadata": {
  "kernelspec": {
   "display_name": "conda_python3",
   "language": "python",
   "name": "conda_python3"
  },
  "language_info": {
   "codemirror_mode": {
    "name": "ipython",
    "version": 3
   },
   "file_extension": ".py",
   "mimetype": "text/x-python",
   "name": "python",
   "nbconvert_exporter": "python",
   "pygments_lexer": "ipython3",
   "version": "3.6.5"
  }
 },
 "nbformat": 4,
 "nbformat_minor": 2
}
