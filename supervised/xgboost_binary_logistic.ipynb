{
 "cells": [
  {
   "cell_type": "markdown",
   "metadata": {},
   "source": [
    "# Anomaly detection in payments using XGBoost binary classification"
   ]
  },
  {
   "cell_type": "code",
   "execution_count": 3,
   "metadata": {},
   "outputs": [],
   "source": [
    "import boto3\n",
    "import re\n",
    "import pandas as pd\n",
    "import numpy as np\n",
    "import matplotlib.pyplot as plt\n",
    "import io\n",
    "import os\n",
    "import sys\n",
    "import time\n",
    "import json\n",
    "from IPython.display import display\n",
    "from time import strftime, gmtime\n",
    "import sagemaker\n",
    "from sagemaker.predictor import csv_serializer\n",
    "from sagemaker import get_execution_role"
   ]
  },
  {
   "cell_type": "code",
   "execution_count": 4,
   "metadata": {},
   "outputs": [],
   "source": [
    "bucket = 'anomaly-credit-cards'\n",
    "prefix = 'sagemaker/supervised/xgboost'\n",
    "role = get_execution_role()"
   ]
  },
  {
   "cell_type": "code",
   "execution_count": 40,
   "metadata": {},
   "outputs": [
    {
     "name": "stdout",
     "output_type": "stream",
     "text": [
      "Index(['step', 'type', 'amount', 'nameOrig', 'oldbalanceOrg', 'newbalanceOrig',\n",
      "       'nameDest', 'oldbalanceDest', 'newbalanceDest', 'isFraud',\n",
      "       'isFlaggedFraud'],\n",
      "      dtype='object')\n"
     ]
    },
    {
     "data": {
      "text/html": [
       "<div>\n",
       "<style scoped>\n",
       "    .dataframe tbody tr th:only-of-type {\n",
       "        vertical-align: middle;\n",
       "    }\n",
       "\n",
       "    .dataframe tbody tr th {\n",
       "        vertical-align: top;\n",
       "    }\n",
       "\n",
       "    .dataframe thead th {\n",
       "        text-align: right;\n",
       "    }\n",
       "</style>\n",
       "<table border=\"1\" class=\"dataframe\">\n",
       "  <thead>\n",
       "    <tr style=\"text-align: right;\">\n",
       "      <th></th>\n",
       "      <th>step</th>\n",
       "      <th>type</th>\n",
       "      <th>amount</th>\n",
       "      <th>nameOrig</th>\n",
       "      <th>oldbalanceOrg</th>\n",
       "      <th>newbalanceOrig</th>\n",
       "      <th>nameDest</th>\n",
       "      <th>oldbalanceDest</th>\n",
       "      <th>newbalanceDest</th>\n",
       "      <th>isFraud</th>\n",
       "      <th>isFlaggedFraud</th>\n",
       "    </tr>\n",
       "  </thead>\n",
       "  <tbody>\n",
       "    <tr>\n",
       "      <th>0</th>\n",
       "      <td>1</td>\n",
       "      <td>PAYMENT</td>\n",
       "      <td>9839.64</td>\n",
       "      <td>C1231006815</td>\n",
       "      <td>170136.0</td>\n",
       "      <td>160296.36</td>\n",
       "      <td>M1979787155</td>\n",
       "      <td>0.0</td>\n",
       "      <td>0.0</td>\n",
       "      <td>0</td>\n",
       "      <td>0</td>\n",
       "    </tr>\n",
       "    <tr>\n",
       "      <th>1</th>\n",
       "      <td>1</td>\n",
       "      <td>PAYMENT</td>\n",
       "      <td>1864.28</td>\n",
       "      <td>C1666544295</td>\n",
       "      <td>21249.0</td>\n",
       "      <td>19384.72</td>\n",
       "      <td>M2044282225</td>\n",
       "      <td>0.0</td>\n",
       "      <td>0.0</td>\n",
       "      <td>0</td>\n",
       "      <td>0</td>\n",
       "    </tr>\n",
       "    <tr>\n",
       "      <th>2</th>\n",
       "      <td>1</td>\n",
       "      <td>TRANSFER</td>\n",
       "      <td>181.00</td>\n",
       "      <td>C1305486145</td>\n",
       "      <td>181.0</td>\n",
       "      <td>0.00</td>\n",
       "      <td>C553264065</td>\n",
       "      <td>0.0</td>\n",
       "      <td>0.0</td>\n",
       "      <td>1</td>\n",
       "      <td>0</td>\n",
       "    </tr>\n",
       "    <tr>\n",
       "      <th>3</th>\n",
       "      <td>1</td>\n",
       "      <td>CASH_OUT</td>\n",
       "      <td>181.00</td>\n",
       "      <td>C840083671</td>\n",
       "      <td>181.0</td>\n",
       "      <td>0.00</td>\n",
       "      <td>C38997010</td>\n",
       "      <td>21182.0</td>\n",
       "      <td>0.0</td>\n",
       "      <td>1</td>\n",
       "      <td>0</td>\n",
       "    </tr>\n",
       "    <tr>\n",
       "      <th>4</th>\n",
       "      <td>1</td>\n",
       "      <td>PAYMENT</td>\n",
       "      <td>11668.14</td>\n",
       "      <td>C2048537720</td>\n",
       "      <td>41554.0</td>\n",
       "      <td>29885.86</td>\n",
       "      <td>M1230701703</td>\n",
       "      <td>0.0</td>\n",
       "      <td>0.0</td>\n",
       "      <td>0</td>\n",
       "      <td>0</td>\n",
       "    </tr>\n",
       "  </tbody>\n",
       "</table>\n",
       "</div>"
      ],
      "text/plain": [
       "   step      type    amount     nameOrig  oldbalanceOrg  newbalanceOrig  \\\n",
       "0     1   PAYMENT   9839.64  C1231006815       170136.0       160296.36   \n",
       "1     1   PAYMENT   1864.28  C1666544295        21249.0        19384.72   \n",
       "2     1  TRANSFER    181.00  C1305486145          181.0            0.00   \n",
       "3     1  CASH_OUT    181.00   C840083671          181.0            0.00   \n",
       "4     1   PAYMENT  11668.14  C2048537720        41554.0        29885.86   \n",
       "\n",
       "      nameDest  oldbalanceDest  newbalanceDest  isFraud  isFlaggedFraud  \n",
       "0  M1979787155             0.0             0.0        0               0  \n",
       "1  M2044282225             0.0             0.0        0               0  \n",
       "2   C553264065             0.0             0.0        1               0  \n",
       "3    C38997010         21182.0             0.0        1               0  \n",
       "4  M1230701703             0.0             0.0        0               0  "
      ]
     },
     "execution_count": 40,
     "metadata": {},
     "output_type": "execute_result"
    }
   ],
   "source": [
    "df = pd.read_csv('paysim1.zip', compression='zip')\n",
    "print(df.columns)\n",
    "df.head()"
   ]
  },
  {
   "cell_type": "code",
   "execution_count": 54,
   "metadata": {
    "scrolled": true
   },
   "outputs": [],
   "source": [
    "df['dest_is_merchant'] = (df['nameDest'].astype(str).str[0] == 'M')*1\n",
    "df['orig_delta'] = df['oldbalanceOrg'] - df['newbalanceOrig']\n",
    "df['dest_delta'] = df['oldbalanceDest'] - df['newbalanceDest']\n",
    "df['orig_mismatch'] = (df['amount'] != abs(df['orig_delta']))*1\n",
    "df['dest_mismatch'] = (df['amount'] != abs(df['dest_delta']))*1"
   ]
  },
  {
   "cell_type": "code",
   "execution_count": 69,
   "metadata": {},
   "outputs": [
    {
     "data": {
      "text/html": [
       "<div>\n",
       "<style scoped>\n",
       "    .dataframe tbody tr th:only-of-type {\n",
       "        vertical-align: middle;\n",
       "    }\n",
       "\n",
       "    .dataframe tbody tr th {\n",
       "        vertical-align: top;\n",
       "    }\n",
       "\n",
       "    .dataframe thead th {\n",
       "        text-align: right;\n",
       "    }\n",
       "</style>\n",
       "<table border=\"1\" class=\"dataframe\">\n",
       "  <thead>\n",
       "    <tr style=\"text-align: right;\">\n",
       "      <th></th>\n",
       "      <th>type</th>\n",
       "      <th>amount</th>\n",
       "      <th>isFraud</th>\n",
       "      <th>orig_delta</th>\n",
       "      <th>dest_delta</th>\n",
       "      <th>orig_mismatch</th>\n",
       "      <th>dest_mismatch</th>\n",
       "      <th>dest_is_merchant</th>\n",
       "    </tr>\n",
       "  </thead>\n",
       "  <tbody>\n",
       "    <tr>\n",
       "      <th>0</th>\n",
       "      <td>PAYMENT</td>\n",
       "      <td>9839.64</td>\n",
       "      <td>0</td>\n",
       "      <td>9839.64</td>\n",
       "      <td>0.0</td>\n",
       "      <td>1</td>\n",
       "      <td>1</td>\n",
       "      <td>1</td>\n",
       "    </tr>\n",
       "    <tr>\n",
       "      <th>1</th>\n",
       "      <td>PAYMENT</td>\n",
       "      <td>1864.28</td>\n",
       "      <td>0</td>\n",
       "      <td>1864.28</td>\n",
       "      <td>0.0</td>\n",
       "      <td>1</td>\n",
       "      <td>1</td>\n",
       "      <td>1</td>\n",
       "    </tr>\n",
       "    <tr>\n",
       "      <th>2</th>\n",
       "      <td>TRANSFER</td>\n",
       "      <td>181.00</td>\n",
       "      <td>1</td>\n",
       "      <td>181.00</td>\n",
       "      <td>0.0</td>\n",
       "      <td>0</td>\n",
       "      <td>1</td>\n",
       "      <td>0</td>\n",
       "    </tr>\n",
       "    <tr>\n",
       "      <th>3</th>\n",
       "      <td>CASH_OUT</td>\n",
       "      <td>181.00</td>\n",
       "      <td>1</td>\n",
       "      <td>181.00</td>\n",
       "      <td>21182.0</td>\n",
       "      <td>0</td>\n",
       "      <td>1</td>\n",
       "      <td>0</td>\n",
       "    </tr>\n",
       "    <tr>\n",
       "      <th>4</th>\n",
       "      <td>PAYMENT</td>\n",
       "      <td>11668.14</td>\n",
       "      <td>0</td>\n",
       "      <td>11668.14</td>\n",
       "      <td>0.0</td>\n",
       "      <td>0</td>\n",
       "      <td>1</td>\n",
       "      <td>1</td>\n",
       "    </tr>\n",
       "  </tbody>\n",
       "</table>\n",
       "</div>"
      ],
      "text/plain": [
       "       type    amount  isFraud  orig_delta  dest_delta  orig_mismatch  \\\n",
       "0   PAYMENT   9839.64        0     9839.64         0.0              1   \n",
       "1   PAYMENT   1864.28        0     1864.28         0.0              1   \n",
       "2  TRANSFER    181.00        1      181.00         0.0              0   \n",
       "3  CASH_OUT    181.00        1      181.00     21182.0              0   \n",
       "4   PAYMENT  11668.14        0    11668.14         0.0              0   \n",
       "\n",
       "   dest_mismatch  dest_is_merchant  \n",
       "0              1                 1  \n",
       "1              1                 1  \n",
       "2              1                 0  \n",
       "3              1                 0  \n",
       "4              1                 1  "
      ]
     },
     "execution_count": 69,
     "metadata": {},
     "output_type": "execute_result"
    }
   ],
   "source": [
    "df = df.drop(index=df.query('isFlaggedFraud == 1').index)\n",
    "df = df.drop(columns=['nameOrig', 'nameDest', 'isFlaggedFraud', 'step', 'oldbalanceOrg', 'oldbalanceDest', 'newbalanceOrig', 'newbalanceDest'])\n",
    "df.head()"
   ]
  },
  {
   "cell_type": "code",
   "execution_count": 70,
   "metadata": {},
   "outputs": [],
   "source": [
    "def get_fraction(numerator,denominator):\n",
    "    percentage = 100.0*numerator/denominator\n",
    "    return f\"{percentage:.2f}% \".rjust(8) + \"-\" + f\"{numerator} / {denominator}\".rjust(20)"
   ]
  },
  {
   "cell_type": "code",
   "execution_count": 71,
   "metadata": {},
   "outputs": [
    {
     "name": "stdout",
     "output_type": "stream",
     "text": [
      " 98.00% -   6235226 / 6362604 total mismatches\n",
      " 85.40% -   5433509 / 6362604 mismatched origins\n",
      " 85.05% -   5411554 / 6362604 mismatched destinations\n",
      "\n",
      " 73.64% -         6036 / 8197 of frauds are mismatched\n",
      "  0.65% -           53 / 8197 of frauds have mismatched origin\n",
      " 73.51% -         6026 / 8197 of frauds have mismatched destination\n",
      "  0.10% -      6036 / 6235226 of mismatches are frauds\n"
     ]
    }
   ],
   "source": [
    "mismatch_df = df.query('orig_mismatch == 1 | dest_mismatch == 1')\n",
    "\n",
    "total_transactions = len(df.index)\n",
    "total_mismatch = len(mismatch_df.index)\n",
    "total_frauds = len(df.query('isFraud == 1').index)\n",
    "orig_mismatch_total = len(mismatch_df.query('orig_mismatch == 1').index)\n",
    "dest_mismatch_total = len(mismatch_df.query('dest_mismatch == 1').index)\n",
    "orig_mismatch_frauds = len(mismatch_df.query('orig_mismatch == 1 & (isFraud == 1)').index)\n",
    "dest_mismatch_frauds = len(mismatch_df.query('dest_mismatch == 1 & (isFraud == 1)').index)\n",
    "mismatch_frauds = len(mismatch_df.query('isFraud == 1').index)\n",
    "\n",
    "print(get_fraction(total_mismatch, total_transactions), \"total mismatches\")\n",
    "print(get_fraction(orig_mismatch_total, total_transactions), \"mismatched origins\")\n",
    "print(get_fraction(dest_mismatch_total, total_transactions), \"mismatched destinations\\n\")\n",
    "print(get_fraction(mismatch_frauds, total_frauds), \"of frauds are mismatched\")\n",
    "print(get_fraction(orig_mismatch_frauds, total_frauds), \"of frauds have mismatched origin\")\n",
    "print(get_fraction(dest_mismatch_frauds, total_frauds), \"of frauds have mismatched destination\")\n",
    "print(get_fraction(mismatch_frauds, total_mismatch), \"of mismatches are frauds\")\n"
   ]
  },
  {
   "cell_type": "code",
   "execution_count": 38,
   "metadata": {},
   "outputs": [
    {
     "data": {
      "text/plain": [
       "<matplotlib.axes._subplots.AxesSubplot at 0x7f3fa6fd2c18>"
      ]
     },
     "execution_count": 38,
     "metadata": {},
     "output_type": "execute_result"
    },
    {
     "data": {
      "image/png": "[encoded data removed]",
      "text/plain": [
       "<Figure size 432x288 with 1 Axes>"
      ]
     },
     "metadata": {},
     "output_type": "display_data"
    }
   ],
   "source": [
    "df.groupby(['type','isFraud']).count()['amount'].plot.barh()"
   ]
  },
  {
   "cell_type": "code",
   "execution_count": 72,
   "metadata": {},
   "outputs": [
    {
     "data": {
      "text/html": [
       "<div>\n",
       "<style scoped>\n",
       "    .dataframe tbody tr th:only-of-type {\n",
       "        vertical-align: middle;\n",
       "    }\n",
       "\n",
       "    .dataframe tbody tr th {\n",
       "        vertical-align: top;\n",
       "    }\n",
       "\n",
       "    .dataframe thead th {\n",
       "        text-align: right;\n",
       "    }\n",
       "</style>\n",
       "<table border=\"1\" class=\"dataframe\">\n",
       "  <thead>\n",
       "    <tr style=\"text-align: right;\">\n",
       "      <th></th>\n",
       "      <th>type</th>\n",
       "      <th>amount</th>\n",
       "      <th>isFraud</th>\n",
       "      <th>orig_delta</th>\n",
       "      <th>dest_delta</th>\n",
       "      <th>orig_mismatch</th>\n",
       "      <th>dest_mismatch</th>\n",
       "      <th>dest_is_merchant</th>\n",
       "    </tr>\n",
       "  </thead>\n",
       "  <tbody>\n",
       "    <tr>\n",
       "      <th>0</th>\n",
       "      <td>PAYMENT</td>\n",
       "      <td>9839.64</td>\n",
       "      <td>0</td>\n",
       "      <td>9839.64</td>\n",
       "      <td>0.0</td>\n",
       "      <td>1</td>\n",
       "      <td>1</td>\n",
       "      <td>1</td>\n",
       "    </tr>\n",
       "    <tr>\n",
       "      <th>1</th>\n",
       "      <td>PAYMENT</td>\n",
       "      <td>1864.28</td>\n",
       "      <td>0</td>\n",
       "      <td>1864.28</td>\n",
       "      <td>0.0</td>\n",
       "      <td>1</td>\n",
       "      <td>1</td>\n",
       "      <td>1</td>\n",
       "    </tr>\n",
       "    <tr>\n",
       "      <th>2</th>\n",
       "      <td>TRANSFER</td>\n",
       "      <td>181.00</td>\n",
       "      <td>1</td>\n",
       "      <td>181.00</td>\n",
       "      <td>0.0</td>\n",
       "      <td>0</td>\n",
       "      <td>1</td>\n",
       "      <td>0</td>\n",
       "    </tr>\n",
       "    <tr>\n",
       "      <th>3</th>\n",
       "      <td>CASH_OUT</td>\n",
       "      <td>181.00</td>\n",
       "      <td>1</td>\n",
       "      <td>181.00</td>\n",
       "      <td>21182.0</td>\n",
       "      <td>0</td>\n",
       "      <td>1</td>\n",
       "      <td>0</td>\n",
       "    </tr>\n",
       "    <tr>\n",
       "      <th>4</th>\n",
       "      <td>PAYMENT</td>\n",
       "      <td>11668.14</td>\n",
       "      <td>0</td>\n",
       "      <td>11668.14</td>\n",
       "      <td>0.0</td>\n",
       "      <td>0</td>\n",
       "      <td>1</td>\n",
       "      <td>1</td>\n",
       "    </tr>\n",
       "  </tbody>\n",
       "</table>\n",
       "</div>"
      ],
      "text/plain": [
       "       type    amount  isFraud  orig_delta  dest_delta  orig_mismatch  \\\n",
       "0   PAYMENT   9839.64        0     9839.64         0.0              1   \n",
       "1   PAYMENT   1864.28        0     1864.28         0.0              1   \n",
       "2  TRANSFER    181.00        1      181.00         0.0              0   \n",
       "3  CASH_OUT    181.00        1      181.00     21182.0              0   \n",
       "4   PAYMENT  11668.14        0    11668.14         0.0              0   \n",
       "\n",
       "   dest_mismatch  dest_is_merchant  \n",
       "0              1                 1  \n",
       "1              1                 1  \n",
       "2              1                 0  \n",
       "3              1                 0  \n",
       "4              1                 1  "
      ]
     },
     "execution_count": 72,
     "metadata": {},
     "output_type": "execute_result"
    }
   ],
   "source": [
    "df.head()"
   ]
  },
  {
   "cell_type": "code",
   "execution_count": 73,
   "metadata": {},
   "outputs": [
    {
     "data": {
      "text/html": [
       "<div>\n",
       "<style scoped>\n",
       "    .dataframe tbody tr th:only-of-type {\n",
       "        vertical-align: middle;\n",
       "    }\n",
       "\n",
       "    .dataframe tbody tr th {\n",
       "        vertical-align: top;\n",
       "    }\n",
       "\n",
       "    .dataframe thead th {\n",
       "        text-align: right;\n",
       "    }\n",
       "</style>\n",
       "<table border=\"1\" class=\"dataframe\">\n",
       "  <thead>\n",
       "    <tr style=\"text-align: right;\">\n",
       "      <th></th>\n",
       "      <th>isFraud</th>\n",
       "      <th>amount</th>\n",
       "      <th>orig_delta</th>\n",
       "      <th>dest_delta</th>\n",
       "      <th>orig_mismatch</th>\n",
       "      <th>dest_mismatch</th>\n",
       "      <th>dest_is_merchant</th>\n",
       "      <th>type_CASH_IN</th>\n",
       "      <th>type_CASH_OUT</th>\n",
       "      <th>type_DEBIT</th>\n",
       "      <th>type_PAYMENT</th>\n",
       "      <th>type_TRANSFER</th>\n",
       "    </tr>\n",
       "  </thead>\n",
       "  <tbody>\n",
       "    <tr>\n",
       "      <th>0</th>\n",
       "      <td>0</td>\n",
       "      <td>9839.64</td>\n",
       "      <td>9839.64</td>\n",
       "      <td>0.0</td>\n",
       "      <td>1</td>\n",
       "      <td>1</td>\n",
       "      <td>1</td>\n",
       "      <td>0</td>\n",
       "      <td>0</td>\n",
       "      <td>0</td>\n",
       "      <td>1</td>\n",
       "      <td>0</td>\n",
       "    </tr>\n",
       "    <tr>\n",
       "      <th>1</th>\n",
       "      <td>0</td>\n",
       "      <td>1864.28</td>\n",
       "      <td>1864.28</td>\n",
       "      <td>0.0</td>\n",
       "      <td>1</td>\n",
       "      <td>1</td>\n",
       "      <td>1</td>\n",
       "      <td>0</td>\n",
       "      <td>0</td>\n",
       "      <td>0</td>\n",
       "      <td>1</td>\n",
       "      <td>0</td>\n",
       "    </tr>\n",
       "    <tr>\n",
       "      <th>2</th>\n",
       "      <td>1</td>\n",
       "      <td>181.00</td>\n",
       "      <td>181.00</td>\n",
       "      <td>0.0</td>\n",
       "      <td>0</td>\n",
       "      <td>1</td>\n",
       "      <td>0</td>\n",
       "      <td>0</td>\n",
       "      <td>0</td>\n",
       "      <td>0</td>\n",
       "      <td>0</td>\n",
       "      <td>1</td>\n",
       "    </tr>\n",
       "    <tr>\n",
       "      <th>3</th>\n",
       "      <td>1</td>\n",
       "      <td>181.00</td>\n",
       "      <td>181.00</td>\n",
       "      <td>21182.0</td>\n",
       "      <td>0</td>\n",
       "      <td>1</td>\n",
       "      <td>0</td>\n",
       "      <td>0</td>\n",
       "      <td>1</td>\n",
       "      <td>0</td>\n",
       "      <td>0</td>\n",
       "      <td>0</td>\n",
       "    </tr>\n",
       "    <tr>\n",
       "      <th>4</th>\n",
       "      <td>0</td>\n",
       "      <td>11668.14</td>\n",
       "      <td>11668.14</td>\n",
       "      <td>0.0</td>\n",
       "      <td>0</td>\n",
       "      <td>1</td>\n",
       "      <td>1</td>\n",
       "      <td>0</td>\n",
       "      <td>0</td>\n",
       "      <td>0</td>\n",
       "      <td>1</td>\n",
       "      <td>0</td>\n",
       "    </tr>\n",
       "  </tbody>\n",
       "</table>\n",
       "</div>"
      ],
      "text/plain": [
       "   isFraud    amount  orig_delta  dest_delta  orig_mismatch  dest_mismatch  \\\n",
       "0        0   9839.64     9839.64         0.0              1              1   \n",
       "1        0   1864.28     1864.28         0.0              1              1   \n",
       "2        1    181.00      181.00         0.0              0              1   \n",
       "3        1    181.00      181.00     21182.0              0              1   \n",
       "4        0  11668.14    11668.14         0.0              0              1   \n",
       "\n",
       "   dest_is_merchant  type_CASH_IN  type_CASH_OUT  type_DEBIT  type_PAYMENT  \\\n",
       "0                 1             0              0           0             1   \n",
       "1                 1             0              0           0             1   \n",
       "2                 0             0              0           0             0   \n",
       "3                 0             0              1           0             0   \n",
       "4                 1             0              0           0             1   \n",
       "\n",
       "   type_TRANSFER  \n",
       "0              0  \n",
       "1              0  \n",
       "2              1  \n",
       "3              0  \n",
       "4              0  "
      ]
     },
     "execution_count": 73,
     "metadata": {},
     "output_type": "execute_result"
    }
   ],
   "source": [
    "model_data = pd.get_dummies(df)\n",
    "model_data = pd.concat([model_data['isFraud'], model_data.drop(['isFraud'], axis=1)], axis=1)\n",
    "model_data.head()"
   ]
  },
  {
   "cell_type": "code",
   "execution_count": 74,
   "metadata": {},
   "outputs": [],
   "source": [
    "train_data, validation_data, test_data = np.split(model_data.sample(frac=1, random_state=707), [int(0.7 * len(model_data)), int(0.9 * len(model_data))])\n",
    "train_data.to_csv('train.csv', header=False, index=False)\n",
    "validation_data.to_csv('validation.csv', header=False, index=False)"
   ]
  },
  {
   "cell_type": "code",
   "execution_count": 75,
   "metadata": {},
   "outputs": [],
   "source": [
    "boto3.Session().resource('s3').Bucket(bucket).Object(os.path.join(prefix, 'train/train.csv')).upload_file('train.csv')\n",
    "boto3.Session().resource('s3').Bucket(bucket).Object(os.path.join(prefix, 'validation/validation.csv')).upload_file('validation.csv')"
   ]
  },
  {
   "cell_type": "markdown",
   "metadata": {},
   "source": [
    "---\n",
    "## Train\n"
   ]
  },
  {
   "cell_type": "code",
   "execution_count": 77,
   "metadata": {},
   "outputs": [],
   "source": [
    "from sagemaker.amazon.amazon_estimator import get_image_uri\n",
    "container = get_image_uri(boto3.Session().region_name, 'xgboost')"
   ]
  },
  {
   "cell_type": "code",
   "execution_count": 78,
   "metadata": {},
   "outputs": [],
   "source": [
    "s3_input_train = sagemaker.s3_input(s3_data='s3://{}/{}/train'.format(bucket, prefix), content_type='csv')\n",
    "s3_input_validation = sagemaker.s3_input(s3_data='s3://{}/{}/validation/'.format(bucket, prefix), content_type='csv')"
   ]
  },
  {
   "cell_type": "markdown",
   "metadata": {},
   "source": [
    "### Using default hyper parameters shamelessly stolen from Amazon\n",
    "https://github.com/awslabs/amazon-sagemaker-examples/blob/master/introduction_to_applying_machine_learning/xgboost_customer_churn/xgboost_customer_churn.ipynb\n",
    "\n",
    "Now, we can specify a few parameters like what type of training instances we'd like to use and how many, as well as our XGBoost hyperparameters.  A few key hyperparameters are:\n",
    "- `max_depth` controls how deep each tree within the algorithm can be built.  Deeper trees can lead to better fit, but are more computationally expensive and can lead to overfitting.  There is typically some trade-off in model performance that needs to be explored between a large number of shallow trees and a smaller number of deeper trees.\n",
    "- `subsample` controls sampling of the training data.  This technique can help reduce overfitting, but setting it too low can also starve the model of data.\n",
    "- `num_round` controls the number of boosting rounds.  This is essentially the subsequent models that are trained using the residuals of previous iterations.  Again, more rounds should produce a better fit on the training data, but can be computationally expensive or lead to overfitting.\n",
    "- `eta` controls how aggressive each round of boosting is.  Larger values lead to more conservative boosting.\n",
    "- `gamma` controls how aggressively trees are grown.  Larger values lead to more conservative models.\n",
    "\n",
    "More detail on XGBoost's hyperparmeters can be found on their GitHub [page](https://github.com/dmlc/xgboost/blob/master/doc/parameter.md)."
   ]
  },
  {
   "cell_type": "code",
   "execution_count": 110,
   "metadata": {},
   "outputs": [
    {
     "name": "stderr",
     "output_type": "stream",
     "text": [
      "INFO:sagemaker:Creating training-job with name: anomaly-xgboost-2018-12-21-16-54-44\n"
     ]
    },
    {
     "name": "stdout",
     "output_type": "stream",
     "text": [
      "2018-12-21 16:54:44 Starting - Starting the training job...\n",
      "2018-12-21 16:54:46 Starting - Launching requested ML instances......\n",
      "2018-12-21 16:55:50 Starting - Preparing the instances for training......\n",
      "2018-12-21 16:57:07 Downloading - Downloading input data...\n",
      "2018-12-21 16:57:33 Training - Training image download completed. Training in progress.\n",
      "\u001b[31mArguments: train\u001b[0m\n",
      "\u001b[31m[2018-12-21:16:57:33:INFO] Running standalone xgboost training.\u001b[0m\n",
      "\u001b[31m[2018-12-21:16:57:33:INFO] File size need to be processed in the node: 266.68mb. Available memory size in the node: 8373.71mb\u001b[0m\n",
      "\u001b[31m[2018-12-21:16:57:33:INFO] Determined delimiter of CSV input is ','\u001b[0m\n",
      "\u001b[31m[16:57:33] S3DistributionType set as FullyReplicated\u001b[0m\n",
      "\u001b[31m[16:57:35] 4453822x11 matrix with 48992042 entries loaded from /opt/ml/input/data/train?format=csv&label_column=0&delimiter=,\u001b[0m\n",
      "\u001b[31m[2018-12-21:16:57:35:INFO] Determined delimiter of CSV input is ','\u001b[0m\n",
      "\u001b[31m[16:57:35] S3DistributionType set as FullyReplicated\u001b[0m\n",
      "\u001b[31m[16:57:35] 1272521x11 matrix with 13997731 entries loaded from /opt/ml/input/data/validation?format=csv&label_column=0&delimiter=,\u001b[0m\n",
      "\u001b[31m[16:57:35] Tree method is automatically selected to be 'approx' for faster speed. to use old behavior(exact greedy algorithm on single machine), set tree_method to 'exact'\u001b[0m\n",
      "\u001b[31m[16:57:40] src/tree/updater_prune.cc:74: tree pruning end, 1 roots, 28 extra nodes, 0 pruned nodes, max_depth=5\u001b[0m\n",
      "\u001b[31m[0]#011train-auc:0.996214#011validation-auc:0.995455\u001b[0m\n",
      "\u001b[31m[16:57:43] src/tree/updater_prune.cc:74: tree pruning end, 1 roots, 28 extra nodes, 0 pruned nodes, max_depth=5\u001b[0m\n",
      "\u001b[31m[1]#011train-auc:0.996218#011validation-auc:0.995458\u001b[0m\n",
      "\u001b[31m[16:57:46] src/tree/updater_prune.cc:74: tree pruning end, 1 roots, 28 extra nodes, 0 pruned nodes, max_depth=5\u001b[0m\n",
      "\u001b[31m[2]#011train-auc:0.996238#011validation-auc:0.995484\u001b[0m\n",
      "\u001b[31m[16:57:48] src/tree/updater_prune.cc:74: tree pruning end, 1 roots, 28 extra nodes, 0 pruned nodes, max_depth=5\u001b[0m\n",
      "\u001b[31m[3]#011train-auc:0.996238#011validation-auc:0.995484\u001b[0m\n",
      "\u001b[31m[16:57:50] src/tree/updater_prune.cc:74: tree pruning end, 1 roots, 28 extra nodes, 0 pruned nodes, max_depth=5\u001b[0m\n",
      "\u001b[31m[4]#011train-auc:0.996265#011validation-auc:0.99552\u001b[0m\n",
      "\u001b[31m[16:57:53] src/tree/updater_prune.cc:74: tree pruning end, 1 roots, 28 extra nodes, 0 pruned nodes, max_depth=5\u001b[0m\n",
      "\u001b[31m[5]#011train-auc:0.996265#011validation-auc:0.99552\u001b[0m\n",
      "\u001b[31m[16:57:55] src/tree/updater_prune.cc:74: tree pruning end, 1 roots, 28 extra nodes, 2 pruned nodes, max_depth=5\u001b[0m\n",
      "\u001b[31m[6]#011train-auc:0.996267#011validation-auc:0.995521\u001b[0m\n",
      "\u001b[31m[16:57:58] src/tree/updater_prune.cc:74: tree pruning end, 1 roots, 28 extra nodes, 0 pruned nodes, max_depth=5\u001b[0m\n",
      "\u001b[31m[7]#011train-auc:0.996288#011validation-auc:0.99552\u001b[0m\n",
      "\u001b[31m[16:58:00] src/tree/updater_prune.cc:74: tree pruning end, 1 roots, 24 extra nodes, 6 pruned nodes, max_depth=5\u001b[0m\n",
      "\u001b[31m[8]#011train-auc:0.99629#011validation-auc:0.995521\u001b[0m\n",
      "\u001b[31m[16:58:02] src/tree/updater_prune.cc:74: tree pruning end, 1 roots, 26 extra nodes, 4 pruned nodes, max_depth=5\u001b[0m\n",
      "\u001b[31m[9]#011train-auc:0.996305#011validation-auc:0.995528\u001b[0m\n",
      "\u001b[31m[16:58:05] src/tree/updater_prune.cc:74: tree pruning end, 1 roots, 26 extra nodes, 4 pruned nodes, max_depth=5\u001b[0m\n",
      "\u001b[31m[10]#011train-auc:0.996311#011validation-auc:0.995524\u001b[0m\n",
      "\u001b[31m[16:58:07] src/tree/updater_prune.cc:74: tree pruning end, 1 roots, 30 extra nodes, 0 pruned nodes, max_depth=5\u001b[0m\n",
      "\u001b[31m[11]#011train-auc:0.996446#011validation-auc:0.995699\u001b[0m\n",
      "\u001b[31m[16:58:09] src/tree/updater_prune.cc:74: tree pruning end, 1 roots, 26 extra nodes, 2 pruned nodes, max_depth=5\u001b[0m\n",
      "\u001b[31m[12]#011train-auc:0.996452#011validation-auc:0.995703\u001b[0m\n",
      "\u001b[31m[16:58:12] src/tree/updater_prune.cc:74: tree pruning end, 1 roots, 26 extra nodes, 8 pruned nodes, max_depth=5\u001b[0m\n",
      "\u001b[31m[13]#011train-auc:0.996472#011validation-auc:0.995717\u001b[0m\n",
      "\u001b[31m[16:58:14] src/tree/updater_prune.cc:74: tree pruning end, 1 roots, 24 extra nodes, 6 pruned nodes, max_depth=5\u001b[0m\n",
      "\u001b[31m[14]#011train-auc:0.996489#011validation-auc:0.995736\u001b[0m\n",
      "\u001b[31m[16:58:16] src/tree/updater_prune.cc:74: tree pruning end, 1 roots, 28 extra nodes, 4 pruned nodes, max_depth=5\u001b[0m\n",
      "\u001b[31m[15]#011train-auc:0.996488#011validation-auc:0.995725\u001b[0m\n",
      "\u001b[31m[16:58:18] src/tree/updater_prune.cc:74: tree pruning end, 1 roots, 28 extra nodes, 4 pruned nodes, max_depth=5\u001b[0m\n",
      "\u001b[31m[16]#011train-auc:0.9965#011validation-auc:0.995737\u001b[0m\n",
      "\u001b[31m[16:58:21] src/tree/updater_prune.cc:74: tree pruning end, 1 roots, 26 extra nodes, 6 pruned nodes, max_depth=5\u001b[0m\n",
      "\u001b[31m[17]#011train-auc:0.996497#011validation-auc:0.995733\u001b[0m\n",
      "\u001b[31m[16:58:23] src/tree/updater_prune.cc:74: tree pruning end, 1 roots, 26 extra nodes, 4 pruned nodes, max_depth=5\u001b[0m\n",
      "\u001b[31m[18]#011train-auc:0.996503#011validation-auc:0.995738\u001b[0m\n",
      "\u001b[31m[16:58:25] src/tree/updater_prune.cc:74: tree pruning end, 1 roots, 30 extra nodes, 4 pruned nodes, max_depth=5\u001b[0m\n",
      "\u001b[31m[19]#011train-auc:0.996516#011validation-auc:0.995745\u001b[0m\n",
      "\u001b[31m[16:58:28] src/tree/updater_prune.cc:74: tree pruning end, 1 roots, 28 extra nodes, 6 pruned nodes, max_depth=5\u001b[0m\n",
      "\u001b[31m[20]#011train-auc:0.996512#011validation-auc:0.99574\u001b[0m\n",
      "\u001b[31m[16:58:30] src/tree/updater_prune.cc:74: tree pruning end, 1 roots, 28 extra nodes, 6 pruned nodes, max_depth=5\u001b[0m\n",
      "\u001b[31m[21]#011train-auc:0.996543#011validation-auc:0.995748\u001b[0m\n",
      "\u001b[31m[16:58:32] src/tree/updater_prune.cc:74: tree pruning end, 1 roots, 28 extra nodes, 0 pruned nodes, max_depth=5\u001b[0m\n",
      "\u001b[31m[22]#011train-auc:0.996546#011validation-auc:0.995773\u001b[0m\n",
      "\u001b[31m[16:58:34] src/tree/updater_prune.cc:74: tree pruning end, 1 roots, 28 extra nodes, 2 pruned nodes, max_depth=5\u001b[0m\n",
      "\u001b[31m[23]#011train-auc:0.996553#011validation-auc:0.995778\u001b[0m\n",
      "\u001b[31m[16:58:37] src/tree/updater_prune.cc:74: tree pruning end, 1 roots, 24 extra nodes, 10 pruned nodes, max_depth=5\u001b[0m\n",
      "\u001b[31m[24]#011train-auc:0.996502#011validation-auc:0.995568\u001b[0m\n",
      "\u001b[31m[16:58:39] src/tree/updater_prune.cc:74: tree pruning end, 1 roots, 26 extra nodes, 4 pruned nodes, max_depth=5\u001b[0m\n",
      "\u001b[31m[25]#011train-auc:0.996528#011validation-auc:0.995598\u001b[0m\n",
      "\u001b[31m[16:58:41] src/tree/updater_prune.cc:74: tree pruning end, 1 roots, 22 extra nodes, 6 pruned nodes, max_depth=5\u001b[0m\n",
      "\u001b[31m[26]#011train-auc:0.996538#011validation-auc:0.995611\u001b[0m\n",
      "\u001b[31m[16:58:44] src/tree/updater_prune.cc:74: tree pruning end, 1 roots, 24 extra nodes, 4 pruned nodes, max_depth=5\u001b[0m\n",
      "\u001b[31m[27]#011train-auc:0.996556#011validation-auc:0.995628\u001b[0m\n",
      "\u001b[31m[16:58:46] src/tree/updater_prune.cc:74: tree pruning end, 1 roots, 22 extra nodes, 6 pruned nodes, max_depth=5\u001b[0m\n",
      "\u001b[31m[28]#011train-auc:0.996558#011validation-auc:0.995632\u001b[0m\n",
      "\u001b[31m[16:58:48] src/tree/updater_prune.cc:74: tree pruning end, 1 roots, 24 extra nodes, 4 pruned nodes, max_depth=5\u001b[0m\n",
      "\u001b[31m[29]#011train-auc:0.996565#011validation-auc:0.995618\u001b[0m\n",
      "\u001b[31m[16:58:50] src/tree/updater_prune.cc:74: tree pruning end, 1 roots, 18 extra nodes, 6 pruned nodes, max_depth=5\u001b[0m\n",
      "\u001b[31m[30]#011train-auc:0.996566#011validation-auc:0.995621\u001b[0m\n",
      "\u001b[31m[16:58:53] src/tree/updater_prune.cc:74: tree pruning end, 1 roots, 16 extra nodes, 10 pruned nodes, max_depth=4\u001b[0m\n",
      "\u001b[31m[31]#011train-auc:0.996567#011validation-auc:0.995622\u001b[0m\n",
      "\u001b[31m[16:58:55] src/tree/updater_prune.cc:74: tree pruning end, 1 roots, 14 extra nodes, 12 pruned nodes, max_depth=4\u001b[0m\n",
      "\u001b[31m[32]#011train-auc:0.996569#011validation-auc:0.995626\u001b[0m\n",
      "\u001b[31m[16:58:57] src/tree/updater_prune.cc:74: tree pruning end, 1 roots, 20 extra nodes, 4 pruned nodes, max_depth=5\u001b[0m\n",
      "\u001b[31m[33]#011train-auc:0.99657#011validation-auc:0.995632\u001b[0m\n",
      "\u001b[31m[16:59:00] src/tree/updater_prune.cc:74: tree pruning end, 1 roots, 16 extra nodes, 8 pruned nodes, max_depth=5\u001b[0m\n",
      "\u001b[31m[34]#011train-auc:0.996573#011validation-auc:0.995635\u001b[0m\n",
      "\u001b[31m[16:59:02] src/tree/updater_prune.cc:74: tree pruning end, 1 roots, 16 extra nodes, 10 pruned nodes, max_depth=5\u001b[0m\n",
      "\u001b[31m[35]#011train-auc:0.996576#011validation-auc:0.995638\u001b[0m\n",
      "\u001b[31m[16:59:04] src/tree/updater_prune.cc:74: tree pruning end, 1 roots, 14 extra nodes, 8 pruned nodes, max_depth=5\u001b[0m\n",
      "\u001b[31m[36]#011train-auc:0.996576#011validation-auc:0.995638\u001b[0m\n",
      "\u001b[31m[16:59:06] src/tree/updater_prune.cc:74: tree pruning end, 1 roots, 18 extra nodes, 4 pruned nodes, max_depth=5\u001b[0m\n",
      "\u001b[31m[37]#011train-auc:0.996587#011validation-auc:0.995629\u001b[0m\n",
      "\u001b[31m[16:59:09] src/tree/updater_prune.cc:74: tree pruning end, 1 roots, 20 extra nodes, 6 pruned nodes, max_depth=5\u001b[0m\n",
      "\u001b[31m[38]#011train-auc:0.996609#011validation-auc:0.995634\u001b[0m\n",
      "\u001b[31m[16:59:11] src/tree/updater_prune.cc:74: tree pruning end, 1 roots, 16 extra nodes, 8 pruned nodes, max_depth=5\u001b[0m\n",
      "\u001b[31m[39]#011train-auc:0.996608#011validation-auc:0.995635\u001b[0m\n",
      "\u001b[31m[16:59:13] src/tree/updater_prune.cc:74: tree pruning end, 1 roots, 12 extra nodes, 10 pruned nodes, max_depth=5\u001b[0m\n",
      "\u001b[31m[40]#011train-auc:0.99661#011validation-auc:0.995635\u001b[0m\n",
      "\u001b[31m[16:59:16] src/tree/updater_prune.cc:74: tree pruning end, 1 roots, 8 extra nodes, 6 pruned nodes, max_depth=3\u001b[0m\n",
      "\u001b[31m[41]#011train-auc:0.996607#011validation-auc:0.995631\u001b[0m\n",
      "\u001b[31m[16:59:18] src/tree/updater_prune.cc:74: tree pruning end, 1 roots, 12 extra nodes, 8 pruned nodes, max_depth=5\u001b[0m\n",
      "\u001b[31m[42]#011train-auc:0.996607#011validation-auc:0.995631\u001b[0m\n",
      "\u001b[31m[16:59:20] src/tree/updater_prune.cc:74: tree pruning end, 1 roots, 8 extra nodes, 10 pruned nodes, max_depth=3\u001b[0m\n",
      "\u001b[31m[43]#011train-auc:0.996607#011validation-auc:0.995631\u001b[0m\n",
      "\u001b[31m[16:59:23] src/tree/updater_prune.cc:74: tree pruning end, 1 roots, 12 extra nodes, 8 pruned nodes, max_depth=5\u001b[0m\n",
      "\u001b[31m[44]#011train-auc:0.996608#011validation-auc:0.995632\u001b[0m\n",
      "\u001b[31m[16:59:26] src/tree/updater_prune.cc:74: tree pruning end, 1 roots, 8 extra nodes, 24 pruned nodes, max_depth=3\u001b[0m\n",
      "\u001b[31m[45]#011train-auc:0.996608#011validation-auc:0.995632\u001b[0m\n",
      "\u001b[31m[16:59:28] src/tree/updater_prune.cc:74: tree pruning end, 1 roots, 10 extra nodes, 8 pruned nodes, max_depth=4\u001b[0m\n",
      "\u001b[31m[46]#011train-auc:0.996608#011validation-auc:0.995632\u001b[0m\n",
      "\u001b[31m[16:59:31] src/tree/updater_prune.cc:74: tree pruning end, 1 roots, 12 extra nodes, 8 pruned nodes, max_depth=5\u001b[0m\n",
      "\u001b[31m[47]#011train-auc:0.996608#011validation-auc:0.995632\u001b[0m\n",
      "\u001b[31m[16:59:33] src/tree/updater_prune.cc:74: tree pruning end, 1 roots, 6 extra nodes, 14 pruned nodes, max_depth=2\u001b[0m\n",
      "\u001b[31m[48]#011train-auc:0.996462#011validation-auc:0.995422\u001b[0m\n",
      "\u001b[31m[16:59:36] src/tree/updater_prune.cc:74: tree pruning end, 1 roots, 12 extra nodes, 10 pruned nodes, max_depth=5\u001b[0m\n",
      "\u001b[31m[49]#011train-auc:0.996345#011validation-auc:0.995257\u001b[0m\n",
      "\u001b[31m[16:59:38] src/tree/updater_prune.cc:74: tree pruning end, 1 roots, 12 extra nodes, 14 pruned nodes, max_depth=5\u001b[0m\n",
      "\u001b[31m[50]#011train-auc:0.996348#011validation-auc:0.995258\u001b[0m\n",
      "\u001b[31m[16:59:41] src/tree/updater_prune.cc:74: tree pruning end, 1 roots, 18 extra nodes, 6 pruned nodes, max_depth=5\u001b[0m\n",
      "\u001b[31m[51]#011train-auc:0.997412#011validation-auc:0.996349\u001b[0m\n",
      "\u001b[31m[16:59:44] src/tree/updater_prune.cc:74: tree pruning end, 1 roots, 18 extra nodes, 18 pruned nodes, max_depth=5\u001b[0m\n",
      "\u001b[31m[52]#011train-auc:0.997458#011validation-auc:0.996535\u001b[0m\n",
      "\u001b[31m[16:59:46] src/tree/updater_prune.cc:74: tree pruning end, 1 roots, 12 extra nodes, 6 pruned nodes, max_depth=5\u001b[0m\n",
      "\u001b[31m[53]#011train-auc:0.997599#011validation-auc:0.996863\u001b[0m\n",
      "\u001b[31m[16:59:49] src/tree/updater_prune.cc:74: tree pruning end, 1 roots, 12 extra nodes, 12 pruned nodes, max_depth=5\u001b[0m\n",
      "\u001b[31m[54]#011train-auc:0.997597#011validation-auc:0.996866\u001b[0m\n",
      "\u001b[31m[16:59:51] src/tree/updater_prune.cc:74: tree pruning end, 1 roots, 12 extra nodes, 2 pruned nodes, max_depth=5\u001b[0m\n",
      "\u001b[31m[55]#011train-auc:0.997642#011validation-auc:0.996901\u001b[0m\n",
      "\u001b[31m[16:59:54] src/tree/updater_prune.cc:74: tree pruning end, 1 roots, 8 extra nodes, 10 pruned nodes, max_depth=4\u001b[0m\n",
      "\u001b[31m[56]#011train-auc:0.997689#011validation-auc:0.996898\u001b[0m\n",
      "\u001b[31m[16:59:56] src/tree/updater_prune.cc:74: tree pruning end, 1 roots, 12 extra nodes, 6 pruned nodes, max_depth=5\u001b[0m\n",
      "\u001b[31m[57]#011train-auc:0.997759#011validation-auc:0.996881\u001b[0m\n",
      "\u001b[31m[16:59:59] src/tree/updater_prune.cc:74: tree pruning end, 1 roots, 6 extra nodes, 18 pruned nodes, max_depth=3\u001b[0m\n",
      "\u001b[31m[58]#011train-auc:0.997791#011validation-auc:0.996954\u001b[0m\n",
      "\u001b[31m[17:00:02] src/tree/updater_prune.cc:74: tree pruning end, 1 roots, 10 extra nodes, 14 pruned nodes, max_depth=4\u001b[0m\n",
      "\u001b[31m[59]#011train-auc:0.997801#011validation-auc:0.996989\u001b[0m\n",
      "\u001b[31m[17:00:05] src/tree/updater_prune.cc:74: tree pruning end, 1 roots, 6 extra nodes, 16 pruned nodes, max_depth=3\u001b[0m\n",
      "\u001b[31m[60]#011train-auc:0.997806#011validation-auc:0.997011\u001b[0m\n",
      "\u001b[31m[17:00:07] src/tree/updater_prune.cc:74: tree pruning end, 1 roots, 16 extra nodes, 14 pruned nodes, max_depth=4\u001b[0m\n",
      "\u001b[31m[61]#011train-auc:0.997824#011validation-auc:0.997067\u001b[0m\n",
      "\u001b[31m[17:00:10] src/tree/updater_prune.cc:74: tree pruning end, 1 roots, 10 extra nodes, 12 pruned nodes, max_depth=5\u001b[0m\n",
      "\u001b[31m[62]#011train-auc:0.99785#011validation-auc:0.997089\u001b[0m\n",
      "\u001b[31m[17:00:13] src/tree/updater_prune.cc:74: tree pruning end, 1 roots, 6 extra nodes, 26 pruned nodes, max_depth=3\u001b[0m\n",
      "\u001b[31m[63]#011train-auc:0.997846#011validation-auc:0.997108\u001b[0m\n",
      "\u001b[31m[17:00:16] src/tree/updater_prune.cc:74: tree pruning end, 1 roots, 26 extra nodes, 18 pruned nodes, max_depth=5\u001b[0m\n",
      "\u001b[31m[64]#011train-auc:0.997866#011validation-auc:0.997173\u001b[0m\n",
      "\u001b[31m[17:00:19] src/tree/updater_prune.cc:74: tree pruning end, 1 roots, 8 extra nodes, 10 pruned nodes, max_depth=4\u001b[0m\n",
      "\u001b[31m[65]#011train-auc:0.997863#011validation-auc:0.9971\u001b[0m\n",
      "\u001b[31m[17:00:22] src/tree/updater_prune.cc:74: tree pruning end, 1 roots, 10 extra nodes, 20 pruned nodes, max_depth=5\u001b[0m\n",
      "\u001b[31m[66]#011train-auc:0.997865#011validation-auc:0.997104\u001b[0m\n",
      "\u001b[31m[17:00:24] src/tree/updater_prune.cc:74: tree pruning end, 1 roots, 12 extra nodes, 22 pruned nodes, max_depth=5\u001b[0m\n",
      "\u001b[31m[67]#011train-auc:0.997868#011validation-auc:0.997093\u001b[0m\n",
      "\u001b[31m[17:00:27] src/tree/updater_prune.cc:74: tree pruning end, 1 roots, 0 extra nodes, 24 pruned nodes, max_depth=0\u001b[0m\n",
      "\u001b[31m[68]#011train-auc:0.997868#011validation-auc:0.997093\u001b[0m\n",
      "\u001b[31m[17:00:30] src/tree/updater_prune.cc:74: tree pruning end, 1 roots, 6 extra nodes, 34 pruned nodes, max_depth=3\u001b[0m\n",
      "\u001b[31m[69]#011train-auc:0.997876#011validation-auc:0.997034\u001b[0m\n",
      "\u001b[31m[17:00:33] src/tree/updater_prune.cc:74: tree pruning end, 1 roots, 10 extra nodes, 12 pruned nodes, max_depth=5\u001b[0m\n",
      "\u001b[31m[70]#011train-auc:0.997876#011validation-auc:0.997034\u001b[0m\n",
      "\u001b[31m[17:00:36] src/tree/updater_prune.cc:74: tree pruning end, 1 roots, 0 extra nodes, 34 pruned nodes, max_depth=0\u001b[0m\n",
      "\u001b[31m[71]#011train-auc:0.997876#011validation-auc:0.997034\u001b[0m\n",
      "\u001b[31m[17:00:39] src/tree/updater_prune.cc:74: tree pruning end, 1 roots, 20 extra nodes, 16 pruned nodes, max_depth=5\u001b[0m\n",
      "\u001b[31m[72]#011train-auc:0.997877#011validation-auc:0.997011\u001b[0m\n",
      "\u001b[31m[17:00:41] src/tree/updater_prune.cc:74: tree pruning end, 1 roots, 20 extra nodes, 14 pruned nodes, max_depth=5\u001b[0m\n",
      "\u001b[31m[73]#011train-auc:0.997897#011validation-auc:0.997092\u001b[0m\n",
      "\u001b[31m[17:00:44] src/tree/updater_prune.cc:74: tree pruning end, 1 roots, 0 extra nodes, 42 pruned nodes, max_depth=0\u001b[0m\n",
      "\u001b[31m[74]#011train-auc:0.997897#011validation-auc:0.997092\u001b[0m\n",
      "\u001b[31m[17:00:47] src/tree/updater_prune.cc:74: tree pruning end, 1 roots, 6 extra nodes, 34 pruned nodes, max_depth=3\u001b[0m\n",
      "\u001b[31m[75]#011train-auc:0.997903#011validation-auc:0.997074\u001b[0m\n",
      "\u001b[31m[17:00:50] src/tree/updater_prune.cc:74: tree pruning end, 1 roots, 10 extra nodes, 16 pruned nodes, max_depth=5\u001b[0m\n",
      "\u001b[31m[76]#011train-auc:0.997903#011validation-auc:0.997077\u001b[0m\n",
      "\u001b[31m[17:00:53] src/tree/updater_prune.cc:74: tree pruning end, 1 roots, 0 extra nodes, 22 pruned nodes, max_depth=0\u001b[0m\n",
      "\u001b[31m[77]#011train-auc:0.997903#011validation-auc:0.997077\u001b[0m\n",
      "\u001b[31m[17:00:55] src/tree/updater_prune.cc:74: tree pruning end, 1 roots, 10 extra nodes, 22 pruned nodes, max_depth=3\u001b[0m\n",
      "\u001b[31m[78]#011train-auc:0.997903#011validation-auc:0.997074\u001b[0m\n",
      "\u001b[31m[17:00:58] src/tree/updater_prune.cc:74: tree pruning end, 1 roots, 0 extra nodes, 34 pruned nodes, max_depth=0\u001b[0m\n",
      "\u001b[31m[79]#011train-auc:0.997903#011validation-auc:0.997074\u001b[0m\n",
      "\u001b[31m[17:01:00] src/tree/updater_prune.cc:74: tree pruning end, 1 roots, 0 extra nodes, 24 pruned nodes, max_depth=0\u001b[0m\n",
      "\u001b[31m[80]#011train-auc:0.997903#011validation-auc:0.997074\u001b[0m\n",
      "\u001b[31m[17:01:03] src/tree/updater_prune.cc:74: tree pruning end, 1 roots, 4 extra nodes, 36 pruned nodes, max_depth=2\u001b[0m\n",
      "\u001b[31m[81]#011train-auc:0.997903#011validation-auc:0.997075\u001b[0m\n",
      "\u001b[31m[17:01:06] src/tree/updater_prune.cc:74: tree pruning end, 1 roots, 0 extra nodes, 34 pruned nodes, max_depth=0\u001b[0m\n",
      "\u001b[31m[82]#011train-auc:0.997903#011validation-auc:0.997075\u001b[0m\n",
      "\u001b[31m[17:01:09] src/tree/updater_prune.cc:74: tree pruning end, 1 roots, 6 extra nodes, 14 pruned nodes, max_depth=3\u001b[0m\n",
      "\u001b[31m[83]#011train-auc:0.997903#011validation-auc:0.997073\u001b[0m\n",
      "\u001b[31m[17:01:11] src/tree/updater_prune.cc:74: tree pruning end, 1 roots, 0 extra nodes, 26 pruned nodes, max_depth=0\u001b[0m\n",
      "\u001b[31m[84]#011train-auc:0.997903#011validation-auc:0.997073\u001b[0m\n",
      "\u001b[31m[17:01:14] src/tree/updater_prune.cc:74: tree pruning end, 1 roots, 6 extra nodes, 24 pruned nodes, max_depth=3\u001b[0m\n",
      "\u001b[31m[85]#011train-auc:0.997905#011validation-auc:0.997071\u001b[0m\n",
      "\u001b[31m[17:01:17] src/tree/updater_prune.cc:74: tree pruning end, 1 roots, 10 extra nodes, 36 pruned nodes, max_depth=5\u001b[0m\n",
      "\u001b[31m[86]#011train-auc:0.997901#011validation-auc:0.997059\u001b[0m\n",
      "\u001b[31m[17:01:20] src/tree/updater_prune.cc:74: tree pruning end, 1 roots, 0 extra nodes, 26 pruned nodes, max_depth=0\u001b[0m\n",
      "\u001b[31m[87]#011train-auc:0.997901#011validation-auc:0.997059\u001b[0m\n",
      "\u001b[31m[17:01:22] src/tree/updater_prune.cc:74: tree pruning end, 1 roots, 14 extra nodes, 12 pruned nodes, max_depth=5\u001b[0m\n",
      "\u001b[31m[88]#011train-auc:0.997892#011validation-auc:0.997011\u001b[0m\n",
      "\u001b[31m[17:01:25] src/tree/updater_prune.cc:74: tree pruning end, 1 roots, 0 extra nodes, 42 pruned nodes, max_depth=0\u001b[0m\n",
      "\u001b[31m[89]#011train-auc:0.997892#011validation-auc:0.997011\u001b[0m\n",
      "\u001b[31m[17:01:28] src/tree/updater_prune.cc:74: tree pruning end, 1 roots, 0 extra nodes, 28 pruned nodes, max_depth=0\u001b[0m\n",
      "\u001b[31m[90]#011train-auc:0.997892#011validation-auc:0.997011\u001b[0m\n",
      "\u001b[31m[17:01:30] src/tree/updater_prune.cc:74: tree pruning end, 1 roots, 0 extra nodes, 26 pruned nodes, max_depth=0\u001b[0m\n",
      "\u001b[31m[91]#011train-auc:0.997892#011validation-auc:0.997011\u001b[0m\n",
      "\u001b[31m[17:01:33] src/tree/updater_prune.cc:74: tree pruning end, 1 roots, 0 extra nodes, 26 pruned nodes, max_depth=0\u001b[0m\n",
      "\u001b[31m[92]#011train-auc:0.997892#011validation-auc:0.997011\u001b[0m\n",
      "\u001b[31m[17:01:36] src/tree/updater_prune.cc:74: tree pruning end, 1 roots, 0 extra nodes, 30 pruned nodes, max_depth=0\u001b[0m\n",
      "\u001b[31m[93]#011train-auc:0.997892#011validation-auc:0.997011\u001b[0m\n",
      "\u001b[31m[17:01:39] src/tree/updater_prune.cc:74: tree pruning end, 1 roots, 6 extra nodes, 26 pruned nodes, max_depth=3\u001b[0m\n",
      "\u001b[31m[94]#011train-auc:0.997902#011validation-auc:0.997038\u001b[0m\n",
      "\u001b[31m[17:01:42] src/tree/updater_prune.cc:74: tree pruning end, 1 roots, 12 extra nodes, 18 pruned nodes, max_depth=4\u001b[0m\n",
      "\u001b[31m[95]#011train-auc:0.997897#011validation-auc:0.997022\u001b[0m\n",
      "\u001b[31m[17:01:44] src/tree/updater_prune.cc:74: tree pruning end, 1 roots, 0 extra nodes, 26 pruned nodes, max_depth=0\u001b[0m\n",
      "\u001b[31m[96]#011train-auc:0.997897#011validation-auc:0.997022\u001b[0m\n",
      "\u001b[31m[17:01:47] src/tree/updater_prune.cc:74: tree pruning end, 1 roots, 0 extra nodes, 28 pruned nodes, max_depth=0\u001b[0m\n",
      "\u001b[31m[97]#011train-auc:0.997897#011validation-auc:0.997022\u001b[0m\n",
      "\u001b[31m[17:01:49] src/tree/updater_prune.cc:74: tree pruning end, 1 roots, 2 extra nodes, 40 pruned nodes, max_depth=1\u001b[0m\n",
      "\u001b[31m[98]#011train-auc:0.997896#011validation-auc:0.997025\u001b[0m\n",
      "\u001b[31m[17:01:52] src/tree/updater_prune.cc:74: tree pruning end, 1 roots, 8 extra nodes, 18 pruned nodes, max_depth=4\u001b[0m\n",
      "\u001b[31m[99]#011train-auc:0.997895#011validation-auc:0.997023\u001b[0m\n",
      "\n",
      "2018-12-21 17:02:44 Uploading - Uploading generated training model\n",
      "2018-12-21 17:02:44 Completed - Training job completed\n",
      "Billable seconds: 338\n"
     ]
    }
   ],
   "source": [
    "sess = sagemaker.Session()\n",
    "\n",
    "job_name_prefix = 'anomaly-xgboost'\n",
    "timestamp = time.strftime('-%Y-%m-%d-%H-%M-%S', time.gmtime())\n",
    "job_name = job_name_prefix + timestamp\n",
    "\n",
    "xgb = sagemaker.estimator.Estimator(container,\n",
    "                                    role, \n",
    "                                    train_instance_count=1, \n",
    "                                    train_instance_type='ml.m4.xlarge',\n",
    "                                    output_path='s3://{}/{}/output'.format(bucket, prefix),\n",
    "                                    sagemaker_session=sess)\n",
    "xgb.set_hyperparameters(eval_metric='auc',\n",
    "                        max_depth=5,\n",
    "                        eta=0.2,\n",
    "                        gamma=4,\n",
    "                        min_child_weight=6,\n",
    "                        subsample=0.8,\n",
    "                        silent=0,\n",
    "                        objective='binary:logistic',\n",
    "                        num_round=100)\n",
    "\n",
    "xgb.fit({'train': s3_input_train, 'validation': s3_input_validation},\n",
    "        job_name=job_name\n",
    "       ) "
   ]
  },
  {
   "cell_type": "markdown",
   "metadata": {},
   "source": [
    "---\n",
    "# Deploy"
   ]
  },
  {
   "cell_type": "code",
   "execution_count": 113,
   "metadata": {},
   "outputs": [
    {
     "name": "stderr",
     "output_type": "stream",
     "text": [
      "INFO:sagemaker:Creating model with name: xgboost-2018-12-21-17-05-03-766\n",
      "INFO:sagemaker:Creating endpoint with name anomaly-xgboost-2018-12-21-16-54-44\n"
     ]
    },
    {
     "name": "stdout",
     "output_type": "stream",
     "text": [
      "--------------------------------------------------------------!"
     ]
    }
   ],
   "source": [
    "xgb_predictor = xgb.deploy(initial_instance_count=1,\n",
    "                           instance_type='ml.m4.xlarge')"
   ]
  },
  {
   "cell_type": "code",
   "execution_count": 131,
   "metadata": {},
   "outputs": [
    {
     "name": "stderr",
     "output_type": "stream",
     "text": [
      "INFO:sagemaker:Deleting endpoint with name: anomaly-xgboost-2018-12-21-16-54-44\n"
     ]
    }
   ],
   "source": [
    "sagemaker.Session().delete_endpoint(xgb_predictor.endpoint)"
   ]
  },
  {
   "cell_type": "markdown",
   "metadata": {},
   "source": [
    "## Test"
   ]
  },
  {
   "cell_type": "code",
   "execution_count": 114,
   "metadata": {},
   "outputs": [],
   "source": [
    "xgb_predictor.content_type = 'text/csv'\n",
    "xgb_predictor.serializer = csv_serializer\n",
    "xgb_predictor.deserializer = None"
   ]
  },
  {
   "cell_type": "markdown",
   "metadata": {},
   "source": [
    "Now, we'll use a simple function to:\n",
    "1. Loop over our test dataset\n",
    "1. Split it into mini-batches of rows \n",
    "1. Convert those mini-batchs to CSV string payloads\n",
    "1. Retrieve mini-batch predictions by invoking the XGBoost endpoint\n",
    "1. Collect predictions and convert from the CSV output our model provides into a NumPy array"
   ]
  },
  {
   "cell_type": "code",
   "execution_count": 115,
   "metadata": {},
   "outputs": [],
   "source": [
    "def predict(data, rows=500):\n",
    "    split_array = np.array_split(data, int(data.shape[0] / float(rows) + 1))\n",
    "    predictions = ''\n",
    "    for array in split_array:\n",
    "        predictions = ','.join([predictions, xgb_predictor.predict(array).decode('utf-8')])\n",
    "\n",
    "    return np.fromstring(predictions[1:], sep=',')\n",
    "\n",
    "predictions = predict(test_data.as_matrix()[:, 1:])"
   ]
  },
  {
   "cell_type": "code",
   "execution_count": 116,
   "metadata": {},
   "outputs": [
    {
     "data": {
      "text/html": [
       "<div>\n",
       "<style scoped>\n",
       "    .dataframe tbody tr th:only-of-type {\n",
       "        vertical-align: middle;\n",
       "    }\n",
       "\n",
       "    .dataframe tbody tr th {\n",
       "        vertical-align: top;\n",
       "    }\n",
       "\n",
       "    .dataframe thead th {\n",
       "        text-align: right;\n",
       "    }\n",
       "</style>\n",
       "<table border=\"1\" class=\"dataframe\">\n",
       "  <thead>\n",
       "    <tr style=\"text-align: right;\">\n",
       "      <th>predictions</th>\n",
       "      <th>0.0</th>\n",
       "      <th>1.0</th>\n",
       "    </tr>\n",
       "    <tr>\n",
       "      <th>actual</th>\n",
       "      <th></th>\n",
       "      <th></th>\n",
       "    </tr>\n",
       "  </thead>\n",
       "  <tbody>\n",
       "    <tr>\n",
       "      <th>0</th>\n",
       "      <td>635441</td>\n",
       "      <td>11</td>\n",
       "    </tr>\n",
       "    <tr>\n",
       "      <th>1</th>\n",
       "      <td>241</td>\n",
       "      <td>568</td>\n",
       "    </tr>\n",
       "  </tbody>\n",
       "</table>\n",
       "</div>"
      ],
      "text/plain": [
       "predictions     0.0  1.0\n",
       "actual                  \n",
       "0            635441   11\n",
       "1               241  568"
      ]
     },
     "execution_count": 116,
     "metadata": {},
     "output_type": "execute_result"
    }
   ],
   "source": [
    "conf_matrix = pd.crosstab(index=test_data.iloc[:, 0], columns=np.round(predictions), rownames=['actual'], colnames=['predictions'])\n",
    "conf_matrix"
   ]
  },
  {
   "cell_type": "code",
   "execution_count": 117,
   "metadata": {},
   "outputs": [
    {
     "name": "stdout",
     "output_type": "stream",
     "text": [
      " accuracy = 99.96%\n",
      "precision = 98.10%\n",
      "   recall = 70.21%\n"
     ]
    }
   ],
   "source": [
    "tp = conf_matrix[1][1]\n",
    "tn = conf_matrix[0][0]\n",
    "fp = conf_matrix[1][0]\n",
    "fn = conf_matrix[0][1]\n",
    "\n",
    "print(f' accuracy = {100.0 * (tp + tn)/(tp + tn + fp + fn):.2f}%')\n",
    "print(f'precision = {100.0 * tp / (tp + fp):.2f}%')\n",
    "print(f'   recall = {100.0 * tp / (tp + fn):.2f}%')"
   ]
  },
  {
   "cell_type": "markdown",
   "metadata": {},
   "source": [
    "---\n",
    "# Do it again with hyper-parameter tuning"
   ]
  },
  {
   "cell_type": "code",
   "execution_count": 119,
   "metadata": {},
   "outputs": [],
   "source": [
    "sess_hpt = sagemaker.Session()\n",
    "\n",
    "job_name_prefix_hpt = 'anomaly-xgboost-hpt'\n",
    "timestamp = time.strftime('-%Y-%m-%d-%H-%M-%S', time.gmtime())\n",
    "job_name_hpt = job_name_prefix_hpt + timestamp\n",
    "\n",
    "xgb_hpt = sagemaker.estimator.Estimator(container,\n",
    "                                    role, \n",
    "                                    train_instance_count=4, \n",
    "                                    train_instance_type='ml.m4.2xlarge',\n",
    "                                    output_path='s3://{}/{}/output'.format(bucket, prefix),\n",
    "                                    sagemaker_session=sess_hpt)\n",
    "xgb_hpt.set_hyperparameters(\n",
    "                        eval_metric='auc',\n",
    "                        gamma=4,\n",
    "                        subsample=0.8,\n",
    "                        silent=0,\n",
    "                        objective='binary:logistic',\n",
    "                        num_round=100)"
   ]
  },
  {
   "cell_type": "code",
   "execution_count": 120,
   "metadata": {},
   "outputs": [],
   "source": [
    "from sagemaker.tuner import IntegerParameter, CategoricalParameter, ContinuousParameter, HyperparameterTuner\n",
    "\n",
    "hyperparameter_ranges = {'eta': ContinuousParameter(0, 1),\n",
    "                        'min_child_weight': ContinuousParameter(1, 10),\n",
    "                        'alpha': ContinuousParameter(0, 2),\n",
    "                        'max_depth': IntegerParameter(1, 10)}"
   ]
  },
  {
   "cell_type": "code",
   "execution_count": 121,
   "metadata": {},
   "outputs": [
    {
     "name": "stderr",
     "output_type": "stream",
     "text": [
      "INFO:sagemaker:Creating hyperparameter tuning job with name: anomaly-xgboost-hpt--181221-1713\n"
     ]
    }
   ],
   "source": [
    "tuner = HyperparameterTuner(xgb_hpt,\n",
    "                            objective_metric_name='validation:auc',\n",
    "                            base_tuning_job_name=job_name_hpt,\n",
    "                            hyperparameter_ranges=hyperparameter_ranges,\n",
    "                            max_jobs=18,\n",
    "                            max_parallel_jobs=3)\n",
    "\n",
    "tuner.fit({'train': s3_input_train, 'validation': s3_input_validation}, include_cls_metadata=False)"
   ]
  },
  {
   "cell_type": "code",
   "execution_count": 126,
   "metadata": {},
   "outputs": [
    {
     "data": {
      "text/plain": [
       "'Completed'"
      ]
     },
     "execution_count": 126,
     "metadata": {},
     "output_type": "execute_result"
    }
   ],
   "source": [
    "boto3.client('sagemaker').describe_hyper_parameter_tuning_job(\n",
    "    HyperParameterTuningJobName=tuner.latest_tuning_job.job_name)['HyperParameterTuningJobStatus']"
   ]
  },
  {
   "cell_type": "markdown",
   "metadata": {},
   "source": [
    "## Deploy again"
   ]
  },
  {
   "cell_type": "code",
   "execution_count": 132,
   "metadata": {},
   "outputs": [
    {
     "name": "stdout",
     "output_type": "stream",
     "text": [
      "2018-12-21 17:44:08 Starting - Preparing the instances for training\n",
      "2018-12-21 17:44:08 Downloading - Downloading input data\n",
      "2018-12-21 17:44:08 Training - Training image download completed. Training in progress.\n",
      "2018-12-21 17:44:08 Uploading - Uploading generated training model\n",
      "2018-12-21 17:44:08 Completed - Training job completed"
     ]
    },
    {
     "name": "stderr",
     "output_type": "stream",
     "text": [
      "INFO:sagemaker:Creating model with name: xgboost-2018-12-21-18-06-55-834\n"
     ]
    },
    {
     "name": "stdout",
     "output_type": "stream",
     "text": [
      "\u001b[33mArguments: train\u001b[0m\n",
      "\u001b[33m[2018-12-21:17:41:22:INFO] Running distributed xgboost training.\u001b[0m\n",
      "\u001b[31mArguments: train\u001b[0m\n",
      "\u001b[31m[2018-12-21:17:41:25:INFO] Running distributed xgboost training.\u001b[0m\n",
      "\u001b[32mArguments: train\u001b[0m\n",
      "\u001b[32m[2018-12-21:17:41:22:INFO] Running distributed xgboost training.\u001b[0m\n",
      "\u001b[31m[2018-12-21:17:41:26:INFO] Number of hosts: 4, master IP address: 10.44.0.4, host IP address: 10.44.0.4.\u001b[0m\n",
      "\u001b[31m[2018-12-21:17:41:26:INFO] Finished Yarn configuration files setup.\n",
      "\u001b[0m\n",
      "\u001b[32m[2018-12-21:17:41:25:INFO] Number of hosts: 4, master IP address: 10.44.0.4, host IP address: 10.32.0.5.\u001b[0m\n",
      "\u001b[32m[2018-12-21:17:41:25:INFO] Finished Yarn configuration files setup.\n",
      "\u001b[0m\n",
      "\u001b[32mstarting datanode, logging to /opt/amazon/hadoop/logs/hadoop--datanode-aws.out\u001b[0m\n",
      "\u001b[33m[2018-12-21:17:41:25:INFO] Number of hosts: 4, master IP address: 10.44.0.4, host IP address: 10.36.0.4.\u001b[0m\n",
      "\u001b[33m[2018-12-21:17:41:25:INFO] Finished Yarn configuration files setup.\n",
      "\u001b[0m\n",
      "\u001b[33mstarting datanode, logging to /opt/amazon/hadoop/logs/hadoop--datanode-aws.out\u001b[0m\n",
      "\u001b[34mArguments: train\u001b[0m\n",
      "\u001b[34m[2018-12-21:17:41:24:INFO] Running distributed xgboost training.\u001b[0m\n",
      "\u001b[34m[2018-12-21:17:41:25:INFO] Number of hosts: 4, master IP address: 10.44.0.4, host IP address: 10.40.0.4.\u001b[0m\n",
      "\u001b[34m[2018-12-21:17:41:25:INFO] Finished Yarn configuration files setup.\n",
      "\u001b[0m\n",
      "\u001b[34mstarting datanode, logging to /opt/amazon/hadoop/logs/hadoop--datanode-aws.out\u001b[0m\n",
      "\u001b[31mstarting namenode, logging to /opt/amazon/hadoop/logs/hadoop--namenode-aws.out\u001b[0m\n",
      "\u001b[34mstarting nodemanager, logging to /opt/amazon/hadoop/logs/yarn--nodemanager-aws.out\u001b[0m\n",
      "\u001b[32mstarting nodemanager, logging to /opt/amazon/hadoop/logs/yarn--nodemanager-aws.out\u001b[0m\n",
      "\u001b[33mstarting nodemanager, logging to /opt/amazon/hadoop/logs/yarn--nodemanager-aws.out\u001b[0m\n",
      "\u001b[34m[2018-12-21:17:41:30:INFO] File size need to be processed in the node: 66.67mb. Available memory size in the node: 24021.05mb\u001b[0m\n",
      "\u001b[32m[2018-12-21:17:41:30:INFO] File size need to be processed in the node: 66.67mb. Available memory size in the node: 24022.35mb\u001b[0m\n",
      "\u001b[33m[2018-12-21:17:41:31:INFO] File size need to be processed in the node: 66.67mb. Available memory size in the node: 24035.69mb\u001b[0m\n",
      "\u001b[31mstarting resourcemanager, logging to /opt/amazon/hadoop/logs/yarn--resourcemanager-aws.out\u001b[0m\n",
      "\u001b[31mstarting datanode, logging to /opt/amazon/hadoop/logs/hadoop--datanode-aws.out\u001b[0m\n",
      "\u001b[31mstarting nodemanager, logging to /opt/amazon/hadoop/logs/yarn--nodemanager-aws.out\u001b[0m\n",
      "\u001b[31m[2018-12-21:17:41:39:INFO] File size need to be processed in the node: 66.67mb. Available memory size in the node: 23458.87mb\u001b[0m\n",
      "\u001b[31m[2018-12-21:17:41:39:INFO] HTTP server started....\u001b[0m\n",
      "\u001b[31m[2018-12-21:17:41:39:INFO] Memory/core ratio is 7.85\u001b[0m\n",
      "\u001b[31m[2018-12-21:17:41:39:INFO] Yarn setup: number of workers: 4, physical cores per worker: 4, physical memory per worker: 31.42g.\u001b[0m\n",
      "\u001b[31m[2018-12-21:17:41:39:INFO] Yarn job submitted successfully.\u001b[0m\n",
      "\u001b[31m2018-12-21 17:41:39,098 INFO start listen on 10.44.0.4:9091\u001b[0m\n",
      "\u001b[31m/xgboost/dmlc-core/tracker/dmlc_tracker/yarn.py:37: UserWarning: cannot find \"/xgboost/dmlc-core/tracker/dmlc_tracker/../yarn/dmlc-yarn.jar\", I will try to run build\n",
      "  warnings.warn(\"cannot find \\\"%s\\\", I will try to run build\" % YARN_JAR_PATH)\u001b[0m\n",
      "\u001b[31msrc/main/java/org/apache/hadoop/yarn/dmlc/Client.java:37: warning: Signal is internal proprietary API and may be removed in a future release\u001b[0m\n",
      "\u001b[31mimport sun.misc.Signal;\n",
      "               ^\u001b[0m\n",
      "\u001b[31msrc/main/java/org/apache/hadoop/yarn/dmlc/Client.java:38: warning: SignalHandler is internal proprietary API and may be removed in a future release\u001b[0m\n",
      "\u001b[31mimport sun.misc.SignalHandler;\n",
      "               ^\u001b[0m\n",
      "\u001b[31msrc/main/java/org/apache/hadoop/yarn/dmlc/Client.java:276: warning: Signal is internal proprietary API and may be removed in a future release\n",
      "        Signal intSignal = new Signal(\"INT\");\n",
      "        ^\u001b[0m\n",
      "\u001b[31msrc/main/java/org/apache/hadoop/yarn/dmlc/Client.java:276: warning: Signal is internal proprietary API and may be removed in a future release\n",
      "        Signal intSignal = new Signal(\"INT\");\n",
      "                               ^\u001b[0m\n",
      "\u001b[31msrc/main/java/org/apache/hadoop/yarn/dmlc/Client.java:277: warning: Signal is internal proprietary API and may be removed in a future release\n",
      "        Signal.handle(intSignal, handler);\n",
      "        ^\u001b[0m\n",
      "\u001b[31msrc/main/java/org/apache/hadoop/yarn/dmlc/Client.java:332: warning: SignalHandler is internal proprietary API and may be removed in a future release\n",
      "    class CtrlCHandler implements SignalHandler{\n",
      "                                  ^\u001b[0m\n",
      "\u001b[31msrc/main/java/org/apache/hadoop/yarn/dmlc/Client.java:339: warning: Signal is internal proprietary API and may be removed in a future release\n",
      "        public void handle(Signal signal){\n",
      "                           ^\u001b[0m\n",
      "\u001b[31mNote: src/main/java/org/apache/hadoop/yarn/dmlc/ApplicationMaster.java uses unchecked or unsafe operations.\u001b[0m\n",
      "\u001b[31mNote: Recompile with -Xlint:unchecked for details.\u001b[0m\n",
      "\u001b[31m7 warnings\u001b[0m\n",
      "\u001b[31m18/12/21 17:41:42 INFO client.RMProxy: Connecting to ResourceManager at algo-1/10.44.0.4:8032\u001b[0m\n",
      "\u001b[31m18/12/21 17:41:42 INFO dmlc.Client: HDFS temp directory do not exist, creating.. /tmp\u001b[0m\n",
      "\u001b[31m18/12/21 17:41:44 INFO dmlc.Client: jobname=DMLC[nworker=4]:python,username=root\u001b[0m\n",
      "\u001b[31m18/12/21 17:41:44 INFO dmlc.Client: Submitting application application_1545414094439_0001\u001b[0m\n",
      "\u001b[31m18/12/21 17:41:44 INFO impl.YarnClientImpl: Submitted application application_1545414094439_0001\u001b[0m\n",
      "\u001b[31m2018-12-21 17:41:51,516 INFO @tracker All of 4 nodes getting started\u001b[0m\n",
      "\u001b[31m2018-12-21 17:41:53,063 INFO [0]#011train-auc:0.995811#011validation-auc:0.994857\u001b[0m\n",
      "\u001b[31m2018-12-21 17:41:53,703 INFO [1]#011train-auc:0.995863#011validation-auc:0.994915\u001b[0m\n",
      "\u001b[31m2018-12-21 17:41:54,316 INFO [2]#011train-auc:0.99591#011validation-auc:0.994942\u001b[0m\n",
      "\u001b[31m2018-12-21 17:41:54,947 INFO [3]#011train-auc:0.996102#011validation-auc:0.995153\u001b[0m\n",
      "\u001b[31m2018-12-21 17:41:55,537 INFO [4]#011train-auc:0.996144#011validation-auc:0.995194\u001b[0m\n",
      "\u001b[31m2018-12-21 17:41:56,167 INFO [5]#011train-auc:0.996159#011validation-auc:0.995178\u001b[0m\n",
      "\u001b[31m2018-12-21 17:41:56,834 INFO [6]#011train-auc:0.996251#011validation-auc:0.99548\u001b[0m\n",
      "\u001b[31m2018-12-21 17:41:57,486 INFO [7]#011train-auc:0.996255#011validation-auc:0.995483\u001b[0m\n",
      "\u001b[31m2018-12-21 17:41:58,100 INFO [8]#011train-auc:0.996257#011validation-auc:0.995484\u001b[0m\n",
      "\u001b[31m2018-12-21 17:41:58,715 INFO [9]#011train-auc:0.996235#011validation-auc:0.995414\u001b[0m\n",
      "\u001b[31m2018-12-21 17:41:59,328 INFO [10]#011train-auc:0.99625#011validation-auc:0.995435\u001b[0m\n",
      "\u001b[31m2018-12-21 17:41:59,909 INFO [11]#011train-auc:0.99625#011validation-auc:0.995434\u001b[0m\n",
      "\u001b[31m2018-12-21 17:42:00,489 INFO [12]#011train-auc:0.996268#011validation-auc:0.995428\u001b[0m\n",
      "\u001b[31m2018-12-21 17:42:01,141 INFO [13]#011train-auc:0.997507#011validation-auc:0.996455\u001b[0m\n",
      "\u001b[31m2018-12-21 17:42:01,795 INFO [14]#011train-auc:0.99776#011validation-auc:0.996987\u001b[0m\n",
      "\u001b[31m2018-12-21 17:42:02,498 INFO [15]#011train-auc:0.99776#011validation-auc:0.996987\u001b[0m\n",
      "\u001b[31m2018-12-21 17:42:03,203 INFO [16]#011train-auc:0.997756#011validation-auc:0.996961\u001b[0m\n",
      "\u001b[31m2018-12-21 17:42:03,917 INFO [17]#011train-auc:0.997801#011validation-auc:0.996998\u001b[0m\n",
      "\u001b[31m2018-12-21 17:42:04,591 INFO [18]#011train-auc:0.997803#011validation-auc:0.996993\u001b[0m\n",
      "\u001b[31m2018-12-21 17:42:05,260 INFO [19]#011train-auc:0.997807#011validation-auc:0.996998\u001b[0m\n",
      "\u001b[31m2018-12-21 17:42:05,964 INFO [20]#011train-auc:0.997792#011validation-auc:0.99698\u001b[0m\n",
      "\u001b[31m2018-12-21 17:42:06,683 INFO [21]#011train-auc:0.997792#011validation-auc:0.99698\u001b[0m\n",
      "\u001b[31m2018-12-21 17:42:07,373 INFO [22]#011train-auc:0.997792#011validation-auc:0.99698\u001b[0m\n",
      "\u001b[31m2018-12-21 17:42:08,188 INFO [23]#011train-auc:0.997788#011validation-auc:0.99695\u001b[0m\n",
      "\u001b[31m2018-12-21 17:42:08,803 INFO [24]#011train-auc:0.997788#011validation-auc:0.99695\u001b[0m\n",
      "\u001b[31m2018-12-21 17:42:09,522 INFO [25]#011train-auc:0.997788#011validation-auc:0.99695\u001b[0m\n",
      "\u001b[31m2018-12-21 17:42:10,203 INFO [26]#011train-auc:0.997788#011validation-auc:0.996874\u001b[0m\n",
      "\u001b[31m2018-12-21 17:42:10,919 INFO [27]#011train-auc:0.99779#011validation-auc:0.996893\u001b[0m\n",
      "\u001b[31m2018-12-21 17:42:11,628 INFO [28]#011train-auc:0.99779#011validation-auc:0.996898\u001b[0m\n",
      "\u001b[31m2018-12-21 17:42:12,426 INFO [29]#011train-auc:0.99779#011validation-auc:0.996898\u001b[0m\n",
      "\u001b[31m2018-12-21 17:42:13,188 INFO [30]#011train-auc:0.997729#011validation-auc:0.996954\u001b[0m\n",
      "\u001b[31m2018-12-21 17:42:13,887 INFO [31]#011train-auc:0.997772#011validation-auc:0.997005\u001b[0m\n",
      "\u001b[31m2018-12-21 17:42:14,604 INFO [32]#011train-auc:0.997772#011validation-auc:0.997005\u001b[0m\n",
      "\u001b[31m2018-12-21 17:42:15,372 INFO [33]#011train-auc:0.997772#011validation-auc:0.997005\u001b[0m\n",
      "\u001b[31m2018-12-21 17:42:16,160 INFO [34]#011train-auc:0.997772#011validation-auc:0.997005\u001b[0m\n",
      "\u001b[31m2018-12-21 17:42:16,801 INFO [35]#011train-auc:0.997772#011validation-auc:0.997005\u001b[0m\n",
      "\u001b[31m2018-12-21 17:42:17,488 INFO [36]#011train-auc:0.997772#011validation-auc:0.997005\u001b[0m\n",
      "\u001b[31m2018-12-21 17:42:18,236 INFO [37]#011train-auc:0.99779#011validation-auc:0.997054\u001b[0m\n",
      "\u001b[31m2018-12-21 17:42:18,899 INFO [38]#011train-auc:0.99779#011validation-auc:0.997054\u001b[0m\n",
      "\u001b[31m2018-12-21 17:42:19,703 INFO [39]#011train-auc:0.997778#011validation-auc:0.997086\u001b[0m\n",
      "\u001b[31m2018-12-21 17:42:20,410 INFO [40]#011train-auc:0.997778#011validation-auc:0.997086\u001b[0m\n",
      "\u001b[31m2018-12-21 17:42:21,165 INFO [41]#011train-auc:0.997778#011validation-auc:0.997086\u001b[0m\n",
      "\u001b[31m2018-12-21 17:42:21,914 INFO [42]#011train-auc:0.997778#011validation-auc:0.997086\u001b[0m\n",
      "\u001b[31m2018-12-21 17:42:22,608 INFO [43]#011train-auc:0.997778#011validation-auc:0.997086\u001b[0m\n",
      "\u001b[31m2018-12-21 17:42:23,379 INFO [44]#011train-auc:0.997778#011validation-auc:0.997086\u001b[0m\n",
      "\u001b[31m2018-12-21 17:42:24,144 INFO [45]#011train-auc:0.997778#011validation-auc:0.997086\u001b[0m\n",
      "\u001b[31m2018-12-21 17:42:24,862 INFO [46]#011train-auc:0.997781#011validation-auc:0.997092\u001b[0m\n",
      "\u001b[31m2018-12-21 17:42:25,696 INFO [47]#011train-auc:0.99779#011validation-auc:0.997007\u001b[0m\n",
      "\u001b[31m2018-12-21 17:42:26,387 INFO [48]#011train-auc:0.99779#011validation-auc:0.997007\u001b[0m\n",
      "\u001b[31m2018-12-21 17:42:27,091 INFO [49]#011train-auc:0.99779#011validation-auc:0.997007\u001b[0m\n",
      "\u001b[31m2018-12-21 17:42:27,747 INFO [50]#011train-auc:0.99779#011validation-auc:0.997007\u001b[0m\n",
      "\u001b[31m2018-12-21 17:42:28,504 INFO [51]#011train-auc:0.997885#011validation-auc:0.996997\u001b[0m\n",
      "\u001b[31m2018-12-21 17:42:29,183 INFO [52]#011train-auc:0.997885#011validation-auc:0.996997\u001b[0m\n",
      "\u001b[31m2018-12-21 17:42:29,884 INFO [53]#011train-auc:0.997885#011validation-auc:0.996997\u001b[0m\n",
      "\u001b[31m2018-12-21 17:42:30,539 INFO [54]#011train-auc:0.997885#011validation-auc:0.996997\u001b[0m\n",
      "\u001b[31m2018-12-21 17:42:31,217 INFO [55]#011train-auc:0.997885#011validation-auc:0.996997\u001b[0m\n",
      "\u001b[31m2018-12-21 17:42:32,047 INFO [56]#011train-auc:0.997885#011validation-auc:0.996997\u001b[0m\n",
      "\u001b[31m2018-12-21 17:42:32,756 INFO [57]#011train-auc:0.997885#011validation-auc:0.996997\u001b[0m\n",
      "\u001b[31m2018-12-21 17:42:33,517 INFO [58]#011train-auc:0.997885#011validation-auc:0.996997\u001b[0m\n",
      "\u001b[31m2018-12-21 17:42:34,337 INFO [59]#011train-auc:0.997885#011validation-auc:0.996997\u001b[0m\n",
      "\u001b[31m2018-12-21 17:42:35,144 INFO [60]#011train-auc:0.997885#011validation-auc:0.996997\u001b[0m\n",
      "\u001b[31m2018-12-21 17:42:35,933 INFO [61]#011train-auc:0.997885#011validation-auc:0.996997\u001b[0m\n",
      "\u001b[31m2018-12-21 17:42:36,678 INFO [62]#011train-auc:0.997885#011validation-auc:0.996997\u001b[0m\n",
      "\u001b[31m2018-12-21 17:42:37,381 INFO [63]#011train-auc:0.997885#011validation-auc:0.996997\u001b[0m\n",
      "\u001b[31m2018-12-21 17:42:38,144 INFO [64]#011train-auc:0.997885#011validation-auc:0.996997\u001b[0m\n",
      "\u001b[31m2018-12-21 17:42:38,849 INFO [65]#011train-auc:0.997885#011validation-auc:0.996921\u001b[0m\n",
      "\u001b[31m2018-12-21 17:42:39,582 INFO [66]#011train-auc:0.997885#011validation-auc:0.996921\u001b[0m\n",
      "\u001b[31m2018-12-21 17:42:40,276 INFO [67]#011train-auc:0.997885#011validation-auc:0.996921\u001b[0m\n",
      "\u001b[31m2018-12-21 17:42:40,980 INFO [68]#011train-auc:0.997885#011validation-auc:0.996921\u001b[0m\n",
      "\u001b[31m2018-12-21 17:42:41,681 INFO [69]#011train-auc:0.997885#011validation-auc:0.996921\u001b[0m\n",
      "\u001b[31m2018-12-21 17:42:42,319 INFO [70]#011train-auc:0.997885#011validation-auc:0.996921\u001b[0m\n",
      "\u001b[31m2018-12-21 17:42:42,989 INFO [71]#011train-auc:0.997885#011validation-auc:0.996921\u001b[0m\n",
      "\u001b[31m2018-12-21 17:42:43,723 INFO [72]#011train-auc:0.997885#011validation-auc:0.996921\u001b[0m\n",
      "\u001b[31m2018-12-21 17:42:44,473 INFO [73]#011train-auc:0.997885#011validation-auc:0.996921\u001b[0m\n",
      "\u001b[31m2018-12-21 17:42:45,175 INFO [74]#011train-auc:0.997885#011validation-auc:0.996921\u001b[0m\n",
      "\u001b[31m2018-12-21 17:42:45,901 INFO [75]#011train-auc:0.997885#011validation-auc:0.996921\u001b[0m\n",
      "\u001b[31m2018-12-21 17:42:46,631 INFO [76]#011train-auc:0.997885#011validation-auc:0.996921\u001b[0m\n",
      "\u001b[31m2018-12-21 17:42:47,347 INFO [77]#011train-auc:0.997885#011validation-auc:0.996921\u001b[0m\n",
      "\u001b[31m2018-12-21 17:42:48,043 INFO [78]#011train-auc:0.997864#011validation-auc:0.996865\u001b[0m\n",
      "\u001b[31m2018-12-21 17:42:48,766 INFO [79]#011train-auc:0.997864#011validation-auc:0.996865\u001b[0m\n",
      "\u001b[31m2018-12-21 17:42:49,519 INFO [80]#011train-auc:0.997864#011validation-auc:0.996865\u001b[0m\n",
      "\u001b[31m2018-12-21 17:42:50,223 INFO [81]#011train-auc:0.997864#011validation-auc:0.996865\u001b[0m\n",
      "\u001b[31m2018-12-21 17:42:50,943 INFO [82]#011train-auc:0.997861#011validation-auc:0.996859\u001b[0m\n",
      "\u001b[31m2018-12-21 17:42:51,626 INFO [83]#011train-auc:0.997861#011validation-auc:0.996859\u001b[0m\n",
      "\u001b[31m2018-12-21 17:42:52,464 INFO [84]#011train-auc:0.997861#011validation-auc:0.996859\u001b[0m\n",
      "\u001b[31m2018-12-21 17:42:53,217 INFO [85]#011train-auc:0.99786#011validation-auc:0.996862\u001b[0m\n",
      "\u001b[31m2018-12-21 17:42:53,899 INFO [86]#011train-auc:0.99786#011validation-auc:0.996862\u001b[0m\n",
      "\u001b[31m2018-12-21 17:42:54,554 INFO [87]#011train-auc:0.99786#011validation-auc:0.996862\u001b[0m\n",
      "\u001b[31m2018-12-21 17:42:55,269 INFO [88]#011train-auc:0.997926#011validation-auc:0.99703\u001b[0m\n",
      "\u001b[31m2018-12-21 17:42:55,956 INFO [89]#011train-auc:0.997926#011validation-auc:0.99703\u001b[0m\n",
      "\u001b[31m2018-12-21 17:42:56,631 INFO [90]#011train-auc:0.997926#011validation-auc:0.99703\u001b[0m\n",
      "\u001b[31m2018-12-21 17:42:57,362 INFO [91]#011train-auc:0.997926#011validation-auc:0.99703\u001b[0m\n",
      "\u001b[31m2018-12-21 17:42:58,078 INFO [92]#011train-auc:0.997926#011validation-auc:0.99703\u001b[0m\n",
      "\u001b[31m2018-12-21 17:42:58,681 INFO [93]#011train-auc:0.997926#011validation-auc:0.99703\u001b[0m\n",
      "\u001b[31m2018-12-21 17:42:59,367 INFO [94]#011train-auc:0.997926#011validation-auc:0.99703\u001b[0m\n",
      "\u001b[31m2018-12-21 17:43:00,078 INFO [95]#011train-auc:0.997926#011validation-auc:0.99703\u001b[0m\n",
      "\u001b[31m2018-12-21 17:43:00,753 INFO [96]#011train-auc:0.997926#011validation-auc:0.99703\u001b[0m\n",
      "\u001b[31m2018-12-21 17:43:01,505 INFO [97]#011train-auc:0.997926#011validation-auc:0.99703\u001b[0m\n",
      "\u001b[31m2018-12-21 17:43:02,211 INFO [98]#011train-auc:0.997926#011validation-auc:0.99703\u001b[0m\n",
      "\u001b[31m2018-12-21 17:43:02,925 INFO [99]#011train-auc:0.997926#011validation-auc:0.99703\u001b[0m\n",
      "\u001b[31m2018-12-21 17:43:02,937 INFO Finished training\u001b[0m\n",
      "\u001b[31m2018-12-21 17:43:02,938 INFO Finished training\u001b[0m\n",
      "\u001b[31m2018-12-21 17:43:02,938 INFO Finished training\u001b[0m\n",
      "\u001b[31m2018-12-21 17:43:02,939 INFO Finished training\u001b[0m\n",
      "\u001b[31m2018-12-21 17:43:02,940 INFO @tracker All nodes finishes job\u001b[0m\n",
      "\u001b[31m2018-12-21 17:43:02,940 INFO @tracker 71.4233419895 secs between node start and job finish\u001b[0m\n",
      "\u001b[32m[2018-12-21:17:44:02:INFO] Master host is not alive. Training might have finished. Shutting down.... Check the logs for algo-1 machine.\u001b[0m\n",
      "\u001b[33m[2018-12-21:17:44:03:INFO] Master host is not alive. Training might have finished. Shutting down.... Check the logs for algo-1 machine.\u001b[0m\n",
      "\u001b[34m[2018-12-21:17:44:04:INFO] Master host is not alive. Training might have finished. Shutting down.... Check the logs for algo-1 machine.\u001b[0m\n",
      "Billable seconds: 734\n"
     ]
    },
    {
     "name": "stderr",
     "output_type": "stream",
     "text": [
      "INFO:sagemaker:Creating endpoint with name anomaly-xgboost-hpt--181221-1713-015-5bde2681\n"
     ]
    },
    {
     "name": "stdout",
     "output_type": "stream",
     "text": [
      "--------------------------------------------------------------------------!"
     ]
    }
   ],
   "source": [
    "xgb_hpt_predictor = tuner.deploy(initial_instance_count=1,\n",
    "                           instance_type='ml.m4.xlarge')"
   ]
  },
  {
   "cell_type": "code",
   "execution_count": null,
   "metadata": {},
   "outputs": [],
   "source": [
    "#sagemaker.Session().delete_endpoint(xgb_predictor.endpoint)"
   ]
  },
  {
   "cell_type": "markdown",
   "metadata": {},
   "source": [
    "## Test again"
   ]
  },
  {
   "cell_type": "code",
   "execution_count": 133,
   "metadata": {},
   "outputs": [],
   "source": [
    "xgb_hpt_predictor.content_type = 'text/csv'\n",
    "xgb_hpt_predictor.serializer = csv_serializer\n",
    "xgb_hpt_predictor.deserializer = None\n",
    "\n",
    "def hpt_predict(data, rows=500):\n",
    "    split_array = np.array_split(data, int(data.shape[0] / float(rows) + 1))\n",
    "    predictions = ''\n",
    "    for array in split_array:\n",
    "        predictions = ','.join([predictions, xgb_hpt_predictor.predict(array).decode('utf-8')])\n",
    "\n",
    "    return np.fromstring(predictions[1:], sep=',')\n",
    "\n",
    "predictions = hpt_predict(test_data.as_matrix()[:, 1:])"
   ]
  },
  {
   "cell_type": "code",
   "execution_count": 134,
   "metadata": {},
   "outputs": [
    {
     "data": {
      "text/html": [
       "<div>\n",
       "<style scoped>\n",
       "    .dataframe tbody tr th:only-of-type {\n",
       "        vertical-align: middle;\n",
       "    }\n",
       "\n",
       "    .dataframe tbody tr th {\n",
       "        vertical-align: top;\n",
       "    }\n",
       "\n",
       "    .dataframe thead th {\n",
       "        text-align: right;\n",
       "    }\n",
       "</style>\n",
       "<table border=\"1\" class=\"dataframe\">\n",
       "  <thead>\n",
       "    <tr style=\"text-align: right;\">\n",
       "      <th>predictions</th>\n",
       "      <th>0.0</th>\n",
       "      <th>1.0</th>\n",
       "    </tr>\n",
       "    <tr>\n",
       "      <th>actual</th>\n",
       "      <th></th>\n",
       "      <th></th>\n",
       "    </tr>\n",
       "  </thead>\n",
       "  <tbody>\n",
       "    <tr>\n",
       "      <th>0</th>\n",
       "      <td>635443</td>\n",
       "      <td>9</td>\n",
       "    </tr>\n",
       "    <tr>\n",
       "      <th>1</th>\n",
       "      <td>240</td>\n",
       "      <td>569</td>\n",
       "    </tr>\n",
       "  </tbody>\n",
       "</table>\n",
       "</div>"
      ],
      "text/plain": [
       "predictions     0.0  1.0\n",
       "actual                  \n",
       "0            635443    9\n",
       "1               240  569"
      ]
     },
     "execution_count": 134,
     "metadata": {},
     "output_type": "execute_result"
    }
   ],
   "source": [
    "hpt_conf_matrix = pd.crosstab(index=test_data.iloc[:, 0], columns=np.round(predictions), rownames=['actual'], colnames=['predictions'])\n",
    "hpt_conf_matrix"
   ]
  },
  {
   "cell_type": "code",
   "execution_count": 137,
   "metadata": {},
   "outputs": [
    {
     "name": "stdout",
     "output_type": "stream",
     "text": [
      " accuracy = 99.96%\n",
      "precision = 98.44%\n",
      "   recall = 70.33%\n",
      " F1 score = 41.02\n"
     ]
    }
   ],
   "source": [
    "tp = hpt_conf_matrix[1][1]\n",
    "tn = hpt_conf_matrix[0][0]\n",
    "fp = hpt_conf_matrix[1][0]\n",
    "fn = hpt_conf_matrix[0][1]\n",
    "precision = tp / (tp + fp)\n",
    "recall = tp / (tp + fn)\n",
    "print(f' accuracy = {100.0 * (tp + tn)/(tp + tn + fp + fn):.2f}%')\n",
    "print(f'precision = {100.0 * precision:.2f}%')\n",
    "print(f'   recall = {100.0 * recall:.2f}%')\n",
    "print(f' F1 score = {100.0 * precision * recall / (precision + recall):.2f}')"
   ]
  },
  {
   "cell_type": "code",
   "execution_count": 150,
   "metadata": {},
   "outputs": [],
   "source": [
    "from sklearn.metrics import f1_score, accuracy_score\n",
    "import seaborn as sns\n",
    "\n",
    "label_map = {0:'Normal', 1:'Fraud'}\n",
    "\n",
    "def evaluate_metrics(test_preds, test_labels):\n",
    "    # calculate overall scored\n",
    "    accuracy = (test_preds == test_labels).sum() / test_labels.shape[0]\n",
    "    f1_macro = f1_score(test_labels, test_preds, average='macro')\n",
    "    \n",
    "    # calculate recall for each class\n",
    "    recall_per_class, classes = [], []\n",
    "    for target_label in np.unique(test_labels):\n",
    "        recall_numerator = np.logical_and(test_preds == target_label, test_labels == target_label).sum()\n",
    "        recall_denominator = (test_labels == target_label).sum()\n",
    "        recall_per_class.append(recall_numerator / recall_denominator)\n",
    "        classes.append(label_map[target_label])\n",
    "    recall = pd.DataFrame({'recall': recall_per_class, 'class_label': classes})\n",
    "    recall.sort_values('class_label', ascending=False, inplace=True)\n",
    "\n",
    "    # calculate confusion matrix\n",
    "    label_mapper = np.vectorize(lambda x: label_map[x])\n",
    "    confusion_matrix = pd.crosstab(label_mapper(test_labels), label_mapper(test_preds), \n",
    "                                   rownames=['Actuals'], colnames=['Predictions'], normalize='index')\n",
    "\n",
    "    # display results\n",
    "    sns.heatmap(confusion_matrix, annot=True, fmt='.2f', cmap=\"YlGnBu\").set_title('Confusion Matrix')  \n",
    "    ax = recall.plot(kind='barh', x='class_label', y='recall', color='steelblue', title='Recall', legend=False)\n",
    "    ax.set_ylabel('')\n",
    "    print('Accuracy: {:.10f}'.format(accuracy))\n",
    "    print('F1 Score: {:.3f}'.format(f1_macro))"
   ]
  },
  {
   "cell_type": "code",
   "execution_count": 151,
   "metadata": {},
   "outputs": [
    {
     "name": "stdout",
     "output_type": "stream",
     "text": [
      "Accuracy: 0.9996086512\n",
      "F1 Score: 0.910\n"
     ]
    },
    {
     "data": {
      "image/png": "[encoded data removed]",
      "text/plain": [
       "<Figure size 432x288 with 2 Axes>"
      ]
     },
     "metadata": {},
     "output_type": "display_data"
    },
    {
     "data": {
      "image/png": "[encoded data removed]",
      "text/plain": [
       "<Figure size 432x288 with 1 Axes>"
      ]
     },
     "metadata": {},
     "output_type": "display_data"
    }
   ],
   "source": [
    "evaluate_metrics(np.round(predictions), test_data['isFraud'])"
   ]
  },
  {
   "cell_type": "code",
   "execution_count": 162,
   "metadata": {},
   "outputs": [
    {
     "data": {
      "text/plain": [
       "Text(0.5,1,'2-class Precision-Recall curve: AP=0.80')"
      ]
     },
     "execution_count": 162,
     "metadata": {},
     "output_type": "execute_result"
    },
    {
     "data": {
      "image/png": "[encoded data removed]",
      "text/plain": [
       "<Figure size 432x288 with 1 Axes>"
      ]
     },
     "metadata": {},
     "output_type": "display_data"
    }
   ],
   "source": [
    "from sklearn.utils.fixes import signature\n",
    "from sklearn.metrics import precision_recall_curve\n",
    "from sklearn.metrics import average_precision_score\n",
    "\n",
    "average_precision = average_precision_score(test_data['isFraud'], predictions)\n",
    "\n",
    "precision, recall, _ = precision_recall_curve(test_data['isFraud'], predictions)\n",
    "\n",
    "# In matplotlib < 1.5, plt.fill_between does not have a 'step' argument\n",
    "step_kwargs = ({'step': 'post'}\n",
    "               if 'step' in signature(plt.fill_between).parameters\n",
    "               else {})\n",
    "plt.step(recall, precision, color='b', alpha=0.2,\n",
    "         where='post')\n",
    "plt.fill_between(recall, precision, alpha=0.2, color='b', **step_kwargs)\n",
    "\n",
    "plt.xlabel('Recall')\n",
    "plt.ylabel('Precision')\n",
    "plt.ylim([0.0, 1.05])\n",
    "plt.xlim([0.0, 1.0])\n",
    "plt.title('2-class Precision-Recall curve: AP={0:0.2f}'.format(\n",
    "          average_precision))"
   ]
  }
 ],
 "metadata": {
  "kernelspec": {
   "display_name": "conda_python3",
   "language": "python",
   "name": "conda_python3"
  },
  "language_info": {
   "codemirror_mode": {
    "name": "ipython",
    "version": 3
   },
   "file_extension": ".py",
   "mimetype": "text/x-python",
   "name": "python",
   "nbconvert_exporter": "python",
   "pygments_lexer": "ipython3",
   "version": "3.6.5"
  }
 },
 "nbformat": 4,
 "nbformat_minor": 2
}
